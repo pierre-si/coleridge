{
 "metadata": {
  "language_info": {
   "codemirror_mode": {
    "name": "ipython",
    "version": 3
   },
   "file_extension": ".py",
   "mimetype": "text/x-python",
   "name": "python",
   "nbconvert_exporter": "python",
   "pygments_lexer": "ipython3",
   "version": "3.9.2"
  },
  "orig_nbformat": 2,
  "kernelspec": {
   "name": "python3",
   "display_name": "Python 3.9.2 64-bit",
   "metadata": {
    "interpreter": {
     "hash": "31f2aee4e71d21fbe5cf8b01ff0e069b9275f58929596ceb00d14d90e3e16cd6"
    }
   }
  }
 },
 "nbformat": 4,
 "nbformat_minor": 2,
 "cells": [
  {
   "source": [
    "The purpose of this notebook is to retrieve the sentences from which the dataset labels are extracted in the publications, as well as the name of the section where they are located."
   ],
   "cell_type": "markdown",
   "metadata": {}
  },
  {
   "cell_type": "code",
   "execution_count": 1,
   "metadata": {},
   "outputs": [],
   "source": [
    "import re\n",
    "\n",
    "import json\n",
    "import pandas as pd\n",
    "import numpy as np\n",
    "import nltk\n",
    "from tqdm import tqdm"
   ]
  },
  {
   "cell_type": "code",
   "execution_count": 2,
   "metadata": {},
   "outputs": [],
   "source": [
    "DATA_PATH = '../input/challenge-data/train/'"
   ]
  },
  {
   "cell_type": "code",
   "execution_count": 3,
   "metadata": {},
   "outputs": [],
   "source": [
    "def clean_text(txt):\n",
    "    return re.sub('[^A-Za-z0-9]+', ' ', str(txt).lower()).strip()"
   ]
  },
  {
   "cell_type": "code",
   "execution_count": 6,
   "metadata": {},
   "outputs": [
    {
     "output_type": "execute_result",
     "data": {
      "text/plain": [
       "                                         Id  \\\n",
       "0      d0fa7568-7d8e-4db9-870f-f9c6f668c17b   \n",
       "1      2f26f645-3dec-485d-b68d-f013c9e05e60   \n",
       "2      c5d5cd2c-59de-4f29-bbb1-6a88c7b52f29   \n",
       "3      5c9a3bc9-41ba-4574-ad71-e25c1442c8af   \n",
       "4      c754dec7-c5a3-4337-9892-c02158475064   \n",
       "...                                     ...   \n",
       "19656  b3498176-8832-4033-aea6-b5ea85ea04c4   \n",
       "19657  f77eb51f-c3ac-420b-9586-cb187849c321   \n",
       "19658  ab59bcdd-7b7c-4107-93f5-0ccaf749236c   \n",
       "19659  fd23e7e0-a5d2-4f98-992d-9209c85153bb   \n",
       "19660  fd23e7e0-a5d2-4f98-992d-9209c85153bb   \n",
       "\n",
       "                                               pub_title  \\\n",
       "0      The Impact of Dual Enrollment on College Degre...   \n",
       "1      Educational Attainment of High School Dropouts...   \n",
       "2      Differences in Outcomes for Female and Male St...   \n",
       "3      Stepping Stone and Option Value in a Model of ...   \n",
       "4      Parental Effort, School Resources, and Student...   \n",
       "...                                                  ...   \n",
       "19656  RSNA International Trends: A Global Perspectiv...   \n",
       "19657  MCCS: a novel recognition pattern-based method...   \n",
       "19658  Quantitative Structure–Activity Relationship M...   \n",
       "19659  A ligand-based computational drug repurposing ...   \n",
       "19660  A ligand-based computational drug repurposing ...   \n",
       "\n",
       "                                           dataset_title  \\\n",
       "0                  National Education Longitudinal Study   \n",
       "1                  National Education Longitudinal Study   \n",
       "2                  National Education Longitudinal Study   \n",
       "3                  National Education Longitudinal Study   \n",
       "4                  National Education Longitudinal Study   \n",
       "...                                                  ...   \n",
       "19656  RSNA International COVID-19 Open Radiology Dat...   \n",
       "19657  CAS COVID-19 antiviral candidate compounds dat...   \n",
       "19658  CAS COVID-19 antiviral candidate compounds dat...   \n",
       "19659  CAS COVID-19 antiviral candidate compounds dat...   \n",
       "19660  CAS COVID-19 antiviral candidate compounds dat...   \n",
       "\n",
       "                                           dataset_label  \\\n",
       "0                  National Education Longitudinal Study   \n",
       "1                  National Education Longitudinal Study   \n",
       "2                  National Education Longitudinal Study   \n",
       "3                  National Education Longitudinal Study   \n",
       "4                  National Education Longitudinal Study   \n",
       "...                                                  ...   \n",
       "19656   RSNA International COVID Open Radiology Database   \n",
       "19657  CAS COVID-19 antiviral candidate compounds dat...   \n",
       "19658  CAS COVID-19 antiviral candidate compounds dat...   \n",
       "19659  CAS COVID-19 antiviral candidate compounds dat...   \n",
       "19660    CAS COVID-19 antiviral candidate compounds data   \n",
       "\n",
       "                                           cleaned_label  \n",
       "0                  national education longitudinal study  \n",
       "1                  national education longitudinal study  \n",
       "2                  national education longitudinal study  \n",
       "3                  national education longitudinal study  \n",
       "4                  national education longitudinal study  \n",
       "...                                                  ...  \n",
       "19656   rsna international covid open radiology database  \n",
       "19657  cas covid 19 antiviral candidate compounds dat...  \n",
       "19658  cas covid 19 antiviral candidate compounds dat...  \n",
       "19659  cas covid 19 antiviral candidate compounds dat...  \n",
       "19660    cas covid 19 antiviral candidate compounds data  \n",
       "\n",
       "[19661 rows x 5 columns]"
      ],
      "text/html": "<div>\n<style scoped>\n    .dataframe tbody tr th:only-of-type {\n        vertical-align: middle;\n    }\n\n    .dataframe tbody tr th {\n        vertical-align: top;\n    }\n\n    .dataframe thead th {\n        text-align: right;\n    }\n</style>\n<table border=\"1\" class=\"dataframe\">\n  <thead>\n    <tr style=\"text-align: right;\">\n      <th></th>\n      <th>Id</th>\n      <th>pub_title</th>\n      <th>dataset_title</th>\n      <th>dataset_label</th>\n      <th>cleaned_label</th>\n    </tr>\n  </thead>\n  <tbody>\n    <tr>\n      <th>0</th>\n      <td>d0fa7568-7d8e-4db9-870f-f9c6f668c17b</td>\n      <td>The Impact of Dual Enrollment on College Degre...</td>\n      <td>National Education Longitudinal Study</td>\n      <td>National Education Longitudinal Study</td>\n      <td>national education longitudinal study</td>\n    </tr>\n    <tr>\n      <th>1</th>\n      <td>2f26f645-3dec-485d-b68d-f013c9e05e60</td>\n      <td>Educational Attainment of High School Dropouts...</td>\n      <td>National Education Longitudinal Study</td>\n      <td>National Education Longitudinal Study</td>\n      <td>national education longitudinal study</td>\n    </tr>\n    <tr>\n      <th>2</th>\n      <td>c5d5cd2c-59de-4f29-bbb1-6a88c7b52f29</td>\n      <td>Differences in Outcomes for Female and Male St...</td>\n      <td>National Education Longitudinal Study</td>\n      <td>National Education Longitudinal Study</td>\n      <td>national education longitudinal study</td>\n    </tr>\n    <tr>\n      <th>3</th>\n      <td>5c9a3bc9-41ba-4574-ad71-e25c1442c8af</td>\n      <td>Stepping Stone and Option Value in a Model of ...</td>\n      <td>National Education Longitudinal Study</td>\n      <td>National Education Longitudinal Study</td>\n      <td>national education longitudinal study</td>\n    </tr>\n    <tr>\n      <th>4</th>\n      <td>c754dec7-c5a3-4337-9892-c02158475064</td>\n      <td>Parental Effort, School Resources, and Student...</td>\n      <td>National Education Longitudinal Study</td>\n      <td>National Education Longitudinal Study</td>\n      <td>national education longitudinal study</td>\n    </tr>\n    <tr>\n      <th>...</th>\n      <td>...</td>\n      <td>...</td>\n      <td>...</td>\n      <td>...</td>\n      <td>...</td>\n    </tr>\n    <tr>\n      <th>19656</th>\n      <td>b3498176-8832-4033-aea6-b5ea85ea04c4</td>\n      <td>RSNA International Trends: A Global Perspectiv...</td>\n      <td>RSNA International COVID-19 Open Radiology Dat...</td>\n      <td>RSNA International COVID Open Radiology Database</td>\n      <td>rsna international covid open radiology database</td>\n    </tr>\n    <tr>\n      <th>19657</th>\n      <td>f77eb51f-c3ac-420b-9586-cb187849c321</td>\n      <td>MCCS: a novel recognition pattern-based method...</td>\n      <td>CAS COVID-19 antiviral candidate compounds dat...</td>\n      <td>CAS COVID-19 antiviral candidate compounds dat...</td>\n      <td>cas covid 19 antiviral candidate compounds dat...</td>\n    </tr>\n    <tr>\n      <th>19658</th>\n      <td>ab59bcdd-7b7c-4107-93f5-0ccaf749236c</td>\n      <td>Quantitative Structure–Activity Relationship M...</td>\n      <td>CAS COVID-19 antiviral candidate compounds dat...</td>\n      <td>CAS COVID-19 antiviral candidate compounds dat...</td>\n      <td>cas covid 19 antiviral candidate compounds dat...</td>\n    </tr>\n    <tr>\n      <th>19659</th>\n      <td>fd23e7e0-a5d2-4f98-992d-9209c85153bb</td>\n      <td>A ligand-based computational drug repurposing ...</td>\n      <td>CAS COVID-19 antiviral candidate compounds dat...</td>\n      <td>CAS COVID-19 antiviral candidate compounds dat...</td>\n      <td>cas covid 19 antiviral candidate compounds dat...</td>\n    </tr>\n    <tr>\n      <th>19660</th>\n      <td>fd23e7e0-a5d2-4f98-992d-9209c85153bb</td>\n      <td>A ligand-based computational drug repurposing ...</td>\n      <td>CAS COVID-19 antiviral candidate compounds dat...</td>\n      <td>CAS COVID-19 antiviral candidate compounds data</td>\n      <td>cas covid 19 antiviral candidate compounds data</td>\n    </tr>\n  </tbody>\n</table>\n<p>19661 rows × 5 columns</p>\n</div>"
     },
     "metadata": {},
     "execution_count": 6
    }
   ],
   "source": [
    "train = pd.read_csv('../input/challenge-data/train.csv')\n",
    "train"
   ]
  },
  {
   "cell_type": "code",
   "execution_count": 23,
   "metadata": {},
   "outputs": [
    {
     "output_type": "stream",
     "name": "stderr",
     "text": [
      "19661it [05:34, 58.73it/s] \n"
     ]
    }
   ],
   "source": [
    "locations = []\n",
    "# lenteurs 14800, 16686\n",
    "for id, row in tqdm(train.iterrows()):\n",
    "    with open(DATA_PATH+row.Id+'.json') as f:\n",
    "        f1 = json.load(f)\n",
    "    for section in f1:\n",
    "        sentences = nltk.tokenize.sent_tokenize(section['text'])\n",
    "        for sentence in sentences:\n",
    "            if row.dataset_label in sentence:\n",
    "                locations.append([row.Id, section['section_title'], sentence, row.dataset_label])"
   ]
  },
  {
   "cell_type": "code",
   "execution_count": 8,
   "metadata": {
    "tags": []
   },
   "outputs": [
    {
     "output_type": "stream",
     "name": "stderr",
     "text": [
      "19661it [07:26, 44.05it/s]\n"
     ]
    }
   ],
   "source": [
    "locations = []\n",
    "for id, row in tqdm(train.iterrows()):\n",
    "    with open(DATA_PATH+row.Id+'.json') as f:\n",
    "        f1 = json.load(f)\n",
    "    for section in f1:\n",
    "        sentences = nltk.tokenize.sent_tokenize(section['text'])\n",
    "        for sentence in sentences:\n",
    "            cleaned_sentence = clean_text(sentence)\n",
    "            if row.cleaned_label in cleaned_sentence:\n",
    "                locations.append([row.Id, section['section_title'], cleaned_sentence, row.cleaned_label])"
   ]
  },
  {
   "cell_type": "code",
   "execution_count": 26,
   "metadata": {},
   "outputs": [
    {
     "output_type": "execute_result",
     "data": {
      "text/plain": [
       "54804"
      ]
     },
     "metadata": {},
     "execution_count": 26
    }
   ],
   "source": [
    "locations_df = pd.DataFrame(locations, columns = ['Id', 'section_title', 'sentence', 'dataset_label'])\n",
    "len(locations_df)"
   ]
  },
  {
   "cell_type": "code",
   "execution_count": 10,
   "metadata": {},
   "outputs": [],
   "source": [
    "# /!\\ si un dataset_label est une sous-chaîne d'un autre, alors les phrases récupérées pour le second seront aussi récupérées par le premier."
   ]
  },
  {
   "cell_type": "code",
   "execution_count": 27,
   "metadata": {},
   "outputs": [
    {
     "output_type": "execute_result",
     "data": {
      "text/plain": [
       "                                        Id section_title  \\\n",
       "1003  eefeaeea-af30-4ba6-b23c-9f86a3f50482                 \n",
       "2840  eefeaeea-af30-4ba6-b23c-9f86a3f50482                 \n",
       "\n",
       "                                               sentence  \\\n",
       "1003  In contrast, the Baltimore Longitudinal Study ...   \n",
       "2840  In contrast, the Baltimore Longitudinal Study ...   \n",
       "\n",
       "                                     dataset_label  \n",
       "1003  Baltimore Longitudinal Study of Aging (BLSA)  \n",
       "2840         Baltimore Longitudinal Study of Aging  "
      ],
      "text/html": "<div>\n<style scoped>\n    .dataframe tbody tr th:only-of-type {\n        vertical-align: middle;\n    }\n\n    .dataframe tbody tr th {\n        vertical-align: top;\n    }\n\n    .dataframe thead th {\n        text-align: right;\n    }\n</style>\n<table border=\"1\" class=\"dataframe\">\n  <thead>\n    <tr style=\"text-align: right;\">\n      <th></th>\n      <th>Id</th>\n      <th>section_title</th>\n      <th>sentence</th>\n      <th>dataset_label</th>\n    </tr>\n  </thead>\n  <tbody>\n    <tr>\n      <th>1003</th>\n      <td>eefeaeea-af30-4ba6-b23c-9f86a3f50482</td>\n      <td></td>\n      <td>In contrast, the Baltimore Longitudinal Study ...</td>\n      <td>Baltimore Longitudinal Study of Aging (BLSA)</td>\n    </tr>\n    <tr>\n      <th>2840</th>\n      <td>eefeaeea-af30-4ba6-b23c-9f86a3f50482</td>\n      <td></td>\n      <td>In contrast, the Baltimore Longitudinal Study ...</td>\n      <td>Baltimore Longitudinal Study of Aging</td>\n    </tr>\n  </tbody>\n</table>\n</div>"
     },
     "metadata": {},
     "execution_count": 27
    }
   ],
   "source": [
    "locations_df.loc[(locations_df.Id == 'eefeaeea-af30-4ba6-b23c-9f86a3f50482') & (locations_df.sentence == 'In contrast, the Baltimore Longitudinal Study of Aging (BLSA) found that in men, higher levels of testosterone were associated with a decrease in arterial stiffness over a 12-year followup.')]"
   ]
  },
  {
   "source": [
    "Data not totally clean"
   ],
   "cell_type": "markdown",
   "metadata": {}
  },
  {
   "cell_type": "code",
   "execution_count": 106,
   "metadata": {},
   "outputs": [],
   "source": [
    "#locations_df.loc[(locations_df.Id == 'dc23ed8c-f3ac-4c5b-a6a6-467a1a93a978') & (locations_df.section_title == 'B17FFEDACT') & (locations_df.sentence == 'SOURCE: U.S. Department of Education, National Center for Education Statistics, 2012/17 Beginning Postsecondary Students Longitudinal Study (BPS:12/17).')]"
   ]
  },
  {
   "cell_type": "code",
   "execution_count": 107,
   "metadata": {},
   "outputs": [],
   "source": [
    "#locations_df.loc[(locations_df.Id == 'b8076a2f-4677-43fe-8dfa-c94de4a6be29') & (locations_df.section_title == 'Key facts:') & (locations_df.sentence == 'Source: National Education Longitudinal Study (NELS:88).')]"
   ]
  },
  {
   "cell_type": "code",
   "execution_count": 103,
   "metadata": {},
   "outputs": [
    {
     "output_type": "execute_result",
     "data": {
      "text/plain": [
       "                                                                                                                                            count\n",
       "Id                                   section_title                                      sentence                                                 \n",
       "0007f880-0a9b-492d-9a58-76eb0b0e0bd7 Introduction                                       In fact, organizations are now identifying digi...      1\n",
       "a323c88e-d24e-414d-84b9-4e70117ce7c5 Polygenic risk score (PRS) analyses on all outc... This situation can be expected to improve somew...      1\n",
       "                                                                                        in ADNI), ours are the first to combine genomic...      1\n",
       "                                     Sample and phenotype description                   Replication data used in the preparation of thi...      1\n",
       "                                                                                        The ADNI was launched in 2003 as a public-priva...      1\n",
       "...                                                                                                                                           ...\n",
       "08a475b1-ed5d-4635-b358-7c91fc63e520 EDUCATIONAL AND LABOR MARKET OUTCOMES OF THE EL... NOTE: CTE = career and technical education; ELS...     18\n",
       "9801d54f-6181-45fb-a49c-552402a3019f U.S. TIMSS and PIRLS 2011 Technical Report and ... SOURCE: International Association for the Evalu...     18\n",
       "0606313f-1f86-4520-aac9-3cfecf20db11                                                    SOURCE: U.S. Department of Education, National ...     25\n",
       "b8076a2f-4677-43fe-8dfa-c94de4a6be29 Key facts:                                         Source: National Education Longitudinal Study (...     26\n",
       "dc23ed8c-f3ac-4c5b-a6a6-467a1a93a978 B17FFEDACT                                         SOURCE: U.S. Department of Education, National ...     32\n",
       "\n",
       "[47972 rows x 1 columns]"
      ],
      "text/html": "<div>\n<style scoped>\n    .dataframe tbody tr th:only-of-type {\n        vertical-align: middle;\n    }\n\n    .dataframe tbody tr th {\n        vertical-align: top;\n    }\n\n    .dataframe thead th {\n        text-align: right;\n    }\n</style>\n<table border=\"1\" class=\"dataframe\">\n  <thead>\n    <tr style=\"text-align: right;\">\n      <th></th>\n      <th></th>\n      <th></th>\n      <th>count</th>\n    </tr>\n    <tr>\n      <th>Id</th>\n      <th>section_title</th>\n      <th>sentence</th>\n      <th></th>\n    </tr>\n  </thead>\n  <tbody>\n    <tr>\n      <th>0007f880-0a9b-492d-9a58-76eb0b0e0bd7</th>\n      <th>Introduction</th>\n      <th>In fact, organizations are now identifying digital skills or computer literacy as one of their core values for employability (such as the US Department of Education, the US Department of commerce, the OECD Program for the International Assessment of Adult Competencies and the European Commission).</th>\n      <td>1</td>\n    </tr>\n    <tr>\n      <th rowspan=\"4\" valign=\"top\">a323c88e-d24e-414d-84b9-4e70117ce7c5</th>\n      <th rowspan=\"2\" valign=\"top\">Polygenic risk score (PRS) analyses on all outcome traits</th>\n      <th>This situation can be expected to improve somewhat once the phenotypic breadth in ADNI and other cohorts is extended.</th>\n      <td>1</td>\n    </tr>\n    <tr>\n      <th>in ADNI), ours are the first to combine genomic and biomarker data in the newly established EMIF-AD MBD dataset.</th>\n      <td>1</td>\n    </tr>\n    <tr>\n      <th rowspan=\"2\" valign=\"top\">Sample and phenotype description</th>\n      <th>Replication data used in the preparation of this article were obtained from the ADNI database (adni.loni.usc.edu).</th>\n      <td>1</td>\n    </tr>\n    <tr>\n      <th>The ADNI was launched in 2003 as a public-private partnership, led by Principal Investigator Michael W. Weiner, MD.</th>\n      <td>1</td>\n    </tr>\n    <tr>\n      <th>...</th>\n      <th>...</th>\n      <th>...</th>\n      <td>...</td>\n    </tr>\n    <tr>\n      <th>08a475b1-ed5d-4635-b358-7c91fc63e520</th>\n      <th>EDUCATIONAL AND LABOR MARKET OUTCOMES OF THE ELS COHORT</th>\n      <th>NOTE: CTE = career and technical education; ELS = Education Longitudinal Study of 2002; HSLS = High School Longitudinal Study of 2009.</th>\n      <td>18</td>\n    </tr>\n    <tr>\n      <th>9801d54f-6181-45fb-a49c-552402a3019f</th>\n      <th>U.S. TIMSS and PIRLS 2011 Technical Report and User's Guide</th>\n      <th>SOURCE: International Association for the Evaluation of Educational Achievement (IEA), Trends in International Mathematics and Science Study (TIMSS), 2011.</th>\n      <td>18</td>\n    </tr>\n    <tr>\n      <th>0606313f-1f86-4520-aac9-3cfecf20db11</th>\n      <th></th>\n      <th>SOURCE: U.S. Department of Education, National Center for Education Statistics, 2017â18 School Survey on Crime and Safety (SSOCS), 2018.</th>\n      <td>25</td>\n    </tr>\n    <tr>\n      <th>b8076a2f-4677-43fe-8dfa-c94de4a6be29</th>\n      <th>Key facts:</th>\n      <th>Source: National Education Longitudinal Study (NELS:88).</th>\n      <td>26</td>\n    </tr>\n    <tr>\n      <th>dc23ed8c-f3ac-4c5b-a6a6-467a1a93a978</th>\n      <th>B17FFEDACT</th>\n      <th>SOURCE: U.S. Department of Education, National Center for Education Statistics, 2012/17 Beginning Postsecondary Students Longitudinal Study (BPS:12/17).</th>\n      <td>32</td>\n    </tr>\n  </tbody>\n</table>\n<p>47972 rows × 1 columns</p>\n</div>"
     },
     "metadata": {},
     "execution_count": 103
    }
   ],
   "source": [
    "locations_df.groupby(['Id', 'section_title', 'sentence']).size().to_frame('count').sort_values('count')"
   ]
  },
  {
   "source": [
    "Afin de supprimer les phrases récupérées en double lorsqu'un dataset_label est une sous-chaine d'un autre, on trie par longueur de dataset_label descendante et on supprime les doublons.  \n",
    "/!\\ risque de supprimer des phrases où le même dataset est référencé plusieurs fois, une première avec la longue dénomination et une seconde fois avec la courte dénomination.  \n",
    "Éventuellent régler ça en amont, au moment de la récupération des phrases, d'autant plus que ça pourrait être intéressant de tester pour chaque publication toutes les dénominations des datasets qui y apparaissent plutôt que les dénominations reportées dans train.csv"
   ],
   "cell_type": "markdown",
   "metadata": {}
  },
  {
   "cell_type": "code",
   "execution_count": 28,
   "metadata": {},
   "outputs": [],
   "source": [
    "locations_df['label_length'] = locations_df['dataset_label'].str.len()"
   ]
  },
  {
   "cell_type": "code",
   "execution_count": 29,
   "metadata": {},
   "outputs": [],
   "source": [
    "locations_df.sort_values('label_length', ascending=False, inplace=True)"
   ]
  },
  {
   "cell_type": "code",
   "execution_count": 30,
   "metadata": {},
   "outputs": [],
   "source": [
    "locations_df = locations_df[~locations_df.duplicated(['Id', 'sentence', 'section_title'])].reset_index(drop=True)"
   ]
  },
  {
   "source": [
    "le doublon a bien été supprimé, et on a conservé le label le plus long:"
   ],
   "cell_type": "markdown",
   "metadata": {}
  },
  {
   "cell_type": "code",
   "execution_count": 117,
   "metadata": {},
   "outputs": [
    {
     "output_type": "execute_result",
     "data": {
      "text/plain": [
       "                                        Id section_title  \\\n",
       "6261  eefeaeea-af30-4ba6-b23c-9f86a3f50482                 \n",
       "\n",
       "                                               sentence  \\\n",
       "6261  In contrast, the Baltimore Longitudinal Study ...   \n",
       "\n",
       "                                     dataset_label  label_length  \n",
       "6261  Baltimore Longitudinal Study of Aging (BLSA)            44  "
      ],
      "text/html": "<div>\n<style scoped>\n    .dataframe tbody tr th:only-of-type {\n        vertical-align: middle;\n    }\n\n    .dataframe tbody tr th {\n        vertical-align: top;\n    }\n\n    .dataframe thead th {\n        text-align: right;\n    }\n</style>\n<table border=\"1\" class=\"dataframe\">\n  <thead>\n    <tr style=\"text-align: right;\">\n      <th></th>\n      <th>Id</th>\n      <th>section_title</th>\n      <th>sentence</th>\n      <th>dataset_label</th>\n      <th>label_length</th>\n    </tr>\n  </thead>\n  <tbody>\n    <tr>\n      <th>6261</th>\n      <td>eefeaeea-af30-4ba6-b23c-9f86a3f50482</td>\n      <td></td>\n      <td>In contrast, the Baltimore Longitudinal Study ...</td>\n      <td>Baltimore Longitudinal Study of Aging (BLSA)</td>\n      <td>44</td>\n    </tr>\n  </tbody>\n</table>\n</div>"
     },
     "metadata": {},
     "execution_count": 117
    }
   ],
   "source": [
    "locations_df.loc[(locations_df.Id == 'eefeaeea-af30-4ba6-b23c-9f86a3f50482')& (locations_df.sentence == 'In contrast, the Baltimore Longitudinal Study of Aging (BLSA) found that in men, higher levels of testosterone were associated with a decrease in arterial stiffness over a 12-year followup.')]"
   ]
  },
  {
   "cell_type": "code",
   "execution_count": 31,
   "metadata": {},
   "outputs": [
    {
     "output_type": "execute_result",
     "data": {
      "text/plain": [
       "                                         Id  \\\n",
       "0      0007f880-0a9b-492d-9a58-76eb0b0e0bd7   \n",
       "1      0008656f-0ba2-4632-8602-3017b44c2e90   \n",
       "2      000e04d6-d6ef-442f-b070-4309493221ba   \n",
       "3      000e04d6-d6ef-442f-b070-4309493221ba   \n",
       "4      000efc17-13d8-433d-8f62-a3932fe4f3b8   \n",
       "...                                     ...   \n",
       "47967  ffd4d86a-0f26-44cc-baed-f0e209cc22af   \n",
       "47968  ffe7f334-245a-4de7-b600-d7ff4e28bfca   \n",
       "47969  ffeb3568-7aed-4dbe-b177-cbd7f46f34af   \n",
       "47970  ffee2676-a778-4521-b947-e1e420b126c5   \n",
       "47971  ffee2676-a778-4521-b947-e1e420b126c5   \n",
       "\n",
       "                                          section_title  \\\n",
       "0                                          Introduction   \n",
       "1                                     LITERATURE REVIEW   \n",
       "2        Example: Farm Income and Farm Household Wealth   \n",
       "3                                            Highlights   \n",
       "4                         ABCC9 and cerebral blood flow   \n",
       "...                                                 ...   \n",
       "47967                    II.1. MRI Brain Image database   \n",
       "47968          Characterization of the SARS-CoV-2 virus   \n",
       "47969  Polish research on the perception of mathematics   \n",
       "47970                                                     \n",
       "47971                                                     \n",
       "\n",
       "                                                sentence  \\\n",
       "0      In fact, organizations are now identifying dig...   \n",
       "1      International studies on student achievement, ...   \n",
       "2      The Agricultural Resources Management Survey (...   \n",
       "3      1 manages access to results of the Agricultura...   \n",
       "4      This was performed by measuring CBF in conveni...   \n",
       "...                                                  ...   \n",
       "47967  Data used in the preparation of this article w...   \n",
       "47968  Interestingly, the genome sequences of SARS-Co...   \n",
       "47969  as part of the Program for International Stude...   \n",
       "47970  My prior research illustrated, with use of Beg...   \n",
       "47971  Analysis considered first time Beginning Posts...   \n",
       "\n",
       "                                           dataset_label  label_length  \n",
       "0      Program for the International Assessment of Ad...            62  \n",
       "1      Trends in International Mathematics and Scienc...            53  \n",
       "2               Agricultural Resources Management Survey            40  \n",
       "3               Agricultural Resources Management Survey            40  \n",
       "4                                                   ADNI             4  \n",
       "...                                                  ...           ...  \n",
       "47967  Alzheimer's Disease Neuroimaging Initiative (A...            50  \n",
       "47968                     genome sequences of SARS-CoV-2            30  \n",
       "47969  Trends in International Mathematics and Scienc...            53  \n",
       "47970                    Beginning Postsecondary Student            31  \n",
       "47971                   Beginning Postsecondary Students            32  \n",
       "\n",
       "[47972 rows x 5 columns]"
      ],
      "text/html": "<div>\n<style scoped>\n    .dataframe tbody tr th:only-of-type {\n        vertical-align: middle;\n    }\n\n    .dataframe tbody tr th {\n        vertical-align: top;\n    }\n\n    .dataframe thead th {\n        text-align: right;\n    }\n</style>\n<table border=\"1\" class=\"dataframe\">\n  <thead>\n    <tr style=\"text-align: right;\">\n      <th></th>\n      <th>Id</th>\n      <th>section_title</th>\n      <th>sentence</th>\n      <th>dataset_label</th>\n      <th>label_length</th>\n    </tr>\n  </thead>\n  <tbody>\n    <tr>\n      <th>0</th>\n      <td>0007f880-0a9b-492d-9a58-76eb0b0e0bd7</td>\n      <td>Introduction</td>\n      <td>In fact, organizations are now identifying dig...</td>\n      <td>Program for the International Assessment of Ad...</td>\n      <td>62</td>\n    </tr>\n    <tr>\n      <th>1</th>\n      <td>0008656f-0ba2-4632-8602-3017b44c2e90</td>\n      <td>LITERATURE REVIEW</td>\n      <td>International studies on student achievement, ...</td>\n      <td>Trends in International Mathematics and Scienc...</td>\n      <td>53</td>\n    </tr>\n    <tr>\n      <th>2</th>\n      <td>000e04d6-d6ef-442f-b070-4309493221ba</td>\n      <td>Example: Farm Income and Farm Household Wealth</td>\n      <td>The Agricultural Resources Management Survey (...</td>\n      <td>Agricultural Resources Management Survey</td>\n      <td>40</td>\n    </tr>\n    <tr>\n      <th>3</th>\n      <td>000e04d6-d6ef-442f-b070-4309493221ba</td>\n      <td>Highlights</td>\n      <td>1 manages access to results of the Agricultura...</td>\n      <td>Agricultural Resources Management Survey</td>\n      <td>40</td>\n    </tr>\n    <tr>\n      <th>4</th>\n      <td>000efc17-13d8-433d-8f62-a3932fe4f3b8</td>\n      <td>ABCC9 and cerebral blood flow</td>\n      <td>This was performed by measuring CBF in conveni...</td>\n      <td>ADNI</td>\n      <td>4</td>\n    </tr>\n    <tr>\n      <th>...</th>\n      <td>...</td>\n      <td>...</td>\n      <td>...</td>\n      <td>...</td>\n      <td>...</td>\n    </tr>\n    <tr>\n      <th>47967</th>\n      <td>ffd4d86a-0f26-44cc-baed-f0e209cc22af</td>\n      <td>II.1. MRI Brain Image database</td>\n      <td>Data used in the preparation of this article w...</td>\n      <td>Alzheimer's Disease Neuroimaging Initiative (A...</td>\n      <td>50</td>\n    </tr>\n    <tr>\n      <th>47968</th>\n      <td>ffe7f334-245a-4de7-b600-d7ff4e28bfca</td>\n      <td>Characterization of the SARS-CoV-2 virus</td>\n      <td>Interestingly, the genome sequences of SARS-Co...</td>\n      <td>genome sequences of SARS-CoV-2</td>\n      <td>30</td>\n    </tr>\n    <tr>\n      <th>47969</th>\n      <td>ffeb3568-7aed-4dbe-b177-cbd7f46f34af</td>\n      <td>Polish research on the perception of mathematics</td>\n      <td>as part of the Program for International Stude...</td>\n      <td>Trends in International Mathematics and Scienc...</td>\n      <td>53</td>\n    </tr>\n    <tr>\n      <th>47970</th>\n      <td>ffee2676-a778-4521-b947-e1e420b126c5</td>\n      <td></td>\n      <td>My prior research illustrated, with use of Beg...</td>\n      <td>Beginning Postsecondary Student</td>\n      <td>31</td>\n    </tr>\n    <tr>\n      <th>47971</th>\n      <td>ffee2676-a778-4521-b947-e1e420b126c5</td>\n      <td></td>\n      <td>Analysis considered first time Beginning Posts...</td>\n      <td>Beginning Postsecondary Students</td>\n      <td>32</td>\n    </tr>\n  </tbody>\n</table>\n<p>47972 rows × 5 columns</p>\n</div>"
     },
     "metadata": {},
     "execution_count": 31
    }
   ],
   "source": [
    "locations_df.sort_values('Id', inplace=True)\n",
    "locations_df.reset_index(drop=True, inplace=True)\n",
    "locations_df"
   ]
  },
  {
   "cell_type": "code",
   "execution_count": 33,
   "metadata": {},
   "outputs": [],
   "source": [
    "# /!\\ the text fields include commas\n",
    "locations_df.to_csv('train_full-sentences.csv', sep='ç')"
   ]
  },
  {
   "source": [
    "# -------------"
   ],
   "cell_type": "markdown",
   "metadata": {}
  },
  {
   "cell_type": "code",
   "execution_count": 123,
   "metadata": {},
   "outputs": [
    {
     "output_type": "stream",
     "name": "stdout",
     "text": [
      "3581 994\n"
     ]
    }
   ],
   "source": [
    "print(sum(locations_df.duplicated('sentence')), sum(locations_df.duplicated(['sentence', 'section_title'])))"
   ]
  },
  {
   "cell_type": "code",
   "execution_count": 126,
   "metadata": {},
   "outputs": [
    {
     "output_type": "execute_result",
     "data": {
      "text/plain": [
       "                                                      Id  sentence  \\\n",
       "section_title                                                        \n",
       "Introduction                                        2940      2940   \n",
       "                                                    2808      2808   \n",
       "Discussion                                          2576      2576   \n",
       "Abstract                                            2563      2563   \n",
       "Subjects                                             847       847   \n",
       "...                                                  ...       ...   \n",
       "Case Study: U.S. Farm Household Adjustment to I...     1         1   \n",
       "Law of Ukraine \"On Innovation Activity\" (2002)         1         1   \n",
       "Case studies: Changes in Arabian Sea                   1         1   \n",
       "Laterality indices of basal ganglia volume             1         1   \n",
       "                                       1         1   \n",
       "\n",
       "                                                    dataset_label  \\\n",
       "section_title                                                       \n",
       "Introduction                                                 2940   \n",
       "                                                             2808   \n",
       "Discussion                                                   2576   \n",
       "Abstract                                                     2563   \n",
       "Subjects                                                      847   \n",
       "...                                                           ...   \n",
       "Case Study: U.S. Farm Household Adjustment to I...              1   \n",
       "Law of Ukraine \"On Innovation Activity\" (2002)                  1   \n",
       "Case studies: Changes in Arabian Sea                            1   \n",
       "Laterality indices of basal ganglia volume                      1   \n",
       "                                                1   \n",
       "\n",
       "                                                    label_length  \n",
       "section_title                                                     \n",
       "Introduction                                                2940  \n",
       "                                                            2808  \n",
       "Discussion                                                  2576  \n",
       "Abstract                                                    2563  \n",
       "Subjects                                                     847  \n",
       "...                                                          ...  \n",
       "Case Study: U.S. Farm Household Adjustment to I...             1  \n",
       "Law of Ukraine \"On Innovation Activity\" (2002)                 1  \n",
       "Case studies: Changes in Arabian Sea                           1  \n",
       "Laterality indices of basal ganglia volume                     1  \n",
       "                                               1  \n",
       "\n",
       "[13372 rows x 4 columns]"
      ],
      "text/html": "<div>\n<style scoped>\n    .dataframe tbody tr th:only-of-type {\n        vertical-align: middle;\n    }\n\n    .dataframe tbody tr th {\n        vertical-align: top;\n    }\n\n    .dataframe thead th {\n        text-align: right;\n    }\n</style>\n<table border=\"1\" class=\"dataframe\">\n  <thead>\n    <tr style=\"text-align: right;\">\n      <th></th>\n      <th>Id</th>\n      <th>sentence</th>\n      <th>dataset_label</th>\n      <th>label_length</th>\n    </tr>\n    <tr>\n      <th>section_title</th>\n      <th></th>\n      <th></th>\n      <th></th>\n      <th></th>\n    </tr>\n  </thead>\n  <tbody>\n    <tr>\n      <th>Introduction</th>\n      <td>2940</td>\n      <td>2940</td>\n      <td>2940</td>\n      <td>2940</td>\n    </tr>\n    <tr>\n      <th></th>\n      <td>2808</td>\n      <td>2808</td>\n      <td>2808</td>\n      <td>2808</td>\n    </tr>\n    <tr>\n      <th>Discussion</th>\n      <td>2576</td>\n      <td>2576</td>\n      <td>2576</td>\n      <td>2576</td>\n    </tr>\n    <tr>\n      <th>Abstract</th>\n      <td>2563</td>\n      <td>2563</td>\n      <td>2563</td>\n      <td>2563</td>\n    </tr>\n    <tr>\n      <th>Subjects</th>\n      <td>847</td>\n      <td>847</td>\n      <td>847</td>\n      <td>847</td>\n    </tr>\n    <tr>\n      <th>...</th>\n      <td>...</td>\n      <td>...</td>\n      <td>...</td>\n      <td>...</td>\n    </tr>\n    <tr>\n      <th>Case Study: U.S. Farm Household Adjustment to Income Shocks</th>\n      <td>1</td>\n      <td>1</td>\n      <td>1</td>\n      <td>1</td>\n    </tr>\n    <tr>\n      <th>Law of Ukraine \"On Innovation Activity\" (2002)</th>\n      <td>1</td>\n      <td>1</td>\n      <td>1</td>\n      <td>1</td>\n    </tr>\n    <tr>\n      <th>Case studies: Changes in Arabian Sea</th>\n      <td>1</td>\n      <td>1</td>\n      <td>1</td>\n      <td>1</td>\n    </tr>\n    <tr>\n      <th>Laterality indices of basal ganglia volume</th>\n      <td>1</td>\n      <td>1</td>\n      <td>1</td>\n      <td>1</td>\n    </tr>\n    <tr>\n      <th>  </th>\n      <td>1</td>\n      <td>1</td>\n      <td>1</td>\n      <td>1</td>\n    </tr>\n  </tbody>\n</table>\n<p>13372 rows × 4 columns</p>\n</div>"
     },
     "metadata": {},
     "execution_count": 126
    }
   ],
   "source": [
    "locations_df.groupby('section_title').count().sort_values('Id', ascending=False)"
   ]
  },
  {
   "cell_type": "code",
   "execution_count": 41,
   "metadata": {},
   "outputs": [
    {
     "output_type": "execute_result",
     "data": {
      "text/plain": [
       "                                                     Id  section_title\n",
       "sentence                                                              \n",
       "\\n\\n\\nMarketing contracts are common for specia...    1              1\n",
       "The National Hurricane Center (NHC) in conjunct...    1              1\n",
       "The National Hurricane Center uses the SLOSH mo...    1              1\n",
       "The National Institute of Aging has initiated t...    1              1\n",
       "The National Institute of Aging, the National I...    1              1\n",
       "...                                                 ...            ...\n",
       "Data used in the preparation of this article we...   98             98\n",
       "Subjects originally recruited for ADNI-1 and AD...  110            110\n",
       "The ADNI was launched in 2003 as a public-priva...  125            125\n",
       "The primary goal of ADNI has been to test wheth...  136            136\n",
       "As such, the investigators within the ADNI cont...  237            237\n",
       "\n",
       "[44391 rows x 2 columns]"
      ],
      "text/html": "<div>\n<style scoped>\n    .dataframe tbody tr th:only-of-type {\n        vertical-align: middle;\n    }\n\n    .dataframe tbody tr th {\n        vertical-align: top;\n    }\n\n    .dataframe thead th {\n        text-align: right;\n    }\n</style>\n<table border=\"1\" class=\"dataframe\">\n  <thead>\n    <tr style=\"text-align: right;\">\n      <th></th>\n      <th>Id</th>\n      <th>section_title</th>\n    </tr>\n    <tr>\n      <th>sentence</th>\n      <th></th>\n      <th></th>\n    </tr>\n  </thead>\n  <tbody>\n    <tr>\n      <th>\\n\\n\\nMarketing contracts are common for specialty crops According to the USDA-ERS Agricultural Resource Management Survey (ARMS) in 2016, 39 percent of the value of production for fruits was under contract, and 37 percent of the value of production of vegetables was under contract Processed crops tend to be more heavily contracted than fresh.</th>\n      <td>1</td>\n      <td>1</td>\n    </tr>\n    <tr>\n      <th>The National Hurricane Center (NHC) in conjunction with NOAA has divided the United States coasts into 38 elliptical basins for SLOSH modeling, each consisting of hundreds of grid cells.</th>\n      <td>1</td>\n      <td>1</td>\n    </tr>\n    <tr>\n      <th>The National Hurricane Center uses the SLOSH model in an operational mode to forecast hurricane surge elevations in a real-time mode.</th>\n      <td>1</td>\n      <td>1</td>\n    </tr>\n    <tr>\n      <th>The National Institute of Aging has initiated the Alzheimer's Disease Neuroimaging Initiative (ADNI), a large observational study of patients with AD, patients with mild cognitive impairment (MCI), and cognitively normal volunteers to assess longitudinal changes in AD biomarkers.</th>\n      <td>1</td>\n      <td>1</td>\n    </tr>\n    <tr>\n      <th>The National Institute of Aging, the National Institute of Biomedical Imaging and Bioengineering, the Food and Drug Administration, private pharmaceutical companies, and nonprofit organizations launched ADNI in 2003 as a publicprivate partnership.</th>\n      <td>1</td>\n      <td>1</td>\n    </tr>\n    <tr>\n      <th>...</th>\n      <td>...</td>\n      <td>...</td>\n    </tr>\n    <tr>\n      <th>Data used in the preparation of this article were obtained from the Alzheimer's Disease Neuroimaging Initiative (ADNI) database (adni.loni.usc.edu).</th>\n      <td>98</td>\n      <td>98</td>\n    </tr>\n    <tr>\n      <th>Subjects originally recruited for ADNI-1 and ADNI-GO had the option to be followed in ADNI-2.</th>\n      <td>110</td>\n      <td>110</td>\n    </tr>\n    <tr>\n      <th>The ADNI was launched in 2003 as a public-private partnership, led by Principal Investigator Michael W. Weiner, MD.</th>\n      <td>125</td>\n      <td>125</td>\n    </tr>\n    <tr>\n      <th>The primary goal of ADNI has been to test whether serial magnetic resonance imaging (MRI), positron emission tomography (PET), other biological markers, and clinical and neuropsychological assessment can be combined to measure the progression of mild cognitive impairment (MCI) and early Alzheimer's disease (AD).</th>\n      <td>136</td>\n      <td>136</td>\n    </tr>\n    <tr>\n      <th>As such, the investigators within the ADNI contributed to the design and implementation of ADNI and/or provided data but did not participate in analysis or writing of this report.</th>\n      <td>237</td>\n      <td>237</td>\n    </tr>\n  </tbody>\n</table>\n<p>44391 rows × 2 columns</p>\n</div>"
     },
     "metadata": {},
     "execution_count": 41
    }
   ],
   "source": [
    "locations_df.groupby('sentence').count().sort_values('Id')"
   ]
  },
  {
   "cell_type": "code",
   "execution_count": 21,
   "metadata": {},
   "outputs": [],
   "source": [
    "locations_df['cleaned_section'] = locations_df['section_title'].apply(clean_text)"
   ]
  },
  {
   "cell_type": "code",
   "execution_count": 22,
   "metadata": {},
   "outputs": [
    {
     "output_type": "execute_result",
     "data": {
      "text/plain": [
       "                                               Id  section_title  sentence  \\\n",
       "cleaned_section                                                              \n",
       "introduction                                 3989           3989      3989   \n",
       "discussion                                   3378           3378      3378   \n",
       "                                             3024           3024      3024   \n",
       "abstract                                     2626           2626      2626   \n",
       "subjects                                      983            983       983   \n",
       "methods                                       949            949       949   \n",
       "participants                                  897            897       897   \n",
       "results                                       799            799       799   \n",
       "data                                          771            771       771   \n",
       "materials and methods                         504            504       504   \n",
       "conclusion                                    347            347       347   \n",
       "conclusions                                   327            327       327   \n",
       "acknowledgments                               238            238       238   \n",
       "background                                    219            219       219   \n",
       "adni                                          179            179       179   \n",
       "statistical analysis                          178            178       178   \n",
       "alzheimer s disease neuroimaging initiative   172            172       172   \n",
       "i introduction                                151            151       151   \n",
       "data and methods                              148            148       148   \n",
       "adni data                                     141            141       141   \n",
       "\n",
       "                                             dataset_label  label_length  \n",
       "cleaned_section                                                           \n",
       "introduction                                          3989          3989  \n",
       "discussion                                            3378          3378  \n",
       "                                                      3024          3024  \n",
       "abstract                                              2626          2626  \n",
       "subjects                                               983           983  \n",
       "methods                                                949           949  \n",
       "participants                                           897           897  \n",
       "results                                                799           799  \n",
       "data                                                   771           771  \n",
       "materials and methods                                  504           504  \n",
       "conclusion                                             347           347  \n",
       "conclusions                                            327           327  \n",
       "acknowledgments                                        238           238  \n",
       "background                                             219           219  \n",
       "adni                                                   179           179  \n",
       "statistical analysis                                   178           178  \n",
       "alzheimer s disease neuroimaging initiative            172           172  \n",
       "i introduction                                         151           151  \n",
       "data and methods                                       148           148  \n",
       "adni data                                              141           141  "
      ],
      "text/html": "<div>\n<style scoped>\n    .dataframe tbody tr th:only-of-type {\n        vertical-align: middle;\n    }\n\n    .dataframe tbody tr th {\n        vertical-align: top;\n    }\n\n    .dataframe thead th {\n        text-align: right;\n    }\n</style>\n<table border=\"1\" class=\"dataframe\">\n  <thead>\n    <tr style=\"text-align: right;\">\n      <th></th>\n      <th>Id</th>\n      <th>section_title</th>\n      <th>sentence</th>\n      <th>dataset_label</th>\n      <th>label_length</th>\n    </tr>\n    <tr>\n      <th>cleaned_section</th>\n      <th></th>\n      <th></th>\n      <th></th>\n      <th></th>\n      <th></th>\n    </tr>\n  </thead>\n  <tbody>\n    <tr>\n      <th>introduction</th>\n      <td>3989</td>\n      <td>3989</td>\n      <td>3989</td>\n      <td>3989</td>\n      <td>3989</td>\n    </tr>\n    <tr>\n      <th>discussion</th>\n      <td>3378</td>\n      <td>3378</td>\n      <td>3378</td>\n      <td>3378</td>\n      <td>3378</td>\n    </tr>\n    <tr>\n      <th></th>\n      <td>3024</td>\n      <td>3024</td>\n      <td>3024</td>\n      <td>3024</td>\n      <td>3024</td>\n    </tr>\n    <tr>\n      <th>abstract</th>\n      <td>2626</td>\n      <td>2626</td>\n      <td>2626</td>\n      <td>2626</td>\n      <td>2626</td>\n    </tr>\n    <tr>\n      <th>subjects</th>\n      <td>983</td>\n      <td>983</td>\n      <td>983</td>\n      <td>983</td>\n      <td>983</td>\n    </tr>\n    <tr>\n      <th>methods</th>\n      <td>949</td>\n      <td>949</td>\n      <td>949</td>\n      <td>949</td>\n      <td>949</td>\n    </tr>\n    <tr>\n      <th>participants</th>\n      <td>897</td>\n      <td>897</td>\n      <td>897</td>\n      <td>897</td>\n      <td>897</td>\n    </tr>\n    <tr>\n      <th>results</th>\n      <td>799</td>\n      <td>799</td>\n      <td>799</td>\n      <td>799</td>\n      <td>799</td>\n    </tr>\n    <tr>\n      <th>data</th>\n      <td>771</td>\n      <td>771</td>\n      <td>771</td>\n      <td>771</td>\n      <td>771</td>\n    </tr>\n    <tr>\n      <th>materials and methods</th>\n      <td>504</td>\n      <td>504</td>\n      <td>504</td>\n      <td>504</td>\n      <td>504</td>\n    </tr>\n    <tr>\n      <th>conclusion</th>\n      <td>347</td>\n      <td>347</td>\n      <td>347</td>\n      <td>347</td>\n      <td>347</td>\n    </tr>\n    <tr>\n      <th>conclusions</th>\n      <td>327</td>\n      <td>327</td>\n      <td>327</td>\n      <td>327</td>\n      <td>327</td>\n    </tr>\n    <tr>\n      <th>acknowledgments</th>\n      <td>238</td>\n      <td>238</td>\n      <td>238</td>\n      <td>238</td>\n      <td>238</td>\n    </tr>\n    <tr>\n      <th>background</th>\n      <td>219</td>\n      <td>219</td>\n      <td>219</td>\n      <td>219</td>\n      <td>219</td>\n    </tr>\n    <tr>\n      <th>adni</th>\n      <td>179</td>\n      <td>179</td>\n      <td>179</td>\n      <td>179</td>\n      <td>179</td>\n    </tr>\n    <tr>\n      <th>statistical analysis</th>\n      <td>178</td>\n      <td>178</td>\n      <td>178</td>\n      <td>178</td>\n      <td>178</td>\n    </tr>\n    <tr>\n      <th>alzheimer s disease neuroimaging initiative</th>\n      <td>172</td>\n      <td>172</td>\n      <td>172</td>\n      <td>172</td>\n      <td>172</td>\n    </tr>\n    <tr>\n      <th>i introduction</th>\n      <td>151</td>\n      <td>151</td>\n      <td>151</td>\n      <td>151</td>\n      <td>151</td>\n    </tr>\n    <tr>\n      <th>data and methods</th>\n      <td>148</td>\n      <td>148</td>\n      <td>148</td>\n      <td>148</td>\n      <td>148</td>\n    </tr>\n    <tr>\n      <th>adni data</th>\n      <td>141</td>\n      <td>141</td>\n      <td>141</td>\n      <td>141</td>\n      <td>141</td>\n    </tr>\n  </tbody>\n</table>\n</div>"
     },
     "metadata": {},
     "execution_count": 22
    }
   ],
   "source": [
    "locations_df.groupby('cleaned_section').count().sort_values('Id', ascending=False)[:20]"
   ]
  },
  {
   "source": [
    "à comparer avec le nombre d'apparition de ces sections dans les fichiers source"
   ],
   "cell_type": "markdown",
   "metadata": {}
  },
  {
   "source": [
    "Error on cleaning resulting in:  \n",
    "30736,9762dd72-2656-4e1f-b158-7a139a2f6a76,\"Strategic Design of the Antisense Oligonucleotide, ssDNA, Probes for\n"
   ],
   "cell_type": "markdown",
   "metadata": {}
  },
  {
   "cell_type": "code",
   "execution_count": 24,
   "metadata": {},
   "outputs": [],
   "source": [
    "with open(DATA_PATH+'9762dd72-2656-4e1f-b158-7a139a2f6a76.json') as f:\n",
    "    f1 = json.load(f)\n",
    "f1"
   ]
  },
  {
   "cell_type": "code",
   "execution_count": null,
   "metadata": {},
   "outputs": [],
   "source": []
  }
 ]
}