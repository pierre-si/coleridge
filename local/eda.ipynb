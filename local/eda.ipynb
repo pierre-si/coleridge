{
 "metadata": {
  "language_info": {
   "codemirror_mode": {
    "name": "ipython",
    "version": 3
   },
   "file_extension": ".py",
   "mimetype": "text/x-python",
   "name": "python",
   "nbconvert_exporter": "python",
   "pygments_lexer": "ipython3",
   "version": "3.9.2"
  },
  "orig_nbformat": 2,
  "kernelspec": {
   "name": "python3",
   "display_name": "Python 3.9.2 64-bit",
   "metadata": {
    "interpreter": {
     "hash": "31f2aee4e71d21fbe5cf8b01ff0e069b9275f58929596ceb00d14d90e3e16cd6"
    }
   }
  }
 },
 "nbformat": 4,
 "nbformat_minor": 2,
 "cells": [
  {
   "cell_type": "code",
   "execution_count": 135,
   "metadata": {},
   "outputs": [],
   "source": [
    "import json\n",
    "\n",
    "from pprint import pprint\n",
    "import pandas as pd\n",
    "import numpy as np\n",
    "import matplotlib\n",
    "from matplotlib import pyplot as plt"
   ]
  },
  {
   "cell_type": "code",
   "execution_count": 4,
   "metadata": {},
   "outputs": [],
   "source": [
    "data_path = \"../input/challenge-data/\""
   ]
  },
  {
   "source": [
    "# train.csv"
   ],
   "cell_type": "markdown",
   "metadata": {}
  },
  {
   "cell_type": "code",
   "execution_count": 41,
   "metadata": {},
   "outputs": [
    {
     "output_type": "execute_result",
     "data": {
      "text/plain": [
       "                                         Id  \\\n",
       "0      d0fa7568-7d8e-4db9-870f-f9c6f668c17b   \n",
       "1      2f26f645-3dec-485d-b68d-f013c9e05e60   \n",
       "2      c5d5cd2c-59de-4f29-bbb1-6a88c7b52f29   \n",
       "3      5c9a3bc9-41ba-4574-ad71-e25c1442c8af   \n",
       "4      c754dec7-c5a3-4337-9892-c02158475064   \n",
       "...                                     ...   \n",
       "19656  b3498176-8832-4033-aea6-b5ea85ea04c4   \n",
       "19657  f77eb51f-c3ac-420b-9586-cb187849c321   \n",
       "19658  ab59bcdd-7b7c-4107-93f5-0ccaf749236c   \n",
       "19659  fd23e7e0-a5d2-4f98-992d-9209c85153bb   \n",
       "19660  fd23e7e0-a5d2-4f98-992d-9209c85153bb   \n",
       "\n",
       "                                               pub_title  \\\n",
       "0      The Impact of Dual Enrollment on College Degre...   \n",
       "1      Educational Attainment of High School Dropouts...   \n",
       "2      Differences in Outcomes for Female and Male St...   \n",
       "3      Stepping Stone and Option Value in a Model of ...   \n",
       "4      Parental Effort, School Resources, and Student...   \n",
       "...                                                  ...   \n",
       "19656  RSNA International Trends: A Global Perspectiv...   \n",
       "19657  MCCS: a novel recognition pattern-based method...   \n",
       "19658  Quantitative Structure–Activity Relationship M...   \n",
       "19659  A ligand-based computational drug repurposing ...   \n",
       "19660  A ligand-based computational drug repurposing ...   \n",
       "\n",
       "                                           dataset_title  \\\n",
       "0                  National Education Longitudinal Study   \n",
       "1                  National Education Longitudinal Study   \n",
       "2                  National Education Longitudinal Study   \n",
       "3                  National Education Longitudinal Study   \n",
       "4                  National Education Longitudinal Study   \n",
       "...                                                  ...   \n",
       "19656  RSNA International COVID-19 Open Radiology Dat...   \n",
       "19657  CAS COVID-19 antiviral candidate compounds dat...   \n",
       "19658  CAS COVID-19 antiviral candidate compounds dat...   \n",
       "19659  CAS COVID-19 antiviral candidate compounds dat...   \n",
       "19660  CAS COVID-19 antiviral candidate compounds dat...   \n",
       "\n",
       "                                           dataset_label  \\\n",
       "0                  National Education Longitudinal Study   \n",
       "1                  National Education Longitudinal Study   \n",
       "2                  National Education Longitudinal Study   \n",
       "3                  National Education Longitudinal Study   \n",
       "4                  National Education Longitudinal Study   \n",
       "...                                                  ...   \n",
       "19656   RSNA International COVID Open Radiology Database   \n",
       "19657  CAS COVID-19 antiviral candidate compounds dat...   \n",
       "19658  CAS COVID-19 antiviral candidate compounds dat...   \n",
       "19659  CAS COVID-19 antiviral candidate compounds dat...   \n",
       "19660    CAS COVID-19 antiviral candidate compounds data   \n",
       "\n",
       "                                           cleaned_label  \n",
       "0                  national education longitudinal study  \n",
       "1                  national education longitudinal study  \n",
       "2                  national education longitudinal study  \n",
       "3                  national education longitudinal study  \n",
       "4                  national education longitudinal study  \n",
       "...                                                  ...  \n",
       "19656   rsna international covid open radiology database  \n",
       "19657  cas covid 19 antiviral candidate compounds dat...  \n",
       "19658  cas covid 19 antiviral candidate compounds dat...  \n",
       "19659  cas covid 19 antiviral candidate compounds dat...  \n",
       "19660    cas covid 19 antiviral candidate compounds data  \n",
       "\n",
       "[19661 rows x 5 columns]"
      ],
      "text/html": "<div>\n<style scoped>\n    .dataframe tbody tr th:only-of-type {\n        vertical-align: middle;\n    }\n\n    .dataframe tbody tr th {\n        vertical-align: top;\n    }\n\n    .dataframe thead th {\n        text-align: right;\n    }\n</style>\n<table border=\"1\" class=\"dataframe\">\n  <thead>\n    <tr style=\"text-align: right;\">\n      <th></th>\n      <th>Id</th>\n      <th>pub_title</th>\n      <th>dataset_title</th>\n      <th>dataset_label</th>\n      <th>cleaned_label</th>\n    </tr>\n  </thead>\n  <tbody>\n    <tr>\n      <th>0</th>\n      <td>d0fa7568-7d8e-4db9-870f-f9c6f668c17b</td>\n      <td>The Impact of Dual Enrollment on College Degre...</td>\n      <td>National Education Longitudinal Study</td>\n      <td>National Education Longitudinal Study</td>\n      <td>national education longitudinal study</td>\n    </tr>\n    <tr>\n      <th>1</th>\n      <td>2f26f645-3dec-485d-b68d-f013c9e05e60</td>\n      <td>Educational Attainment of High School Dropouts...</td>\n      <td>National Education Longitudinal Study</td>\n      <td>National Education Longitudinal Study</td>\n      <td>national education longitudinal study</td>\n    </tr>\n    <tr>\n      <th>2</th>\n      <td>c5d5cd2c-59de-4f29-bbb1-6a88c7b52f29</td>\n      <td>Differences in Outcomes for Female and Male St...</td>\n      <td>National Education Longitudinal Study</td>\n      <td>National Education Longitudinal Study</td>\n      <td>national education longitudinal study</td>\n    </tr>\n    <tr>\n      <th>3</th>\n      <td>5c9a3bc9-41ba-4574-ad71-e25c1442c8af</td>\n      <td>Stepping Stone and Option Value in a Model of ...</td>\n      <td>National Education Longitudinal Study</td>\n      <td>National Education Longitudinal Study</td>\n      <td>national education longitudinal study</td>\n    </tr>\n    <tr>\n      <th>4</th>\n      <td>c754dec7-c5a3-4337-9892-c02158475064</td>\n      <td>Parental Effort, School Resources, and Student...</td>\n      <td>National Education Longitudinal Study</td>\n      <td>National Education Longitudinal Study</td>\n      <td>national education longitudinal study</td>\n    </tr>\n    <tr>\n      <th>...</th>\n      <td>...</td>\n      <td>...</td>\n      <td>...</td>\n      <td>...</td>\n      <td>...</td>\n    </tr>\n    <tr>\n      <th>19656</th>\n      <td>b3498176-8832-4033-aea6-b5ea85ea04c4</td>\n      <td>RSNA International Trends: A Global Perspectiv...</td>\n      <td>RSNA International COVID-19 Open Radiology Dat...</td>\n      <td>RSNA International COVID Open Radiology Database</td>\n      <td>rsna international covid open radiology database</td>\n    </tr>\n    <tr>\n      <th>19657</th>\n      <td>f77eb51f-c3ac-420b-9586-cb187849c321</td>\n      <td>MCCS: a novel recognition pattern-based method...</td>\n      <td>CAS COVID-19 antiviral candidate compounds dat...</td>\n      <td>CAS COVID-19 antiviral candidate compounds dat...</td>\n      <td>cas covid 19 antiviral candidate compounds dat...</td>\n    </tr>\n    <tr>\n      <th>19658</th>\n      <td>ab59bcdd-7b7c-4107-93f5-0ccaf749236c</td>\n      <td>Quantitative Structure–Activity Relationship M...</td>\n      <td>CAS COVID-19 antiviral candidate compounds dat...</td>\n      <td>CAS COVID-19 antiviral candidate compounds dat...</td>\n      <td>cas covid 19 antiviral candidate compounds dat...</td>\n    </tr>\n    <tr>\n      <th>19659</th>\n      <td>fd23e7e0-a5d2-4f98-992d-9209c85153bb</td>\n      <td>A ligand-based computational drug repurposing ...</td>\n      <td>CAS COVID-19 antiviral candidate compounds dat...</td>\n      <td>CAS COVID-19 antiviral candidate compounds dat...</td>\n      <td>cas covid 19 antiviral candidate compounds dat...</td>\n    </tr>\n    <tr>\n      <th>19660</th>\n      <td>fd23e7e0-a5d2-4f98-992d-9209c85153bb</td>\n      <td>A ligand-based computational drug repurposing ...</td>\n      <td>CAS COVID-19 antiviral candidate compounds dat...</td>\n      <td>CAS COVID-19 antiviral candidate compounds data</td>\n      <td>cas covid 19 antiviral candidate compounds data</td>\n    </tr>\n  </tbody>\n</table>\n<p>19661 rows × 5 columns</p>\n</div>"
     },
     "metadata": {},
     "execution_count": 41
    }
   ],
   "source": [
    "df = pd.read_csv(data_path+'train.csv', dtype=str)\n",
    "df"
   ]
  },
  {
   "cell_type": "code",
   "execution_count": 42,
   "metadata": {},
   "outputs": [
    {
     "output_type": "execute_result",
     "data": {
      "text/plain": [
       "                                          Id  \\\n",
       "count                                  19661   \n",
       "unique                                 14316   \n",
       "top     170113f9-399c-489e-ab53-2faf5c64c5bc   \n",
       "freq                                      22   \n",
       "\n",
       "                                      pub_title  \\\n",
       "count                                     19661   \n",
       "unique                                    14271   \n",
       "top     Science and Engineering Indicators 2014   \n",
       "freq                                         22   \n",
       "\n",
       "                                            dataset_title dataset_label  \\\n",
       "count                                               19661         19661   \n",
       "unique                                                 45           130   \n",
       "top     Alzheimer's Disease Neuroimaging Initiative (A...          ADNI   \n",
       "freq                                                 6144          3673   \n",
       "\n",
       "       cleaned_label  \n",
       "count          19661  \n",
       "unique           130  \n",
       "top             adni  \n",
       "freq            3673  "
      ],
      "text/html": "<div>\n<style scoped>\n    .dataframe tbody tr th:only-of-type {\n        vertical-align: middle;\n    }\n\n    .dataframe tbody tr th {\n        vertical-align: top;\n    }\n\n    .dataframe thead th {\n        text-align: right;\n    }\n</style>\n<table border=\"1\" class=\"dataframe\">\n  <thead>\n    <tr style=\"text-align: right;\">\n      <th></th>\n      <th>Id</th>\n      <th>pub_title</th>\n      <th>dataset_title</th>\n      <th>dataset_label</th>\n      <th>cleaned_label</th>\n    </tr>\n  </thead>\n  <tbody>\n    <tr>\n      <th>count</th>\n      <td>19661</td>\n      <td>19661</td>\n      <td>19661</td>\n      <td>19661</td>\n      <td>19661</td>\n    </tr>\n    <tr>\n      <th>unique</th>\n      <td>14316</td>\n      <td>14271</td>\n      <td>45</td>\n      <td>130</td>\n      <td>130</td>\n    </tr>\n    <tr>\n      <th>top</th>\n      <td>170113f9-399c-489e-ab53-2faf5c64c5bc</td>\n      <td>Science and Engineering Indicators 2014</td>\n      <td>Alzheimer's Disease Neuroimaging Initiative (A...</td>\n      <td>ADNI</td>\n      <td>adni</td>\n    </tr>\n    <tr>\n      <th>freq</th>\n      <td>22</td>\n      <td>22</td>\n      <td>6144</td>\n      <td>3673</td>\n      <td>3673</td>\n    </tr>\n  </tbody>\n</table>\n</div>"
     },
     "metadata": {},
     "execution_count": 42
    }
   ],
   "source": [
    "df.describe()"
   ]
  },
  {
   "source": [
    "19661 rows but 14316 unique id  \n",
    "→ some publications mention multiple datasets and thus appear on different rows  \n",
    "14316 unique ids but 14271 unique pub_title  \n",
    "→ some publications have the same title  \n",
    "\n",
    "45 unique dataset_title but 130 dataset_label/cleaned_label  \n",
    "→ publications refer to the same dataset (dataset_title: true name according to the organizers) in different ways (dataset_label)"
   ],
   "cell_type": "markdown",
   "metadata": {}
  },
  {
   "source": [
    "## Publications with multiple datasets\n",
    "__/!\\\\__ the training set is not exhaustively labeled / not all datasets have been identified in train  \n",
    "→ if this means that there are datasets appearing in .json train files that are not identified in train.csv, then the following figures are not representative of the reality"
   ],
   "cell_type": "markdown",
   "metadata": {}
  },
  {
   "cell_type": "code",
   "execution_count": 92,
   "metadata": {},
   "outputs": [
    {
     "output_type": "stream",
     "name": "stdout",
     "text": [
      "9563 0.6679938530315731\n4410 0.3080469404861693\n"
     ]
    }
   ],
   "source": [
    "datasets_per_paper = df['Id'].value_counts()\n",
    "print((datasets_per_paper == 1).sum(), (datasets_per_paper == 1).sum()/len(datasets_per_paper))\n",
    "print((datasets_per_paper == 2).sum(), (datasets_per_paper == 2).sum()/len(datasets_per_paper))"
   ]
  },
  {
   "source": [
    "9563 papers (66,8%) cite only one dataset, 4410 (30,8%) cite two datasets.  \n",
    "97,6% cite one or two datasets."
   ],
   "cell_type": "markdown",
   "metadata": {}
  },
  {
   "cell_type": "code",
   "execution_count": 98,
   "metadata": {},
   "outputs": [
    {
     "output_type": "execute_result",
     "data": {
      "text/plain": [
       "<AxesSubplot:>"
      ]
     },
     "metadata": {},
     "execution_count": 98
    },
    {
     "output_type": "display_data",
     "data": {
      "text/plain": "<Figure size 432x288 with 1 Axes>",
      "image/svg+xml": "<?xml version=\"1.0\" encoding=\"utf-8\" standalone=\"no\"?>\n<!DOCTYPE svg PUBLIC \"-//W3C//DTD SVG 1.1//EN\"\n  \"http://www.w3.org/Graphics/SVG/1.1/DTD/svg11.dtd\">\n<!-- Created with matplotlib (https://matplotlib.org/) -->\n<svg height=\"248.518125pt\" version=\"1.1\" viewBox=\"0 0 380.925325 248.518125\" width=\"380.925325pt\" xmlns=\"http://www.w3.org/2000/svg\" xmlns:xlink=\"http://www.w3.org/1999/xlink\">\n <metadata>\n  <rdf:RDF xmlns:cc=\"http://creativecommons.org/ns#\" xmlns:dc=\"http://purl.org/dc/elements/1.1/\" xmlns:rdf=\"http://www.w3.org/1999/02/22-rdf-syntax-ns#\">\n   <cc:Work>\n    <dc:type rdf:resource=\"http://purl.org/dc/dcmitype/StillImage\"/>\n    <dc:date>2021-03-28T10:36:19.354407</dc:date>\n    <dc:format>image/svg+xml</dc:format>\n    <dc:creator>\n     <cc:Agent>\n      <dc:title>Matplotlib v3.3.4, https://matplotlib.org/</dc:title>\n     </cc:Agent>\n    </dc:creator>\n   </cc:Work>\n  </rdf:RDF>\n </metadata>\n <defs>\n  <style type=\"text/css\">*{stroke-linecap:butt;stroke-linejoin:round;}</style>\n </defs>\n <g id=\"figure_1\">\n  <g id=\"patch_1\">\n   <path d=\"M 0 248.518125 \nL 380.925325 248.518125 \nL 380.925325 0 \nL 0 0 \nz\n\" style=\"fill:none;\"/>\n  </g>\n  <g id=\"axes_1\">\n   <g id=\"patch_2\">\n    <path d=\"M 33.2875 224.64 \nL 368.0875 224.64 \nL 368.0875 7.2 \nL 33.2875 7.2 \nz\n\" style=\"fill:#ffffff;\"/>\n   </g>\n   <g id=\"patch_3\">\n    <path clip-path=\"url(#p7e1c149972)\" d=\"M 48.505682 224.64 \nL 62.999188 224.64 \nL 62.999188 17.554286 \nL 48.505682 17.554286 \nz\n\" style=\"fill:#1f77b4;\"/>\n   </g>\n   <g id=\"patch_4\">\n    <path clip-path=\"url(#p7e1c149972)\" d=\"M 62.999188 224.64 \nL 77.492695 224.64 \nL 77.492695 169.771136 \nL 62.999188 169.771136 \nz\n\" style=\"fill:#1f77b4;\"/>\n   </g>\n   <g id=\"patch_5\">\n    <path clip-path=\"url(#p7e1c149972)\" d=\"M 77.492695 224.64 \nL 91.986201 224.64 \nL 91.986201 208.71033 \nL 77.492695 208.71033 \nz\n\" style=\"fill:#1f77b4;\"/>\n   </g>\n   <g id=\"patch_6\">\n    <path clip-path=\"url(#p7e1c149972)\" d=\"M 91.986201 224.64 \nL 106.479708 224.64 \nL 106.479708 214.02022 \nL 91.986201 214.02022 \nz\n\" style=\"fill:#1f77b4;\"/>\n   </g>\n   <g id=\"patch_7\">\n    <path clip-path=\"url(#p7e1c149972)\" d=\"M 106.479708 224.64 \nL 120.973214 224.64 \nL 120.973214 221.985055 \nL 106.479708 221.985055 \nz\n\" style=\"fill:#1f77b4;\"/>\n   </g>\n   <g id=\"patch_8\">\n    <path clip-path=\"url(#p7e1c149972)\" d=\"M 120.973214 224.64 \nL 135.466721 224.64 \nL 135.466721 221.100073 \nL 120.973214 221.100073 \nz\n\" style=\"fill:#1f77b4;\"/>\n   </g>\n   <g id=\"patch_9\">\n    <path clip-path=\"url(#p7e1c149972)\" d=\"M 135.466721 224.64 \nL 149.960227 224.64 \nL 149.960227 221.100073 \nL 135.466721 221.100073 \nz\n\" style=\"fill:#1f77b4;\"/>\n   </g>\n   <g id=\"patch_10\">\n    <path clip-path=\"url(#p7e1c149972)\" d=\"M 149.960227 224.64 \nL 164.453734 224.64 \nL 164.453734 222.870037 \nL 149.960227 222.870037 \nz\n\" style=\"fill:#1f77b4;\"/>\n   </g>\n   <g id=\"patch_11\">\n    <path clip-path=\"url(#p7e1c149972)\" d=\"M 164.453734 224.64 \nL 178.94724 224.64 \nL 178.94724 223.755018 \nL 164.453734 223.755018 \nz\n\" style=\"fill:#1f77b4;\"/>\n   </g>\n   <g id=\"patch_12\">\n    <path clip-path=\"url(#p7e1c149972)\" d=\"M 178.94724 224.64 \nL 193.440747 224.64 \nL 193.440747 222.870037 \nL 178.94724 222.870037 \nz\n\" style=\"fill:#1f77b4;\"/>\n   </g>\n   <g id=\"patch_13\">\n    <path clip-path=\"url(#p7e1c149972)\" d=\"M 193.440747 224.64 \nL 207.934253 224.64 \nL 207.934253 224.64 \nL 193.440747 224.64 \nz\n\" style=\"fill:#1f77b4;\"/>\n   </g>\n   <g id=\"patch_14\">\n    <path clip-path=\"url(#p7e1c149972)\" d=\"M 207.934253 224.64 \nL 222.42776 224.64 \nL 222.42776 224.64 \nL 207.934253 224.64 \nz\n\" style=\"fill:#1f77b4;\"/>\n   </g>\n   <g id=\"patch_15\">\n    <path clip-path=\"url(#p7e1c149972)\" d=\"M 222.42776 224.64 \nL 236.921266 224.64 \nL 236.921266 224.64 \nL 222.42776 224.64 \nz\n\" style=\"fill:#1f77b4;\"/>\n   </g>\n   <g id=\"patch_16\">\n    <path clip-path=\"url(#p7e1c149972)\" d=\"M 236.921266 224.64 \nL 251.414773 224.64 \nL 251.414773 224.64 \nL 236.921266 224.64 \nz\n\" style=\"fill:#1f77b4;\"/>\n   </g>\n   <g id=\"patch_17\">\n    <path clip-path=\"url(#p7e1c149972)\" d=\"M 251.414773 224.64 \nL 265.908279 224.64 \nL 265.908279 224.64 \nL 251.414773 224.64 \nz\n\" style=\"fill:#1f77b4;\"/>\n   </g>\n   <g id=\"patch_18\">\n    <path clip-path=\"url(#p7e1c149972)\" d=\"M 265.908279 224.64 \nL 280.401786 224.64 \nL 280.401786 224.64 \nL 265.908279 224.64 \nz\n\" style=\"fill:#1f77b4;\"/>\n   </g>\n   <g id=\"patch_19\">\n    <path clip-path=\"url(#p7e1c149972)\" d=\"M 280.401786 224.64 \nL 294.895292 224.64 \nL 294.895292 224.64 \nL 280.401786 224.64 \nz\n\" style=\"fill:#1f77b4;\"/>\n   </g>\n   <g id=\"patch_20\">\n    <path clip-path=\"url(#p7e1c149972)\" d=\"M 294.895292 224.64 \nL 309.388799 224.64 \nL 309.388799 224.64 \nL 294.895292 224.64 \nz\n\" style=\"fill:#1f77b4;\"/>\n   </g>\n   <g id=\"patch_21\">\n    <path clip-path=\"url(#p7e1c149972)\" d=\"M 309.388799 224.64 \nL 323.882305 224.64 \nL 323.882305 224.64 \nL 309.388799 224.64 \nz\n\" style=\"fill:#1f77b4;\"/>\n   </g>\n   <g id=\"patch_22\">\n    <path clip-path=\"url(#p7e1c149972)\" d=\"M 323.882305 224.64 \nL 338.375812 224.64 \nL 338.375812 223.755018 \nL 323.882305 223.755018 \nz\n\" style=\"fill:#1f77b4;\"/>\n   </g>\n   <g id=\"patch_23\">\n    <path clip-path=\"url(#p7e1c149972)\" d=\"M 338.375812 224.64 \nL 352.869318 224.64 \nL 352.869318 224.64 \nL 338.375812 224.64 \nz\n\" style=\"fill:#1f77b4;\"/>\n   </g>\n   <g id=\"matplotlib.axis_1\">\n    <g id=\"xtick_1\">\n     <g id=\"line2d_1\">\n      <path clip-path=\"url(#p7e1c149972)\" d=\"M 77.492695 224.64 \nL 77.492695 7.2 \n\" style=\"fill:none;stroke:#b0b0b0;stroke-linecap:square;stroke-width:0.8;\"/>\n     </g>\n     <g id=\"line2d_2\">\n      <defs>\n       <path d=\"M 0 0 \nL 0 3.5 \n\" id=\"m62906ea217\" style=\"stroke:#000000;stroke-width:0.8;\"/>\n      </defs>\n      <g>\n       <use style=\"stroke:#000000;stroke-width:0.8;\" x=\"77.492695\" xlink:href=\"#m62906ea217\" y=\"224.64\"/>\n      </g>\n     </g>\n     <g id=\"text_1\">\n      <!-- 5 -->\n      <g transform=\"translate(74.311445 239.238437)scale(0.1 -0.1)\">\n       <defs>\n        <path d=\"M 10.796875 72.90625 \nL 49.515625 72.90625 \nL 49.515625 64.59375 \nL 19.828125 64.59375 \nL 19.828125 46.734375 \nQ 21.96875 47.46875 24.109375 47.828125 \nQ 26.265625 48.1875 28.421875 48.1875 \nQ 40.625 48.1875 47.75 41.5 \nQ 54.890625 34.8125 54.890625 23.390625 \nQ 54.890625 11.625 47.5625 5.09375 \nQ 40.234375 -1.421875 26.90625 -1.421875 \nQ 22.3125 -1.421875 17.546875 -0.640625 \nQ 12.796875 0.140625 7.71875 1.703125 \nL 7.71875 11.625 \nQ 12.109375 9.234375 16.796875 8.0625 \nQ 21.484375 6.890625 26.703125 6.890625 \nQ 35.15625 6.890625 40.078125 11.328125 \nQ 45.015625 15.765625 45.015625 23.390625 \nQ 45.015625 31 40.078125 35.4375 \nQ 35.15625 39.890625 26.703125 39.890625 \nQ 22.75 39.890625 18.8125 39.015625 \nQ 14.890625 38.140625 10.796875 36.28125 \nz\n\" id=\"DejaVuSans-53\"/>\n       </defs>\n       <use xlink:href=\"#DejaVuSans-53\"/>\n      </g>\n     </g>\n    </g>\n    <g id=\"xtick_2\">\n     <g id=\"line2d_3\">\n      <path clip-path=\"url(#p7e1c149972)\" d=\"M 149.960227 224.64 \nL 149.960227 7.2 \n\" style=\"fill:none;stroke:#b0b0b0;stroke-linecap:square;stroke-width:0.8;\"/>\n     </g>\n     <g id=\"line2d_4\">\n      <g>\n       <use style=\"stroke:#000000;stroke-width:0.8;\" x=\"149.960227\" xlink:href=\"#m62906ea217\" y=\"224.64\"/>\n      </g>\n     </g>\n     <g id=\"text_2\">\n      <!-- 10 -->\n      <g transform=\"translate(143.597727 239.238437)scale(0.1 -0.1)\">\n       <defs>\n        <path d=\"M 12.40625 8.296875 \nL 28.515625 8.296875 \nL 28.515625 63.921875 \nL 10.984375 60.40625 \nL 10.984375 69.390625 \nL 28.421875 72.90625 \nL 38.28125 72.90625 \nL 38.28125 8.296875 \nL 54.390625 8.296875 \nL 54.390625 0 \nL 12.40625 0 \nz\n\" id=\"DejaVuSans-49\"/>\n        <path d=\"M 31.78125 66.40625 \nQ 24.171875 66.40625 20.328125 58.90625 \nQ 16.5 51.421875 16.5 36.375 \nQ 16.5 21.390625 20.328125 13.890625 \nQ 24.171875 6.390625 31.78125 6.390625 \nQ 39.453125 6.390625 43.28125 13.890625 \nQ 47.125 21.390625 47.125 36.375 \nQ 47.125 51.421875 43.28125 58.90625 \nQ 39.453125 66.40625 31.78125 66.40625 \nz\nM 31.78125 74.21875 \nQ 44.046875 74.21875 50.515625 64.515625 \nQ 56.984375 54.828125 56.984375 36.375 \nQ 56.984375 17.96875 50.515625 8.265625 \nQ 44.046875 -1.421875 31.78125 -1.421875 \nQ 19.53125 -1.421875 13.0625 8.265625 \nQ 6.59375 17.96875 6.59375 36.375 \nQ 6.59375 54.828125 13.0625 64.515625 \nQ 19.53125 74.21875 31.78125 74.21875 \nz\n\" id=\"DejaVuSans-48\"/>\n       </defs>\n       <use xlink:href=\"#DejaVuSans-49\"/>\n       <use x=\"63.623047\" xlink:href=\"#DejaVuSans-48\"/>\n      </g>\n     </g>\n    </g>\n    <g id=\"xtick_3\">\n     <g id=\"line2d_5\">\n      <path clip-path=\"url(#p7e1c149972)\" d=\"M 222.42776 224.64 \nL 222.42776 7.2 \n\" style=\"fill:none;stroke:#b0b0b0;stroke-linecap:square;stroke-width:0.8;\"/>\n     </g>\n     <g id=\"line2d_6\">\n      <g>\n       <use style=\"stroke:#000000;stroke-width:0.8;\" x=\"222.42776\" xlink:href=\"#m62906ea217\" y=\"224.64\"/>\n      </g>\n     </g>\n     <g id=\"text_3\">\n      <!-- 15 -->\n      <g transform=\"translate(216.06526 239.238437)scale(0.1 -0.1)\">\n       <use xlink:href=\"#DejaVuSans-49\"/>\n       <use x=\"63.623047\" xlink:href=\"#DejaVuSans-53\"/>\n      </g>\n     </g>\n    </g>\n    <g id=\"xtick_4\">\n     <g id=\"line2d_7\">\n      <path clip-path=\"url(#p7e1c149972)\" d=\"M 294.895292 224.64 \nL 294.895292 7.2 \n\" style=\"fill:none;stroke:#b0b0b0;stroke-linecap:square;stroke-width:0.8;\"/>\n     </g>\n     <g id=\"line2d_8\">\n      <g>\n       <use style=\"stroke:#000000;stroke-width:0.8;\" x=\"294.895292\" xlink:href=\"#m62906ea217\" y=\"224.64\"/>\n      </g>\n     </g>\n     <g id=\"text_4\">\n      <!-- 20 -->\n      <g transform=\"translate(288.532792 239.238437)scale(0.1 -0.1)\">\n       <defs>\n        <path d=\"M 19.1875 8.296875 \nL 53.609375 8.296875 \nL 53.609375 0 \nL 7.328125 0 \nL 7.328125 8.296875 \nQ 12.9375 14.109375 22.625 23.890625 \nQ 32.328125 33.6875 34.8125 36.53125 \nQ 39.546875 41.84375 41.421875 45.53125 \nQ 43.3125 49.21875 43.3125 52.78125 \nQ 43.3125 58.59375 39.234375 62.25 \nQ 35.15625 65.921875 28.609375 65.921875 \nQ 23.96875 65.921875 18.8125 64.3125 \nQ 13.671875 62.703125 7.8125 59.421875 \nL 7.8125 69.390625 \nQ 13.765625 71.78125 18.9375 73 \nQ 24.125 74.21875 28.421875 74.21875 \nQ 39.75 74.21875 46.484375 68.546875 \nQ 53.21875 62.890625 53.21875 53.421875 \nQ 53.21875 48.921875 51.53125 44.890625 \nQ 49.859375 40.875 45.40625 35.40625 \nQ 44.1875 33.984375 37.640625 27.21875 \nQ 31.109375 20.453125 19.1875 8.296875 \nz\n\" id=\"DejaVuSans-50\"/>\n       </defs>\n       <use xlink:href=\"#DejaVuSans-50\"/>\n       <use x=\"63.623047\" xlink:href=\"#DejaVuSans-48\"/>\n      </g>\n     </g>\n    </g>\n    <g id=\"xtick_5\">\n     <g id=\"line2d_9\">\n      <path clip-path=\"url(#p7e1c149972)\" d=\"M 367.362825 224.64 \nL 367.362825 7.2 \n\" style=\"fill:none;stroke:#b0b0b0;stroke-linecap:square;stroke-width:0.8;\"/>\n     </g>\n     <g id=\"line2d_10\">\n      <g>\n       <use style=\"stroke:#000000;stroke-width:0.8;\" x=\"367.362825\" xlink:href=\"#m62906ea217\" y=\"224.64\"/>\n      </g>\n     </g>\n     <g id=\"text_5\">\n      <!-- 25 -->\n      <g transform=\"translate(361.000325 239.238437)scale(0.1 -0.1)\">\n       <use xlink:href=\"#DejaVuSans-50\"/>\n       <use x=\"63.623047\" xlink:href=\"#DejaVuSans-53\"/>\n      </g>\n     </g>\n    </g>\n   </g>\n   <g id=\"matplotlib.axis_2\">\n    <g id=\"ytick_1\">\n     <g id=\"line2d_11\">\n      <path clip-path=\"url(#p7e1c149972)\" d=\"M 33.2875 224.64 \nL 368.0875 224.64 \n\" style=\"fill:none;stroke:#b0b0b0;stroke-linecap:square;stroke-width:0.8;\"/>\n     </g>\n     <g id=\"line2d_12\">\n      <defs>\n       <path d=\"M 0 0 \nL -3.5 0 \n\" id=\"m205687ecb3\" style=\"stroke:#000000;stroke-width:0.8;\"/>\n      </defs>\n      <g>\n       <use style=\"stroke:#000000;stroke-width:0.8;\" x=\"33.2875\" xlink:href=\"#m205687ecb3\" y=\"224.64\"/>\n      </g>\n     </g>\n     <g id=\"text_6\">\n      <!-- 0 -->\n      <g transform=\"translate(19.925 228.439219)scale(0.1 -0.1)\">\n       <use xlink:href=\"#DejaVuSans-48\"/>\n      </g>\n     </g>\n    </g>\n    <g id=\"ytick_2\">\n     <g id=\"line2d_13\">\n      <path clip-path=\"url(#p7e1c149972)\" d=\"M 33.2875 180.390916 \nL 368.0875 180.390916 \n\" style=\"fill:none;stroke:#b0b0b0;stroke-linecap:square;stroke-width:0.8;\"/>\n     </g>\n     <g id=\"line2d_14\">\n      <g>\n       <use style=\"stroke:#000000;stroke-width:0.8;\" x=\"33.2875\" xlink:href=\"#m205687ecb3\" y=\"180.390916\"/>\n      </g>\n     </g>\n     <g id=\"text_7\">\n      <!-- 50 -->\n      <g transform=\"translate(13.5625 184.190135)scale(0.1 -0.1)\">\n       <use xlink:href=\"#DejaVuSans-53\"/>\n       <use x=\"63.623047\" xlink:href=\"#DejaVuSans-48\"/>\n      </g>\n     </g>\n    </g>\n    <g id=\"ytick_3\">\n     <g id=\"line2d_15\">\n      <path clip-path=\"url(#p7e1c149972)\" d=\"M 33.2875 136.141832 \nL 368.0875 136.141832 \n\" style=\"fill:none;stroke:#b0b0b0;stroke-linecap:square;stroke-width:0.8;\"/>\n     </g>\n     <g id=\"line2d_16\">\n      <g>\n       <use style=\"stroke:#000000;stroke-width:0.8;\" x=\"33.2875\" xlink:href=\"#m205687ecb3\" y=\"136.141832\"/>\n      </g>\n     </g>\n     <g id=\"text_8\">\n      <!-- 100 -->\n      <g transform=\"translate(7.2 139.94105)scale(0.1 -0.1)\">\n       <use xlink:href=\"#DejaVuSans-49\"/>\n       <use x=\"63.623047\" xlink:href=\"#DejaVuSans-48\"/>\n       <use x=\"127.246094\" xlink:href=\"#DejaVuSans-48\"/>\n      </g>\n     </g>\n    </g>\n    <g id=\"ytick_4\">\n     <g id=\"line2d_17\">\n      <path clip-path=\"url(#p7e1c149972)\" d=\"M 33.2875 91.892747 \nL 368.0875 91.892747 \n\" style=\"fill:none;stroke:#b0b0b0;stroke-linecap:square;stroke-width:0.8;\"/>\n     </g>\n     <g id=\"line2d_18\">\n      <g>\n       <use style=\"stroke:#000000;stroke-width:0.8;\" x=\"33.2875\" xlink:href=\"#m205687ecb3\" y=\"91.892747\"/>\n      </g>\n     </g>\n     <g id=\"text_9\">\n      <!-- 150 -->\n      <g transform=\"translate(7.2 95.691966)scale(0.1 -0.1)\">\n       <use xlink:href=\"#DejaVuSans-49\"/>\n       <use x=\"63.623047\" xlink:href=\"#DejaVuSans-53\"/>\n       <use x=\"127.246094\" xlink:href=\"#DejaVuSans-48\"/>\n      </g>\n     </g>\n    </g>\n    <g id=\"ytick_5\">\n     <g id=\"line2d_19\">\n      <path clip-path=\"url(#p7e1c149972)\" d=\"M 33.2875 47.643663 \nL 368.0875 47.643663 \n\" style=\"fill:none;stroke:#b0b0b0;stroke-linecap:square;stroke-width:0.8;\"/>\n     </g>\n     <g id=\"line2d_20\">\n      <g>\n       <use style=\"stroke:#000000;stroke-width:0.8;\" x=\"33.2875\" xlink:href=\"#m205687ecb3\" y=\"47.643663\"/>\n      </g>\n     </g>\n     <g id=\"text_10\">\n      <!-- 200 -->\n      <g transform=\"translate(7.2 51.442882)scale(0.1 -0.1)\">\n       <use xlink:href=\"#DejaVuSans-50\"/>\n       <use x=\"63.623047\" xlink:href=\"#DejaVuSans-48\"/>\n       <use x=\"127.246094\" xlink:href=\"#DejaVuSans-48\"/>\n      </g>\n     </g>\n    </g>\n   </g>\n   <g id=\"patch_24\">\n    <path d=\"M 33.2875 224.64 \nL 33.2875 7.2 \n\" style=\"fill:none;stroke:#000000;stroke-linecap:square;stroke-linejoin:miter;stroke-width:0.8;\"/>\n   </g>\n   <g id=\"patch_25\">\n    <path d=\"M 368.0875 224.64 \nL 368.0875 7.2 \n\" style=\"fill:none;stroke:#000000;stroke-linecap:square;stroke-linejoin:miter;stroke-width:0.8;\"/>\n   </g>\n   <g id=\"patch_26\">\n    <path d=\"M 33.2875 224.64 \nL 368.0875 224.64 \n\" style=\"fill:none;stroke:#000000;stroke-linecap:square;stroke-linejoin:miter;stroke-width:0.8;\"/>\n   </g>\n   <g id=\"patch_27\">\n    <path d=\"M 33.2875 7.2 \nL 368.0875 7.2 \n\" style=\"fill:none;stroke:#000000;stroke-linecap:square;stroke-linejoin:miter;stroke-width:0.8;\"/>\n   </g>\n  </g>\n </g>\n <defs>\n  <clipPath id=\"p7e1c149972\">\n   <rect height=\"217.44\" width=\"334.8\" x=\"33.2875\" y=\"7.2\"/>\n  </clipPath>\n </defs>\n</svg>\n",
      "image/png": "[encoded data removed]"
     },
     "metadata": {
      "needs_background": "light"
     }
    }
   ],
   "source": [
    "datasets_per_paper[datasets_per_paper != 1].hist(bins=np.arange(25)[3:])"
   ]
  },
  {
   "source": [
    "## Publications with same title"
   ],
   "cell_type": "markdown",
   "metadata": {}
  },
  {
   "cell_type": "code",
   "execution_count": 162,
   "metadata": {},
   "outputs": [
    {
     "output_type": "execute_result",
     "data": {
      "text/plain": [
       "                                                                                                   Id\n",
       "pub_title                                                                                            \n",
       "A quantitative examination of lightning as a pr...  [d1954347-2b50-4b06-991a-6e6d018aee98, 64e61b3...\n",
       "A structural equation model for imaging genetic...  [6120275e-3ba8-4e1e-af75-30fd907fc24a, c694fcd...\n",
       "Agricultural Resources and Environmental Indica...  [126351b2-11fc-4c32-9beb-62a593531b0a, a2c28b4...\n",
       "Alzheimer's disease Archimedes condition-event ...  [77ac09b9-cbec-4c12-a4fa-b392cbcca181, a7d4c1e...\n",
       "Assessing the oceanic control on the amplitude ...  [79faa12f-d122-49a6-8182-ff6146081a6f, aa75f8b...\n",
       "Basal forebrain volume reliably predicts the co...  [a768a188-6de7-4414-934f-436c806dd2b8, e2bd935...\n",
       "Characteristics and Production Costs of U.S. Ho...  [4d36bb2d-e128-48b3-8b52-5193adcb3d3a, 9a26ef5...\n",
       "Characterizing biomarker features of cognitivel...  [4f6e6a31-66a4-498c-9abb-2a08e60cb124, 8e789ed...\n",
       "Climate Change, Heat Stress, and U.S. Dairy Pro...  [14f2137d-f9b6-4203-aae8-3b6b8fbe0d93, d6a7989...\n",
       "Computational analysis of microRNA-mediated int...  [34f05a28-926d-42cc-94d2-4ed8acc2a359, 643e8e8...\n",
       "Convective structure in rapidly intensifying tr...  [f21305aa-9e00-47fb-9d07-fb844a8640f2, 8aeccae...\n",
       "Do 2-year changes in superior frontal gyrus and...  [6c178ca8-72ab-41d7-8c06-98b5aa6e4f78, 58b5a12...\n",
       "Domain Transfer Learning for MCI Conversion Pre...  [3afce888-b3ad-4926-b9d2-aed98e656df8, 626cd3b...\n",
       "Evaluating Tidal Marsh Sustainability in the Fa...  [0bae77e1-a50d-446c-ac51-d5d4e991d2d0, 695d35c...\n",
       "Expectancy-Value Models for the STEM Persistenc...  [cba48f13-c098-4076-9a2a-9e8d80d852d4, 5915d48...\n",
       "Extreme floods and their relationship with trop...  [c1552b43-5d6a-4a1d-bd79-0ceffbc5284e, 52a54d7...\n",
       "HMGCR is a genetic modifier for risk, age of on...  [2e34542d-5932-4e9b-8884-bf02c5638f7c, 1249e4f...\n",
       "Haplotype networks of SARS-CoV-2 infections in ...  [92e24665-d8dc-4328-bbd1-af16295ae071, 3cad443...\n",
       "Highly adaptive tests for group differences in ...  [457d5077-46d1-4dca-8753-ece3f28a1caa, e70fbb6...\n",
       "Intrabasin Variability of East Pacific Tropical...  [7af135cf-7167-4fd3-9583-29890fd75b3e, 136cc57...\n",
       "Late retirement, early careers, and the aging o...  [14966641-dc86-45ae-b22b-2434fd859705, be980a3...\n",
       "Longitudinal structural cerebral changes relate...  [02e588e6-cf88-4e9a-ba16-7dfef6057447, 67af7dc...\n",
       "Memory concerns in the early Alzheimer's diseas...  [e543562d-164c-4565-8088-c15c0f51713f, a090569...\n",
       "Molecular Architecture of Early Dissemination a...  [cc81652d-51b2-49b2-be7a-1842125a698b, e397068...\n",
       "Monitoring the compliance of the academic enter...  [82e36f36-5250-4b0b-ae70-be06951ba267, 4194c42...\n",
       "Multimodal Hippocampal Subfield Grading For Alz...  [5a951657-d3ee-4f12-8ed3-f7b9f685e1cd, e3da260...\n",
       "Multivariate association between single-nucleot...  [95e98a16-f96d-415d-bd2b-64e09023f3b5, 048249b...\n",
       "PHURIE: hurricane intensity estimation from inf...  [db58bb8f-4a11-4868-b730-63969d4886dc, 69527d5...\n",
       "Past and Projected Changes in Western North Pac...  [91a5477a-cbb9-45da-ba9d-88a5635155f7, 900dcb0...\n",
       "Profits, Costs, and the Changing Structure of D...  [a17efc72-d49b-4df2-bfad-be579cf6d27d, b41dbd7...\n",
       "Re-Examining Exit Exams: New Findings from the ...  [2d10f327-d752-4be2-95c0-b1f2f05f8178, b2ad2a1...\n",
       "Regional staging of white matter signal abnorma...  [a660bd26-7b61-48b9-8807-0f395c5897dc, f876904...\n",
       "Secondary Education Systems and the General Ski...  [911c9f84-74b9-482c-8f6a-18717617c404, 0a2238e...\n",
       "Sets of coregulated serum lipids are associated...  [2881cf81-5f48-4377-9082-6de102daad07, 1912e5a...\n",
       "Subseasonal Variability of Rossby Wave Breaking...  [b25b69ba-e647-4746-bf5c-444d627517b1, 92eeb54...\n",
       "Table of Contents                                   [43c8cbc1-526b-425b-84b9-39f7b4d484f9, 764817d...\n",
       "The Twentieth Century Reanalysis Project            [466ef57f-5305-45e3-bae6-b166eefa0cbb, a0f3c2a...\n",
       "The heated condensation framework as a convecti...  [45949999-29d4-46ce-9fdd-582cd33cbdb4, 386ac29...\n",
       "The remarkable predictability of inter-annual v...  [ade9713c-a6e1-4745-a531-237a7d39e4bc, 006b4bf...\n",
       "Tornado seasonality in the southeastern United ...  [94e6a862-2909-4fbe-9b39-8d68611414bc, 62f899a...\n",
       "Trajectories of Academic Achievement in High Sc...  [e838361d-fa70-40ab-97b9-7ac816529982, 4805591...\n",
       "Uncovering the heterogeneity and temporal compl...  [d803959c-275f-4365-b062-aaecba83a99a, 069bc90...\n",
       "Understanding Science Achievement Gaps by Race/...  [25755073-a7a5-4e21-a108-2bb968414698, b64a013...\n",
       "Understanding the Influence of Race/Ethnicity, ...  [ab8c781e-f63c-4eb2-8983-7d27a6f665b0, b186af5...\n",
       "Within-District Effects of Catholic Schooling o...  [c9760368-21fd-4e5c-ae71-266df295cec5, 2a25c6b..."
      ],
      "text/html": "<div>\n<style scoped>\n    .dataframe tbody tr th:only-of-type {\n        vertical-align: middle;\n    }\n\n    .dataframe tbody tr th {\n        vertical-align: top;\n    }\n\n    .dataframe thead th {\n        text-align: right;\n    }\n</style>\n<table border=\"1\" class=\"dataframe\">\n  <thead>\n    <tr style=\"text-align: right;\">\n      <th></th>\n      <th>Id</th>\n    </tr>\n    <tr>\n      <th>pub_title</th>\n      <th></th>\n    </tr>\n  </thead>\n  <tbody>\n    <tr>\n      <th>A quantitative examination of lightning as a predictor of peak winds in tropical cyclones</th>\n      <td>[d1954347-2b50-4b06-991a-6e6d018aee98, 64e61b3...</td>\n    </tr>\n    <tr>\n      <th>A structural equation model for imaging genetics using spatial transcriptomics</th>\n      <td>[6120275e-3ba8-4e1e-af75-30fd907fc24a, c694fcd...</td>\n    </tr>\n    <tr>\n      <th>Agricultural Resources and Environmental Indicators, 2012 Edition</th>\n      <td>[126351b2-11fc-4c32-9beb-62a593531b0a, a2c28b4...</td>\n    </tr>\n    <tr>\n      <th>Alzheimer's disease Archimedes condition-event simulator: Development and validation</th>\n      <td>[77ac09b9-cbec-4c12-a4fa-b392cbcca181, a7d4c1e...</td>\n    </tr>\n    <tr>\n      <th>Assessing the oceanic control on the amplitude of sea surface cooling induced by tropical cyclones</th>\n      <td>[79faa12f-d122-49a6-8182-ff6146081a6f, aa75f8b...</td>\n    </tr>\n    <tr>\n      <th>Basal forebrain volume reliably predicts the cortical spread of Alzheimer’s degeneration</th>\n      <td>[a768a188-6de7-4414-934f-436c806dd2b8, e2bd935...</td>\n    </tr>\n    <tr>\n      <th>Characteristics and Production Costs of U.S. Hog Farms, 2004</th>\n      <td>[4d36bb2d-e128-48b3-8b52-5193adcb3d3a, 9a26ef5...</td>\n    </tr>\n    <tr>\n      <th>Characterizing biomarker features of cognitively normal individuals with ventriculomegaly</th>\n      <td>[4f6e6a31-66a4-498c-9abb-2a08e60cb124, 8e789ed...</td>\n    </tr>\n    <tr>\n      <th>Climate Change, Heat Stress, and U.S. Dairy Production</th>\n      <td>[14f2137d-f9b6-4203-aae8-3b6b8fbe0d93, d6a7989...</td>\n    </tr>\n    <tr>\n      <th>Computational analysis of microRNA-mediated interactions in SARS-CoV-2 infection</th>\n      <td>[34f05a28-926d-42cc-94d2-4ed8acc2a359, 643e8e8...</td>\n    </tr>\n    <tr>\n      <th>Convective structure in rapidly intensifying tropical cyclones as depicted by passive microwave measurements</th>\n      <td>[f21305aa-9e00-47fb-9d07-fb844a8640f2, 8aeccae...</td>\n    </tr>\n    <tr>\n      <th>Do 2-year changes in superior frontal gyrus and global brain atrophy affect cognition?</th>\n      <td>[6c178ca8-72ab-41d7-8c06-98b5aa6e4f78, 58b5a12...</td>\n    </tr>\n    <tr>\n      <th>Domain Transfer Learning for MCI Conversion Prediction</th>\n      <td>[3afce888-b3ad-4926-b9d2-aed98e656df8, 626cd3b...</td>\n    </tr>\n    <tr>\n      <th>Evaluating Tidal Marsh Sustainability in the Face of Sea-Level Rise: A Hybrid Modeling Approach Applied to San Francisco Bay</th>\n      <td>[0bae77e1-a50d-446c-ac51-d5d4e991d2d0, 695d35c...</td>\n    </tr>\n    <tr>\n      <th>Expectancy-Value Models for the STEM Persistence Plans of Ninth-Grade, High-Ability Students: A Comparison Between Black, Hispanic, and White Students</th>\n      <td>[cba48f13-c098-4076-9a2a-9e8d80d852d4, 5915d48...</td>\n    </tr>\n    <tr>\n      <th>Extreme floods and their relationship with tropical cyclones in Puerto Rico</th>\n      <td>[c1552b43-5d6a-4a1d-bd79-0ceffbc5284e, 52a54d7...</td>\n    </tr>\n    <tr>\n      <th>HMGCR is a genetic modifier for risk, age of onset and MCI conversion to Alzheimer’s disease in a three cohorts study</th>\n      <td>[2e34542d-5932-4e9b-8884-bf02c5638f7c, 1249e4f...</td>\n    </tr>\n    <tr>\n      <th>Haplotype networks of SARS-CoV-2 infections in the Diamond Princess cruise ship outbreak</th>\n      <td>[92e24665-d8dc-4328-bbd1-af16295ae071, 3cad443...</td>\n    </tr>\n    <tr>\n      <th>Highly adaptive tests for group differences in brain functional connectivity</th>\n      <td>[457d5077-46d1-4dca-8753-ece3f28a1caa, e70fbb6...</td>\n    </tr>\n    <tr>\n      <th>Intrabasin Variability of East Pacific Tropical Cyclones During ENSO Regulated by Central American Gap Winds</th>\n      <td>[7af135cf-7167-4fd3-9583-29890fd75b3e, 136cc57...</td>\n    </tr>\n    <tr>\n      <th>Late retirement, early careers, and the aging of U.S. science and engineering professors</th>\n      <td>[14966641-dc86-45ae-b22b-2434fd859705, be980a3...</td>\n    </tr>\n    <tr>\n      <th>Longitudinal structural cerebral changes related to core CSF biomarkers in preclinical Alzheimer's disease: A study of two independent datasets</th>\n      <td>[02e588e6-cf88-4e9a-ba16-7dfef6057447, 67af7dc...</td>\n    </tr>\n    <tr>\n      <th>Memory concerns in the early Alzheimer's disease prodrome: Regional association with tau deposition</th>\n      <td>[e543562d-164c-4565-8088-c15c0f51713f, a090569...</td>\n    </tr>\n    <tr>\n      <th>Molecular Architecture of Early Dissemination and Massive Second Wave of the SARS-CoV-2 Virus in a Major Metropolitan Area</th>\n      <td>[cc81652d-51b2-49b2-be7a-1842125a698b, e397068...</td>\n    </tr>\n    <tr>\n      <th>Monitoring the compliance of the academic enterprise with the Fair Labor Standards Act</th>\n      <td>[82e36f36-5250-4b0b-ae70-be06951ba267, 4194c42...</td>\n    </tr>\n    <tr>\n      <th>Multimodal Hippocampal Subfield Grading For Alzheimer’s Disease Classification</th>\n      <td>[5a951657-d3ee-4f12-8ed3-f7b9f685e1cd, e3da260...</td>\n    </tr>\n    <tr>\n      <th>Multivariate association between single-nucleotide polymorphisms in Alzgene linkage regions and structural changes in the brain: discovery, refinement and validation</th>\n      <td>[95e98a16-f96d-415d-bd2b-64e09023f3b5, 048249b...</td>\n    </tr>\n    <tr>\n      <th>PHURIE: hurricane intensity estimation from infrared satellite imagery using machine learning</th>\n      <td>[db58bb8f-4a11-4868-b730-63969d4886dc, 69527d5...</td>\n    </tr>\n    <tr>\n      <th>Past and Projected Changes in Western North Pacific Tropical Cyclone Exposure</th>\n      <td>[91a5477a-cbb9-45da-ba9d-88a5635155f7, 900dcb0...</td>\n    </tr>\n    <tr>\n      <th>Profits, Costs, and the Changing Structure of Dairy Farming</th>\n      <td>[a17efc72-d49b-4df2-bfad-be579cf6d27d, b41dbd7...</td>\n    </tr>\n    <tr>\n      <th>Re-Examining Exit Exams: New Findings from the Education Longitudinal Study of 2002</th>\n      <td>[2d10f327-d752-4be2-95c0-b1f2f05f8178, b2ad2a1...</td>\n    </tr>\n    <tr>\n      <th>Regional staging of white matter signal abnormalities in aging and Alzheimer's disease</th>\n      <td>[a660bd26-7b61-48b9-8807-0f395c5897dc, f876904...</td>\n    </tr>\n    <tr>\n      <th>Secondary Education Systems and the General Skills of Less- and Intermediate-educated Adults</th>\n      <td>[911c9f84-74b9-482c-8f6a-18717617c404, 0a2238e...</td>\n    </tr>\n    <tr>\n      <th>Sets of coregulated serum lipids are associated with Alzheimer's disease pathophysiology</th>\n      <td>[2881cf81-5f48-4377-9082-6de102daad07, 1912e5a...</td>\n    </tr>\n    <tr>\n      <th>Subseasonal Variability of Rossby Wave Breaking and Impacts on Tropical Cyclones during the North Atlantic Warm Season</th>\n      <td>[b25b69ba-e647-4746-bf5c-444d627517b1, 92eeb54...</td>\n    </tr>\n    <tr>\n      <th>Table of Contents</th>\n      <td>[43c8cbc1-526b-425b-84b9-39f7b4d484f9, 764817d...</td>\n    </tr>\n    <tr>\n      <th>The Twentieth Century Reanalysis Project</th>\n      <td>[466ef57f-5305-45e3-bae6-b166eefa0cbb, a0f3c2a...</td>\n    </tr>\n    <tr>\n      <th>The heated condensation framework as a convective trigger in the NCEP Climate Forecast System version 2</th>\n      <td>[45949999-29d4-46ce-9fdd-582cd33cbdb4, 386ac29...</td>\n    </tr>\n    <tr>\n      <th>The remarkable predictability of inter-annual variability of Atlantic hurricanes during the past decade</th>\n      <td>[ade9713c-a6e1-4745-a531-237a7d39e4bc, 006b4bf...</td>\n    </tr>\n    <tr>\n      <th>Tornado seasonality in the southeastern United States</th>\n      <td>[94e6a862-2909-4fbe-9b39-8d68611414bc, 62f899a...</td>\n    </tr>\n    <tr>\n      <th>Trajectories of Academic Achievement in High Schools: Growth Mixture Model</th>\n      <td>[e838361d-fa70-40ab-97b9-7ac816529982, 4805591...</td>\n    </tr>\n    <tr>\n      <th>Uncovering the heterogeneity and temporal complexity of neurodegenerative diseases with Subtype and Stage Inference</th>\n      <td>[d803959c-275f-4365-b062-aaecba83a99a, 069bc90...</td>\n    </tr>\n    <tr>\n      <th>Understanding Science Achievement Gaps by Race/Ethnicity and Gender in Kindergarten and First Grade</th>\n      <td>[25755073-a7a5-4e21-a108-2bb968414698, b64a013...</td>\n    </tr>\n    <tr>\n      <th>Understanding the Influence of Race/Ethnicity, Gender, and Class on Inequalities in Academic and Non-Academic Outcomes among Eighth-Grade Students: Findings from an Intersectionality Approach</th>\n      <td>[ab8c781e-f63c-4eb2-8983-7d27a6f665b0, b186af5...</td>\n    </tr>\n    <tr>\n      <th>Within-District Effects of Catholic Schooling on 12th-Grade Math Achievement</th>\n      <td>[c9760368-21fd-4e5c-ae71-266df295cec5, 2a25c6b...</td>\n    </tr>\n  </tbody>\n</table>\n</div>"
     },
     "metadata": {},
     "execution_count": 162
    }
   ],
   "source": [
    "tmp = df[~df.duplicated(['Id'])] # remove duplicate 'Id' (publication with multiple datasets)\n",
    "same_title = tmp[tmp.duplicated('pub_title', keep=False)].groupby('pub_title')[['Id']].agg(list)#sort_values('pub_title')\n",
    "same_title"
   ]
  },
  {
   "cell_type": "code",
   "execution_count": 171,
   "metadata": {},
   "outputs": [
    {
     "output_type": "execute_result",
     "data": {
      "text/plain": [
       "['d1954347-2b50-4b06-991a-6e6d018aee98',\n",
       " '64e61b31-f198-4925-8aed-f9cbcf1b8a96']"
      ]
     },
     "metadata": {},
     "execution_count": 171
    }
   ],
   "source": [
    "same_title.iloc[0].Id"
   ]
  },
  {
   "cell_type": "code",
   "execution_count": 167,
   "metadata": {},
   "outputs": [],
   "source": [
    "with open(data_path+'train/'+same_title.iloc[0].Id[0]+'.json') as f:\n",
    "  f1 = json.load(f)\n",
    "with open(data_path+'train/'+same_title.iloc[0].Id[1]+'.json') as f:\n",
    "  f2 = json.load(f)"
   ]
  },
  {
   "cell_type": "code",
   "execution_count": 175,
   "metadata": {
    "tags": []
   },
   "outputs": [
    {
     "output_type": "stream",
     "name": "stdout",
     "text": [
      "{'section_title': 'Conclusions',\n 'text': 'We have recreated the Price approach for a set of 58 tropical '\n         'cyclones but were unable to duplicate the exact results that were '\n         'found in this study. However, we confirmed their broad conclusions '\n         'that the observed lightning variability is correlated to wind '\n         'variability and that on average, the lightning variation leads the '\n         'wind variation by ∼1 day. The Price approach has been extended from '\n         'the original 3 years of data to an 8 year data set which returns '\n         'broadly similar lag and correlation results when using a lightning '\n         'collection window of 10\\n'\n         '• square or of 500 km radius. The cross-correlation matching between '\n         'wind and lightning only has an ∼8% failure rate. We have calculated '\n         'both the 10\\n'\n         '• × 10\\n'\n         '• square lightning detection window, a radial distance in '\n         'kilometers, and performed the lightning to wind cross correlation '\n         'for a range of circular distances including toroidal rings. The '\n         'highest correlations were found for the < 300 km radial window with '\n         'a median linear correlation of 0.8. The calculated lag time for each '\n         'tropical cyclone using this < 300 km collection window shows a '\n         'double peak distribution at 0 and +66 h, at this smaller radius a '\n         'median or mean lag is not appropriate. The eyewall lightning at '\n         'distances < 50 km from the center of the storm provides only a '\n         'single peak around a zero time lag.\\n'\n         'These results suggest that the predictive timescale of lightning is '\n         'highly dependent upon which region of the cyclone is investigated. '\n         'When using a spatially large lightning collection window, our '\n         'results agree with other studies of high-category tropical cyclones '\n         '[e.g., Price et al., 2009; DeMaria et al., 2012; Pan et al., 2014] '\n         'of a ∼1 day value. When we look at the region containing the '\n         'eyewall, we find a 0 day value, indicating that eyewall lightning '\n         'cannot be used to predict wind intensification using this large '\n         'temporal-scale binning method. A case by case study looking at much '\n         'higher time resolutions near the eyewall would be required to look '\n         'for a potential predictive ability. We note that our results suggest '\n         'that if such a predictive relationship existed, it would provide no '\n         'more than 6 h advance warning. When we consider the < 300 km region '\n         '(rainband and eyewall) we find a double-peaked structure at ∼3 days '\n         '(agreeing with Pan et al. [2014] for weak tropical cyclones) and 0 '\n         'days. This 0 day lag is independent of the eyewall correlation peak, '\n         'confirmed by the 150-300 km window showing the same double peak '\n         'structure.'}\n"
     ]
    }
   ],
   "source": [
    "pprint(f1[-1])"
   ]
  },
  {
   "cell_type": "code",
   "execution_count": 176,
   "metadata": {},
   "outputs": [
    {
     "output_type": "stream",
     "name": "stdout",
     "text": [
      "{'section_title': 'Conclusions',\n 'text': 'We have recreated the Price approach for a set of 58 tropical '\n         'cyclones but were unable to duplicate the exact results that were '\n         'found in this study. However, we confirmed their broad conclusions '\n         'that lightning variability seems to be correlated to wind '\n         'variability and that on average, the lightning variation leads the '\n         'wind variation by ∼1 day. The Price approach has been extended from '\n         'the original 3 years of data to an 8 year dataset which returns '\n         'broadly similar lag and correlation results when using a lightning '\n         'collection window of 10 • square or of 500 km radius. The cross '\n         'correlation matching between wind and lightning only has an ∼8% '\n         'failure rate. We have calculated both the 10 • x 10 • square '\n         'lightning detection window, a radial distance in kilometers, and '\n         'performed the lightning to wind cross correlation for a range of '\n         'circular distances including toroidal rings. The highest '\n         'correlations were found for the < 300 km radial window with a median '\n         'linear correlation of 0.8. The calculated lag time for each tropical '\n         'cyclone using this < 300 km collection window, shows a double peak '\n         'distribution at 0 and +66 hours, at this smaller radius a median or '\n         'mean lag is not appropriate. The eyewall lightning at distances < 50 '\n         'km from the center of the storm provides only a single peak around a '\n         'zero time lag. These results suggest that the predictive timescale '\n         'of lightning is highly dependent upon which region of the cyclone is '\n         'investigated. When using a spatially large lightning collection '\n         'window our results agree with other studies of high category '\n         'tropical cyclones [e.g., Price, Mustafa and Yair , 2009;DeMaria et '\n         'al., 2012;Pan, Qie and Wang, 2014] of a ∼1 day value. When we look '\n         'at the region containing the eyewall we find a 0 day value, '\n         'indicating that eyewall lightning cannot be used to predict the wind '\n         'evolution. When we consider the < 300 km region (rainband and '\n         'eyewall) we find a double peaked structure at ∼3 days (agreeing with '\n         'Pan, Qie and Wang [2014] for weak tropical cyclones) and 0 days. '\n         'This 0 day lag is independent of the eyewall correlation peak, '\n         'confirmed by the 150-300 km window showing the same double peak '\n         'structure. Acknowledgments. This work was funded by a University of '\n         'Otago Research Grant. The tropical cyclone data was taken from the '\n         'IBTrACS database and the lightning data came from the WWLLN network, '\n         'both described in the data sources section.    Figure 3: The 8 year '\n         'dataset analysed using a circular window, in km rather than degrees, '\n         'centered on the storm. a) The distribution of lags using a 300 km '\n         'radial distance window for the lightning detection. b) The '\n         'distribution of lags using a 50 km radial distance, this distance is '\n         'most likely comprised of eyewall lightning.'}\n"
     ]
    }
   ],
   "source": [
    "pprint(f2[-1])"
   ]
  },
  {
   "cell_type": "code",
   "execution_count": 177,
   "metadata": {},
   "outputs": [
    {
     "output_type": "execute_result",
     "data": {
      "text/plain": [
       "['6120275e-3ba8-4e1e-af75-30fd907fc24a',\n",
       " 'c694fcdd-50a8-4018-a295-e4310cfb4dd5']"
      ]
     },
     "metadata": {},
     "execution_count": 177
    }
   ],
   "source": [
    "same_title.iloc[1].Id"
   ]
  },
  {
   "cell_type": "code",
   "execution_count": 178,
   "metadata": {},
   "outputs": [],
   "source": [
    "with open(data_path+'train/'+same_title.iloc[1].Id[0]+'.json') as f:\n",
    "  f1 = json.load(f)\n",
    "with open(data_path+'train/'+same_title.iloc[1].Id[1]+'.json') as f:\n",
    "  f2 = json.load(f)"
   ]
  },
  {
   "cell_type": "code",
   "execution_count": 194,
   "metadata": {},
   "outputs": [
    {
     "output_type": "stream",
     "name": "stdout",
     "text": [
      "[{'section_title': 'Abstract',\n  'text': 'Imaging genetics deals with relationships between genetic variation '\n          'and imaging variables, often in a disease context. The complex '\n          'relationships between brain volumes and genetic variants have been '\n          'explored with both dimension reduction methods and model-based '\n          'approaches. However, these models usually do not make use of the '\n          'extensive knowledge of the spatio-anatomical patterns of gene '\n          'activity. We present a method for integrating genetic markers '\n          '(single nucleotide polymorphisms) and imaging features, which is '\n          'based on a causal model and, at the same time, uses the power of '\n          'dimension reduction. We use structural equation models to find '\n          'latent variables that explain brain volume changes in a disease '\n          'context, and which are in turn affected by genetic variants. We '\n          'make use of publicly available spatial transcriptome data from the '\n          'Allen Human Brain Atlas to specify the model structure, which '\n          'reduces noise and improves interpretability. The model is tested in '\n          \"a simulation setting and applied on a case study of the Alzheimer's \"\n          'Disease Neuroimaging Initiative. which permits unrestricted use, '\n          'distribution, and reproduction in any medium, provided you give '\n          'appropriate credit to the original author(s) and the source, '\n          'provide a link to the Creative Commons license, and indicate if '\n          'changes were made.'},\n {'section_title': 'Introduction',\n  'text': 'The aim of imaging genetics studies is to find associations between '\n          'genetic variants and imaging features, often in a disease context '\n          '[1] . This scheme extends beyond traditional genome-wide '\n          'association studies (GWAS) by identifying genetic associations of '\n          'imaging biomarkers with the assumption that these biomarkers are a '\n          'more direct reflection of the genetic effects. Thus, they could '\n          'provide a stronger association signal [2] . Additionally, the '\n          'identified associations are likely to provide new insights into the '\n          'underlying disease mechanisms as well as new hypotheses about the '\n          'anatomical and/or functional locations involved in complex diseases '\n          '[3] .\\n'\n          'So far, imaging genetics studies have been largely focused on the '\n          'brain [1, [3] [4] [5] [6] , despite efforts to extend their '\n          'application to other fields [7] . Several large consortia have '\n          'gathered data from thousands of subjects to understand the effects '\n          'of genetic variants on brain structure and function [8] . One of '\n          'the hallmark sources for imaging genetics studies is the '\n          \"Alzheimer's Disease Neuroimaging Initiative (ADNI) database [9] . \"\n          'This database contains single nucleotide polymorphism (SNP) and '\n          \"structural MRI data for Alzheimer's patients, individuals with late \"\n          'mild cognitive impairment, and cognitive normal controls.\\n'\n          'One of the largest challenges facing imaging genetics studies is '\n          'the statistical power needed to identify reliable associations. In '\n          'a typical GWAS, researchers have to correct for the number of '\n          'independent tests performed (i.e. number of independent SNPs '\n          'tested) in order to limit the number of false-positive discoveries. '\n          'However, a genomewide brain-wide imaging genetic study will not '\n          'only have to correct for the number of independent SNPs, but also '\n          'for the number of independent imaging features tested. As a result, '\n          'many studies are underpowered to identify reliable associations. '\n          'One of the largest imaging genetics studies [10] analysed over '\n          '30,000 individuals within the Enhancing Neuro Imaging Genetics '\n          'through Meta-Analysis (ENIGMA) consortium. They performed a '\n          'genomewide association of SNPs with seven brain volumes and '\n          'identified only eight genome-wide significant SNPs.\\n'\n          'Despite the high dimensionality of the imaging data (millions of '\n          'voxels), the actual number of independent tests for which we need '\n          'to correct in an imaging genetics study is far smaller than the '\n          'number of voxels. Due to the spatial relationships between voxels, '\n          'measurements from neighbouring voxels are usually highly '\n          'correlated. A common approach is to test genetic associations for '\n          'anatomically defined brain regions [2] . Several studies have shown '\n          'that both neuroanatomical parcellation and connectivity of the '\n          'brain are strongly reflected in gene expression patterns across the '\n          'brain [11] [12] [13] . The public availability of brain '\n          'transcriptome atlases from the Allen Institute for Brain Science '\n          '[14] provides an opportunity to use these transcriptional '\n          'signatures to group the anatomically defined brain regions, further '\n          'limiting the number of effective tests.\\n'\n          'Several methods have been proposed to identify associations between '\n          'genetic variants and imaging features by applying dimension '\n          'reduction, such as variations of canonical correlation analysis '\n          '[15] , and independent component analysis (commonly used in a '\n          'functional MRI context) [4] . Others have opted to model the '\n          'interactions between the different data types explicitly, for '\n          'instance using graphical Bayesian models [16, 17] which capture a '\n          'more mechanistic causal view of the data. These models consist of a '\n          'directed acyclic graph, which can easily be made to incorporate '\n          'covariates, including possible confounding factors. Both of these '\n          'studies use relatively small candidate SNP sets, because they aim '\n          'for understanding SNP-brain relationships rather than the discovery '\n          'of genome-wide associations. However, these Bayesian models are '\n          'quite challenging to specify and fit.\\n'\n          'In this work, we propose a method to identify associations between '\n          'candidate genetic variants and imaging features allowing for the '\n          'incorporation of prior knowledge. The proposed method combines a '\n          'graphical model with dimension reduction to model the effect of '\n          'SNPs on brain imaging features through a set of latent variables. '\n          'We use a maximum likelihood structural equation modelling (SEM) '\n          'approach to find the edge weights of our model [18] . By performing '\n          'dimensionality reduction within the model, we reduce the number of '\n          'parameters to be estimated. In addition, the model allows for easy '\n          'incorporation of information from the Allen Human Brain Atlas [12] '\n          'to inform the grouping of brain regions based on the similarity of '\n          'their transcriptional profiles.\\n'\n          'Our model uses the transcriptional profiles for grouping because we '\n          'consider gene expression to be an intermediate phenotype, that '\n          'links SNPs to brain imaging features. Most disease-associated SNPs '\n          'are located near regulatory regions of the genome [19] , and the '\n          'effects of SNPs on expression tend to be tissue and cell type '\n          'specific [20] . Gene expression data of brain regions reflect cell '\n          'type composition and anatomical similarity [12] and capture a wide '\n          'range of brain-specific molecular pathways [21] . For these reasons '\n          'the region groups in the dimension reduction are based on spatial '\n          'gene expression data of the brain.'}]\n"
     ]
    }
   ],
   "source": [
    "pprint(f1[0:2])"
   ]
  },
  {
   "cell_type": "code",
   "execution_count": 195,
   "metadata": {},
   "outputs": [
    {
     "output_type": "stream",
     "name": "stdout",
     "text": [
      "[{'section_title': 'Abstract',\n  'text': \"Alzheimer's disease is a neurodegenerative disorder that causes \"\n          'changes in the structure of the brain, observable with MRI scans, '\n          'and that has a strong heritable component, reflected in the DNA. '\n          'Imaging genetics deals with such relationships between genetic '\n          'variation and imaging variables, often in a disease context. The '\n          'complex relationships between brain volumes and genetic variants '\n          'have been explored both with dimension reduction methods and model '\n          'based approaches. However, these models usually do not make use of '\n          'the extensive knowledge of the spatio-anatomical patterns of gene '\n          'activity. We present a method for integrating genetic markers '\n          '(single nucleotide polymorphisms) and imaging features, which is '\n          'based on a causal model and, at the same time, uses the power of '\n          'dimension reduction. We use structural equation models to find '\n          'latent variables that explain brain volume changes in a disease '\n          'context, and which are in turn affected by genetic variants. We '\n          'make use of publicly available spatial transcriptome data from the '\n          'Allen Human Brain Atlas to specify the model structure, which '\n          'reduces noise and improves interpretability. The model is tested in '\n          'a simulation setting, and applied on a case study of the '\n          \"Alzheimer's Disease Neuroimaging Initiative.\"},\n {'section_title': 'Introduction',\n  'text': 'The aim of imaging genetics studies is to find associations between '\n          'genetic variants and imaging features, often in a disease context '\n          '[1] . This scheme extends beyond traditional genome wide '\n          'association studies (GWAS) by identifying genetic associations of '\n          'imaging biomarkers with the assumption that these biomarkers are a '\n          'more direct reflection of the genetic effects. Thus, they could '\n          'provide a stronger association signal [2] . Additionally, the '\n          'identified associations are likely to provide new insights into the '\n          'underlying disease mechanisms as well as new hypotheses about the '\n          'anatomical and/or functional locations involved in complex diseases '\n          '[3] . So far, imaging genetics studies have been largely focused on '\n          'the brain [1, [3] [4] [5] [6] , despite efforts to extend their '\n          'application to other fields [7] . Several large consortia have '\n          'gathered data from thousands of subjects to understand the effects '\n          'of genetic variants on brain structure and function [8] . One of '\n          'the hallmark sources for imaging genetics studies is the '\n          \"Alzheimer's Disease Neuroimaging Initiative (ADNI) database [9] . \"\n          'This database contains single nucleotide polymorphism (SNP) and '\n          \"structural MRI data for Alzheimer's patients, individuals with late \"\n          'mild cognitive impairment, and cognitive normal controls.\\n'\n          'One of the largest challenges facing imaging genetics studies is '\n          'the statistical power needed to identify reliable associations. In '\n          'a typical GWAS, researchers have to correct for the number of '\n          'independent tests performed (i.e. number of independent SNPs '\n          'tested) in order to limit the number of false positive discoveries. '\n          'However, a genome-wide brain-wide imaging genetic study will not '\n          'only have to correct for the number of independent SNPs, but also '\n          'for the number of independent imaging features tested. This '\n          'requirement yields most of the studies underpowered to identify '\n          'reliable associations. One of the largest imaging genetics studies '\n          '[10] analyzed over 30,000 individuals within the Enhancing Neuro '\n          'Imaging Genetics through Meta-Analysis (ENIGMA) consortium. They '\n          'performed a genome wide association of SNPs with seven brain '\n          'volumes, and identified only eight genome wide significant SNPs.\\n'\n          'Despite the high dimensionality of the imaging data (millions of '\n          'voxels), the actual number of independent tests for which we need '\n          'to correct in an imaging genetics study is far smaller than the '\n          'number of voxels. Due to the spatial relationships between voxels, '\n          'measurements from neighboring voxels are usually highly correlated. '\n          'A common approach is to test genetic associations for anatomically '\n          'defined brain regions [2] . Several studies have shown that both '\n          'neuroanatomical parcellation and connectivity of the brain are '\n          'strongly reflected in gene expression patterns across the brain '\n          '[11] [12] [13] . The public availability of brain transcriptome '\n          'atlases from the Allen Institute for Brain Science [14] provides an '\n          'opportunity to use these transcriptional signatures to group brain '\n          'regions, limiting the number of effective tests.\\n'\n          'Several methods have been proposed to identify associations between '\n          'genetic variants and imaging features by applying dimension '\n          'reduction, such as variations of canonical correlation analysis '\n          '[15] , and independent component analysis (commonly used in a '\n          'functional MRI context) [4] . Others have opted to model the '\n          'interactions between the different data types explicitly. Both [16] '\n          'and [17] pose graphical Bayesian models which capture a more '\n          'mechanistic causal view of the data. These models consist of a '\n          'directed acyclic graph, which can easily be made to incorporate '\n          'covariates, including possible confounding factors. Both studies '\n          'use relatively small candidate SNP sets, because they aim for '\n          'understanding SNP brain relationships rather than the discovery of '\n          'genome wide associations. However, these Bayesian models are quite '\n          'challenging to specify and fit.\\n'\n          'In this work, we propose a method to identify associations between '\n          'candidate genetic variants and imaging features allowing for the '\n          'incorporation of prior knowledge. The proposed method combines a '\n          'graphical model with dimension reduction to model the effect of '\n          'SNPs on brain imaging features through a set of latent variables. '\n          'We use a maximum likelihood structural equation modelling (SEM) '\n          'approach to find the edge weights of our model [18] . By performing '\n          'dimensionality reduction within the model, we reduce the number of '\n          'parameters to be estimated. In addition, the model allows for easy '\n          'incorporation of information from the Allen Human Brain Atlas [12] '\n          'to inform the grouping of brain regions based on the similarity of '\n          'their transcriptional profiles.'}]\n"
     ]
    }
   ],
   "source": [
    "pprint(f2[0:2])"
   ]
  },
  {
   "cell_type": "code",
   "execution_count": 198,
   "metadata": {},
   "outputs": [
    {
     "output_type": "stream",
     "name": "stdout",
     "text": [
      "[{'section_title': 'Conclusion',\n  'text': 'We have proposed the use of a maximum likelihood structural '\n          'equation model for combining SNP data and structural brain area '\n          'measurements. The model makes use of external gene expression data, '\n          'to define groups of brain regions that may respond similarly to '\n          'genetic variation. For each of these region groups, we define a '\n          'latent variable, which captures the relationship between the '\n          'regions in a group and genetic variation. We have applied the model '\n          'to a simulated data set, to show it can capture disease-relevant '\n          'variation and identify causal SNPs. In addition, we have applied '\n          \"the model to the ADNI data set, containing Alzheimer's patients, \"\n          'individuals with late mild cognitive impairment, and cognitive '\n          'healthy controls. One SNP, linked to APOE, shows a reproducible '\n          'significant relationship to the latent variable that captures '\n          'hippocampal volume change. This latent variable, and the ones '\n          'representing the cerebral cortex, amygdala, and sulci and spaces, '\n          'also significantly associate with the disease diagnosis. This shows '\n          'that our approach can be used to integrate several data types and '\n          'yield interpretable results. The fitting process of the structural '\n          'equation model has relatively high computational cost. It is truly '\n          'multivariate, which makes it infeasible at the moment to perform '\n          'genome-wide analysis. It does have advantages for incorporating a '\n          'large number of variables, since it allows for straightforward '\n          'inclusion of constraints on CN  LMCI  AD  CN  LMCI  AD  CN  LMCI  '\n          'AD  CN  LMCI  AD  CN  LMCI  AD  CN  LMCI  AD  CN  LMCI  AD  CN  '\n          'LMCI  AD  CN  LMCI the parameter estimates [23] . With a constraint '\n          'on the sum of squared weights, one could for instance implement a '\n          'ridge regression. In addition, the model allows for the inclusion '\n          'of additional data. This can be done either in the specification of '\n          'the model structure, as we have done for the region groups, or by '\n          'adding observed variables to the model. In our model, we chose to '\n          'group brain regions based on the similarity of their expression '\n          'profiles in the healthy brain. An interesting extension to the '\n          'model would be to incorporate a layer of latent variables to '\n          'reflect a grouping of the SNPs. These groups could also be based on '\n          'the similarity of the brain-wide expression patterns of the '\n          'associated genes. These results show that maximum likelihood SEM is '\n          'a versatile approach for data integration, which can be used to '\n          'elucidate the relationships between genetic variation, structural '\n          'brain phenotypes, and brain disease.'}]\n"
     ]
    }
   ],
   "source": [
    "pprint(f1[-1:])"
   ]
  },
  {
   "cell_type": "code",
   "execution_count": 199,
   "metadata": {},
   "outputs": [
    {
     "output_type": "stream",
     "name": "stdout",
     "text": [
      "[{'section_title': 'Conclusion',\n  'text': 'We have proposed the use of a maximum likelihood structural '\n          'equation model for combining SNP data and structural brain area '\n          'measurements. The model makes use of external gene expression data, '\n          'to define groups of brain regions that may respond similarly to '\n          'genetic variation. For each of these region groups, we define a '\n          'latent variable, which captures the relationship between the '\n          'regions in a group and genetic variation. We have applied the model '\n          'on a simulated dataset, to show it can capture disease relevant '\n          'variation and identify causal SNPs. In addition, we have applied '\n          \"the model to the ADNI dataset, containing Alzheimer's patients, \"\n          'individuals with late mild cognitive impairment, and cognitive '\n          'healthy controls. One SNP, linked to APOE, shows a reproducible '\n          'significant relationship to the latent variable that captures '\n          'hippocampal volume change. This latent variable, and that of the '\n          'cerebral cortex, amygdala, and sulci & spaces also significantly '\n          'associate with the disease diagnosis. This shows that our approach '\n          'can be used to integrate several data types, and yield '\n          'interpretable results.\\n'\n          'The fitting process of the structural equation model has relatively '\n          'high computational cost. It is truly multivariate, which makes it '\n          'infeasible at the moment to perform genome-wide analysis. It does '\n          'have advantages for incorporating a large number of variables, '\n          'since it allows for straightforward inclusion of constraints on the '\n          'parameter estimates [20] . With a constraint on the sum of squared '\n          'weights, one could for instance implement a ridge regression. In '\n          'addition, the model allows for the inclusion of additional data. '\n          'This can be done either in the specification of the model '\n          'structure, as we have done for the region groups, or by adding '\n          'observed variables to the model.\\n'\n          'These results show that maximum likelihood SEM is a versatile '\n          'approach for data integration, which can be used to elucidate the '\n          'relationships between genetic variation, structural brain '\n          'phenotypes, and brain disease.'},\n {'section_title': 'Supporting information',\n  'text': 'Supplemental Fig 1 Weights (loadings) from the latent variables to '\n          'the region measurements. The rows correspond to latent variables '\n          '(region groups), and the columns to brain regions. Each first '\n          'loading per region group was set to 1, for model identifiability. '\n          'The loadings show the strength of the relationship between each '\n          'latent variable and the thickness/volume of its corresponding brain '\n          'regions. See Table S1 for the meaning of the region codes.\\n'\n          'Supplemental Table 1 All brain regions used in the ADNI section, '\n          'with their region group code, manually annotated ABA region, ADNI '\n          'code, and ADNI description. Region group codes: Cr-Cortex = '\n          'cerebral cortex; Hippocam = hippocampal formation; Amygdala = '\n          'amygdala; Striatum = striatum; DorsThal = dorsal thalamus; SubCort1 '\n          '= sub-cortical regions 1; SubCort2 = sub-cortical regions 2; '\n          'ClCortex = cerebellar cortex; SulcSpac = sulci and spaces.'}]\n"
     ]
    }
   ],
   "source": [
    "pprint(f2[-2:])"
   ]
  },
  {
   "source": [
    "We can see that these are not different publications with the same name, but the same publication duplicated in the train/ folders, with different ids.  \n",
    "They sometime have a different abstracts, an extra section at the end.  \n",
    "So they may be different versions of the same paper.\n",
    "\n",
    "Indeed, for \"A structural equation model for imaging genetics using spatial transcriptomics\", the first id correspond to the Brain Informatics edition and the second is from Biorxiv.org"
   ],
   "cell_type": "markdown",
   "metadata": {}
  },
  {
   "source": [
    "# dataset_title vs dataset_label"
   ],
   "cell_type": "markdown",
   "metadata": {}
  },
  {
   "cell_type": "code",
   "execution_count": null,
   "metadata": {},
   "outputs": [],
   "source": [
    "# faire une df de dataset_title | [liste de dataset_labels]"
   ]
  },
  {
   "cell_type": "code",
   "execution_count": null,
   "metadata": {},
   "outputs": [],
   "source": [
    "# voir comment est traité le cas où un même papier cite plusieurs fois le même dataset de façon différentes\n",
    "# et lorsqu'un papier cite un dataset en juxtaposant le nom complet et l'acronyme. le train.csv sélectionne parfois le nom complet, et d'autres fois l'acronyme…"
   ]
  },
  {
   "cell_type": "code",
   "execution_count": null,
   "metadata": {},
   "outputs": [],
   "source": [
    "# checker discussions kaggle à ce propos"
   ]
  },
  {
   "source": [
    "# .json"
   ],
   "cell_type": "markdown",
   "metadata": {}
  },
  {
   "source": [
    "# test set\n",
    "public test set: ~1000 publications (12% of hidden test set)  \n",
    "hidden test set: ~8000 publications (includes the public test set)"
   ],
   "cell_type": "markdown",
   "metadata": {}
  },
  {
   "cell_type": "code",
   "execution_count": null,
   "metadata": {},
   "outputs": [],
   "source": []
  }
 ]
}