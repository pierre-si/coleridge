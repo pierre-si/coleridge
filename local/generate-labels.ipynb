{
 "metadata": {
  "language_info": {
   "codemirror_mode": {
    "name": "ipython",
    "version": 3
   },
   "file_extension": ".py",
   "mimetype": "text/x-python",
   "name": "python",
   "nbconvert_exporter": "python",
   "pygments_lexer": "ipython3",
   "version": "3.9.2"
  },
  "orig_nbformat": 2,
  "kernelspec": {
   "name": "python392jvsc74a57bd02820280be186ab661f9de35bd01829c341881105846ede977025339161cc4480",
   "display_name": "Python 3.9.2 64-bit ('torch': conda)"
  }
 },
 "nbformat": 4,
 "nbformat_minor": 2,
 "cells": [
  {
   "source": [
    "The purpose of this notebook is to generate a train.json file compatible with the run_ner script using the sentences retrieved with the retrieve-sentences notebook."
   ],
   "cell_type": "markdown",
   "metadata": {}
  },
  {
   "cell_type": "code",
   "execution_count": 1,
   "metadata": {},
   "outputs": [],
   "source": [
    "import json\n",
    "\n",
    "import pandas as pd\n",
    "import numpy as np\n",
    "from sklearn.model_selection import train_test_split\n",
    "import torch\n",
    "import transformers"
   ]
  },
  {
   "cell_type": "code",
   "execution_count": 4,
   "metadata": {},
   "outputs": [],
   "source": [
    "DATA_PATH = './'"
   ]
  },
  {
   "cell_type": "code",
   "execution_count": 7,
   "metadata": {},
   "outputs": [],
   "source": [
    "df = pd.read_csv(DATA_PATH+'train-with-cleaned-sentences.csv', index_col=0)"
   ]
  },
  {
   "cell_type": "code",
   "execution_count": 8,
   "metadata": {},
   "outputs": [
    {
     "output_type": "execute_result",
     "data": {
      "text/plain": [
       "                                         Id  \\\n",
       "0      0007f880-0a9b-492d-9a58-76eb0b0e0bd7   \n",
       "1      0008656f-0ba2-4632-8602-3017b44c2e90   \n",
       "2      000e04d6-d6ef-442f-b070-4309493221ba   \n",
       "3      000e04d6-d6ef-442f-b070-4309493221ba   \n",
       "4      000efc17-13d8-433d-8f62-a3932fe4f3b8   \n",
       "...                                     ...   \n",
       "51752  ffd4d86a-0f26-44cc-baed-f0e209cc22af   \n",
       "51753  ffe7f334-245a-4de7-b600-d7ff4e28bfca   \n",
       "51754  ffeb3568-7aed-4dbe-b177-cbd7f46f34af   \n",
       "51755  ffee2676-a778-4521-b947-e1e420b126c5   \n",
       "51756  ffee2676-a778-4521-b947-e1e420b126c5   \n",
       "\n",
       "                                          section_title  \\\n",
       "0                                          Introduction   \n",
       "1                                     LITERATURE REVIEW   \n",
       "2        Example: Farm Income and Farm Household Wealth   \n",
       "3                                            Highlights   \n",
       "4                                        Study subjects   \n",
       "...                                                 ...   \n",
       "51752                    II.1. MRI Brain Image database   \n",
       "51753          Characterization of the SARS-CoV-2 virus   \n",
       "51754  Polish research on the perception of mathematics   \n",
       "51755                                               NaN   \n",
       "51756                                               NaN   \n",
       "\n",
       "                                                sentence  \\\n",
       "0      in fact organizations are now identifying digi...   \n",
       "1      international studies on student achievement s...   \n",
       "2      the agricultural resources management survey a...   \n",
       "3      1 manages access to results of the agricultura...   \n",
       "4      the adni data set is from a multicenter longit...   \n",
       "...                                                  ...   \n",
       "51752  data used in the preparation of this article w...   \n",
       "51753  interestingly the genome sequences of sars cov...   \n",
       "51754  as part of the program for international stude...   \n",
       "51755  analysis considered first time beginning posts...   \n",
       "51756  my prior research illustrated with use of begi...   \n",
       "\n",
       "                                           dataset_label  label_length  \n",
       "0      program for the international assessment of ad...            62  \n",
       "1      trends in international mathematics and scienc...            53  \n",
       "2               agricultural resources management survey            40  \n",
       "3               agricultural resources management survey            40  \n",
       "4                                                   adni             4  \n",
       "...                                                  ...           ...  \n",
       "51752  alzheimer s disease neuroimaging initiative adni             49  \n",
       "51753                     genome sequences of sars cov 2            30  \n",
       "51754  trends in international mathematics and scienc...            53  \n",
       "51755                   beginning postsecondary students            32  \n",
       "51756                    beginning postsecondary student            31  \n",
       "\n",
       "[51757 rows x 5 columns]"
      ],
      "text/html": "<div>\n<style scoped>\n    .dataframe tbody tr th:only-of-type {\n        vertical-align: middle;\n    }\n\n    .dataframe tbody tr th {\n        vertical-align: top;\n    }\n\n    .dataframe thead th {\n        text-align: right;\n    }\n</style>\n<table border=\"1\" class=\"dataframe\">\n  <thead>\n    <tr style=\"text-align: right;\">\n      <th></th>\n      <th>Id</th>\n      <th>section_title</th>\n      <th>sentence</th>\n      <th>dataset_label</th>\n      <th>label_length</th>\n    </tr>\n  </thead>\n  <tbody>\n    <tr>\n      <th>0</th>\n      <td>0007f880-0a9b-492d-9a58-76eb0b0e0bd7</td>\n      <td>Introduction</td>\n      <td>in fact organizations are now identifying digi...</td>\n      <td>program for the international assessment of ad...</td>\n      <td>62</td>\n    </tr>\n    <tr>\n      <th>1</th>\n      <td>0008656f-0ba2-4632-8602-3017b44c2e90</td>\n      <td>LITERATURE REVIEW</td>\n      <td>international studies on student achievement s...</td>\n      <td>trends in international mathematics and scienc...</td>\n      <td>53</td>\n    </tr>\n    <tr>\n      <th>2</th>\n      <td>000e04d6-d6ef-442f-b070-4309493221ba</td>\n      <td>Example: Farm Income and Farm Household Wealth</td>\n      <td>the agricultural resources management survey a...</td>\n      <td>agricultural resources management survey</td>\n      <td>40</td>\n    </tr>\n    <tr>\n      <th>3</th>\n      <td>000e04d6-d6ef-442f-b070-4309493221ba</td>\n      <td>Highlights</td>\n      <td>1 manages access to results of the agricultura...</td>\n      <td>agricultural resources management survey</td>\n      <td>40</td>\n    </tr>\n    <tr>\n      <th>4</th>\n      <td>000efc17-13d8-433d-8f62-a3932fe4f3b8</td>\n      <td>Study subjects</td>\n      <td>the adni data set is from a multicenter longit...</td>\n      <td>adni</td>\n      <td>4</td>\n    </tr>\n    <tr>\n      <th>...</th>\n      <td>...</td>\n      <td>...</td>\n      <td>...</td>\n      <td>...</td>\n      <td>...</td>\n    </tr>\n    <tr>\n      <th>51752</th>\n      <td>ffd4d86a-0f26-44cc-baed-f0e209cc22af</td>\n      <td>II.1. MRI Brain Image database</td>\n      <td>data used in the preparation of this article w...</td>\n      <td>alzheimer s disease neuroimaging initiative adni</td>\n      <td>49</td>\n    </tr>\n    <tr>\n      <th>51753</th>\n      <td>ffe7f334-245a-4de7-b600-d7ff4e28bfca</td>\n      <td>Characterization of the SARS-CoV-2 virus</td>\n      <td>interestingly the genome sequences of sars cov...</td>\n      <td>genome sequences of sars cov 2</td>\n      <td>30</td>\n    </tr>\n    <tr>\n      <th>51754</th>\n      <td>ffeb3568-7aed-4dbe-b177-cbd7f46f34af</td>\n      <td>Polish research on the perception of mathematics</td>\n      <td>as part of the program for international stude...</td>\n      <td>trends in international mathematics and scienc...</td>\n      <td>53</td>\n    </tr>\n    <tr>\n      <th>51755</th>\n      <td>ffee2676-a778-4521-b947-e1e420b126c5</td>\n      <td>NaN</td>\n      <td>analysis considered first time beginning posts...</td>\n      <td>beginning postsecondary students</td>\n      <td>32</td>\n    </tr>\n    <tr>\n      <th>51756</th>\n      <td>ffee2676-a778-4521-b947-e1e420b126c5</td>\n      <td>NaN</td>\n      <td>my prior research illustrated with use of begi...</td>\n      <td>beginning postsecondary student</td>\n      <td>31</td>\n    </tr>\n  </tbody>\n</table>\n<p>51757 rows × 5 columns</p>\n</div>"
     },
     "metadata": {},
     "execution_count": 8
    }
   ],
   "source": [
    "df"
   ]
  },
  {
   "source": [
    "# Generate tokens"
   ],
   "cell_type": "markdown",
   "metadata": {}
  },
  {
   "cell_type": "code",
   "execution_count": 5,
   "metadata": {},
   "outputs": [],
   "source": [
    "def generate_tokens(sentence, label):\n",
    "    tokens_sequence = [0] * len(sentence.split())\n",
    "    start_char = sentence.find(label)\n",
    "    start_token = len(sentence[:start_char].split())\n",
    "\n",
    "    label_len = len(label.split())\n",
    "    tokens_sequence[start_token:start_token+label_len] = [1]*label_len\n",
    "    return tokens_sequence"
   ]
  },
  {
   "cell_type": "code",
   "execution_count": 9,
   "metadata": {},
   "outputs": [],
   "source": [
    "def generate_tokens(sentence, label):\n",
    "    tokens_sequence = ['O'] * len(sentence.split())\n",
    "    start_char = sentence.find(label)\n",
    "    start_token = len(sentence[:start_char].split())\n",
    "\n",
    "    label_len = len(label.split())\n",
    "    tokens_sequence[start_token:start_token+label_len] = ['D']*label_len\n",
    "    return tokens_sequence"
   ]
  },
  {
   "cell_type": "code",
   "execution_count": 10,
   "metadata": {},
   "outputs": [],
   "source": [
    "texts = []\n",
    "tags = []\n",
    "for i, row in df.iterrows():\n",
    "    texts.append(row.sentence.split())\n",
    "    tags.append(generate_tokens(row.sentence, row.dataset_label))"
   ]
  },
  {
   "cell_type": "code",
   "execution_count": 11,
   "metadata": {},
   "outputs": [
    {
     "output_type": "execute_result",
     "data": {
      "text/plain": [
       "                                         Id  \\\n",
       "0      0007f880-0a9b-492d-9a58-76eb0b0e0bd7   \n",
       "1      0008656f-0ba2-4632-8602-3017b44c2e90   \n",
       "2      000e04d6-d6ef-442f-b070-4309493221ba   \n",
       "3      000e04d6-d6ef-442f-b070-4309493221ba   \n",
       "4      000efc17-13d8-433d-8f62-a3932fe4f3b8   \n",
       "...                                     ...   \n",
       "51752  ffd4d86a-0f26-44cc-baed-f0e209cc22af   \n",
       "51753  ffe7f334-245a-4de7-b600-d7ff4e28bfca   \n",
       "51754  ffeb3568-7aed-4dbe-b177-cbd7f46f34af   \n",
       "51755  ffee2676-a778-4521-b947-e1e420b126c5   \n",
       "51756  ffee2676-a778-4521-b947-e1e420b126c5   \n",
       "\n",
       "                                          section_title  \\\n",
       "0                                          Introduction   \n",
       "1                                     LITERATURE REVIEW   \n",
       "2        Example: Farm Income and Farm Household Wealth   \n",
       "3                                            Highlights   \n",
       "4                                        Study subjects   \n",
       "...                                                 ...   \n",
       "51752                    II.1. MRI Brain Image database   \n",
       "51753          Characterization of the SARS-CoV-2 virus   \n",
       "51754  Polish research on the perception of mathematics   \n",
       "51755                                               NaN   \n",
       "51756                                               NaN   \n",
       "\n",
       "                                                sentence  \\\n",
       "0      in fact organizations are now identifying digi...   \n",
       "1      international studies on student achievement s...   \n",
       "2      the agricultural resources management survey a...   \n",
       "3      1 manages access to results of the agricultura...   \n",
       "4      the adni data set is from a multicenter longit...   \n",
       "...                                                  ...   \n",
       "51752  data used in the preparation of this article w...   \n",
       "51753  interestingly the genome sequences of sars cov...   \n",
       "51754  as part of the program for international stude...   \n",
       "51755  analysis considered first time beginning posts...   \n",
       "51756  my prior research illustrated with use of begi...   \n",
       "\n",
       "                                           dataset_label  label_length  \\\n",
       "0      program for the international assessment of ad...            62   \n",
       "1      trends in international mathematics and scienc...            53   \n",
       "2               agricultural resources management survey            40   \n",
       "3               agricultural resources management survey            40   \n",
       "4                                                   adni             4   \n",
       "...                                                  ...           ...   \n",
       "51752  alzheimer s disease neuroimaging initiative adni             49   \n",
       "51753                     genome sequences of sars cov 2            30   \n",
       "51754  trends in international mathematics and scienc...            53   \n",
       "51755                   beginning postsecondary students            32   \n",
       "51756                    beginning postsecondary student            31   \n",
       "\n",
       "                                                  tokens  \\\n",
       "0      [in, fact, organizations, are, now, identifyin...   \n",
       "1      [international, studies, on, student, achievem...   \n",
       "2      [the, agricultural, resources, management, sur...   \n",
       "3      [1, manages, access, to, results, of, the, agr...   \n",
       "4      [the, adni, data, set, is, from, a, multicente...   \n",
       "...                                                  ...   \n",
       "51752  [data, used, in, the, preparation, of, this, a...   \n",
       "51753  [interestingly, the, genome, sequences, of, sa...   \n",
       "51754  [as, part, of, the, program, for, internationa...   \n",
       "51755  [analysis, considered, first, time, beginning,...   \n",
       "51756  [my, prior, research, illustrated, with, use, ...   \n",
       "\n",
       "                                                ner_tags  \n",
       "0      [O, O, O, O, O, O, O, O, O, O, O, O, O, O, O, ...  \n",
       "1      [O, O, O, O, O, O, O, D, D, D, D, D, D, D, O, ...  \n",
       "2      [O, D, D, D, D, O, O, O, O, O, O, O, O, O, O, ...  \n",
       "3      [O, O, O, O, O, O, O, D, D, D, D, O, O, O, O, ...  \n",
       "4      [O, D, O, O, O, O, O, O, O, O, O, O, O, O, O, ...  \n",
       "...                                                  ...  \n",
       "51752  [O, O, O, O, O, O, O, O, O, O, O, O, D, D, D, ...  \n",
       "51753  [O, O, D, D, D, D, D, D, O, O, O, O, O, O, O, ...  \n",
       "51754  [O, O, O, O, O, O, O, O, O, O, O, O, D, D, D, ...  \n",
       "51755  [O, O, O, O, D, D, D, O, O, O, O, O, O, O, O, ...  \n",
       "51756  [O, O, O, O, O, O, O, D, D, D, O, O, O, O, O, ...  \n",
       "\n",
       "[51757 rows x 7 columns]"
      ],
      "text/html": "<div>\n<style scoped>\n    .dataframe tbody tr th:only-of-type {\n        vertical-align: middle;\n    }\n\n    .dataframe tbody tr th {\n        vertical-align: top;\n    }\n\n    .dataframe thead th {\n        text-align: right;\n    }\n</style>\n<table border=\"1\" class=\"dataframe\">\n  <thead>\n    <tr style=\"text-align: right;\">\n      <th></th>\n      <th>Id</th>\n      <th>section_title</th>\n      <th>sentence</th>\n      <th>dataset_label</th>\n      <th>label_length</th>\n      <th>tokens</th>\n      <th>ner_tags</th>\n    </tr>\n  </thead>\n  <tbody>\n    <tr>\n      <th>0</th>\n      <td>0007f880-0a9b-492d-9a58-76eb0b0e0bd7</td>\n      <td>Introduction</td>\n      <td>in fact organizations are now identifying digi...</td>\n      <td>program for the international assessment of ad...</td>\n      <td>62</td>\n      <td>[in, fact, organizations, are, now, identifyin...</td>\n      <td>[O, O, O, O, O, O, O, O, O, O, O, O, O, O, O, ...</td>\n    </tr>\n    <tr>\n      <th>1</th>\n      <td>0008656f-0ba2-4632-8602-3017b44c2e90</td>\n      <td>LITERATURE REVIEW</td>\n      <td>international studies on student achievement s...</td>\n      <td>trends in international mathematics and scienc...</td>\n      <td>53</td>\n      <td>[international, studies, on, student, achievem...</td>\n      <td>[O, O, O, O, O, O, O, D, D, D, D, D, D, D, O, ...</td>\n    </tr>\n    <tr>\n      <th>2</th>\n      <td>000e04d6-d6ef-442f-b070-4309493221ba</td>\n      <td>Example: Farm Income and Farm Household Wealth</td>\n      <td>the agricultural resources management survey a...</td>\n      <td>agricultural resources management survey</td>\n      <td>40</td>\n      <td>[the, agricultural, resources, management, sur...</td>\n      <td>[O, D, D, D, D, O, O, O, O, O, O, O, O, O, O, ...</td>\n    </tr>\n    <tr>\n      <th>3</th>\n      <td>000e04d6-d6ef-442f-b070-4309493221ba</td>\n      <td>Highlights</td>\n      <td>1 manages access to results of the agricultura...</td>\n      <td>agricultural resources management survey</td>\n      <td>40</td>\n      <td>[1, manages, access, to, results, of, the, agr...</td>\n      <td>[O, O, O, O, O, O, O, D, D, D, D, O, O, O, O, ...</td>\n    </tr>\n    <tr>\n      <th>4</th>\n      <td>000efc17-13d8-433d-8f62-a3932fe4f3b8</td>\n      <td>Study subjects</td>\n      <td>the adni data set is from a multicenter longit...</td>\n      <td>adni</td>\n      <td>4</td>\n      <td>[the, adni, data, set, is, from, a, multicente...</td>\n      <td>[O, D, O, O, O, O, O, O, O, O, O, O, O, O, O, ...</td>\n    </tr>\n    <tr>\n      <th>...</th>\n      <td>...</td>\n      <td>...</td>\n      <td>...</td>\n      <td>...</td>\n      <td>...</td>\n      <td>...</td>\n      <td>...</td>\n    </tr>\n    <tr>\n      <th>51752</th>\n      <td>ffd4d86a-0f26-44cc-baed-f0e209cc22af</td>\n      <td>II.1. MRI Brain Image database</td>\n      <td>data used in the preparation of this article w...</td>\n      <td>alzheimer s disease neuroimaging initiative adni</td>\n      <td>49</td>\n      <td>[data, used, in, the, preparation, of, this, a...</td>\n      <td>[O, O, O, O, O, O, O, O, O, O, O, O, D, D, D, ...</td>\n    </tr>\n    <tr>\n      <th>51753</th>\n      <td>ffe7f334-245a-4de7-b600-d7ff4e28bfca</td>\n      <td>Characterization of the SARS-CoV-2 virus</td>\n      <td>interestingly the genome sequences of sars cov...</td>\n      <td>genome sequences of sars cov 2</td>\n      <td>30</td>\n      <td>[interestingly, the, genome, sequences, of, sa...</td>\n      <td>[O, O, D, D, D, D, D, D, O, O, O, O, O, O, O, ...</td>\n    </tr>\n    <tr>\n      <th>51754</th>\n      <td>ffeb3568-7aed-4dbe-b177-cbd7f46f34af</td>\n      <td>Polish research on the perception of mathematics</td>\n      <td>as part of the program for international stude...</td>\n      <td>trends in international mathematics and scienc...</td>\n      <td>53</td>\n      <td>[as, part, of, the, program, for, internationa...</td>\n      <td>[O, O, O, O, O, O, O, O, O, O, O, O, D, D, D, ...</td>\n    </tr>\n    <tr>\n      <th>51755</th>\n      <td>ffee2676-a778-4521-b947-e1e420b126c5</td>\n      <td>NaN</td>\n      <td>analysis considered first time beginning posts...</td>\n      <td>beginning postsecondary students</td>\n      <td>32</td>\n      <td>[analysis, considered, first, time, beginning,...</td>\n      <td>[O, O, O, O, D, D, D, O, O, O, O, O, O, O, O, ...</td>\n    </tr>\n    <tr>\n      <th>51756</th>\n      <td>ffee2676-a778-4521-b947-e1e420b126c5</td>\n      <td>NaN</td>\n      <td>my prior research illustrated with use of begi...</td>\n      <td>beginning postsecondary student</td>\n      <td>31</td>\n      <td>[my, prior, research, illustrated, with, use, ...</td>\n      <td>[O, O, O, O, O, O, O, D, D, D, O, O, O, O, O, ...</td>\n    </tr>\n  </tbody>\n</table>\n<p>51757 rows × 7 columns</p>\n</div>"
     },
     "metadata": {},
     "execution_count": 11
    }
   ],
   "source": [
    "df['tokens'] = texts\n",
    "df['ner_tags'] = tags\n",
    "df"
   ]
  },
  {
   "cell_type": "code",
   "execution_count": 12,
   "metadata": {},
   "outputs": [],
   "source": [
    "long_df = df[df['tokens'].apply(len) <= 256]"
   ]
  },
  {
   "cell_type": "code",
   "execution_count": 14,
   "metadata": {},
   "outputs": [
    {
     "output_type": "stream",
     "name": "stdout",
     "text": [
      "41314 10329\n"
     ]
    }
   ],
   "source": [
    "seed = 6\n",
    "train_df, val_df = train_test_split(long_df[['Id', 'section_title', 'sentence', 'tokens', 'ner_tags']], test_size=.2, random_state=seed)\n",
    "print(len(train_df), len(val_df))"
   ]
  },
  {
   "source": [
    "# Writing data to file\n",
    "To be used with the run_ner script"
   ],
   "cell_type": "markdown",
   "metadata": {}
  },
  {
   "cell_type": "code",
   "execution_count": 12,
   "metadata": {},
   "outputs": [
    {
     "output_type": "execute_result",
     "data": {
      "text/plain": [
       "                                        Id  \\\n",
       "1677  0813d6a6-f14c-44f8-a791-def8e4e86cd6   \n",
       "1601  07d8261f-7678-41ac-a598-6ceeedba0f5f   \n",
       "832   03771ca7-69b6-4d55-a47d-1fba6101a118   \n",
       "994   0516bb14-5228-4cf6-b535-ae8de095a3da   \n",
       "674   02fc3630-fab1-4198-980c-3ffb4ed864b3   \n",
       "...                                    ...   \n",
       "849   038e65c0-3dce-4fe7-bbaa-3712fa28c4c8   \n",
       "336   01ff79c7-bb0f-4172-b7e4-401b7aedd986   \n",
       "619   02e588e6-cf88-4e9a-ba16-7dfef6057447   \n",
       "2015  09e03074-0995-4ac4-be5f-0ad73ae4964b   \n",
       "228   0176e38e-2286-4ea2-914f-0583808a98aa   \n",
       "\n",
       "                                          section_title  \\\n",
       "1677  Applications of geospatial technologies for hu...   \n",
       "1601                              Phylogenetic analysis   \n",
       "832   Level 6 tests and England's strong accountabil...   \n",
       "994                                             Results   \n",
       "674                                                  À5   \n",
       "...                                                 ...   \n",
       "849                      Tropical cyclones' best tracks   \n",
       "336                                            Abstract   \n",
       "619                                          Discussion   \n",
       "2015                                           Abstract   \n",
       "228      Business R&D and Innovation Survey (NSF, 2008)   \n",
       "\n",
       "                                               sentence  \\\n",
       "1677  among the most widely used geospatial tools ar...   \n",
       "1601  alignment of the complete genome sequences of ...   \n",
       "832   whilst the debate has most recently decisively...   \n",
       "994   3 chs cs n 113 critical uncorrected p value 0 ...   \n",
       "674   using a permutation based approach there was l...   \n",
       "...                                                 ...   \n",
       "849   we have downloaded the tcs best tracks from th...   \n",
       "336   the devised method has been assessed using 818...   \n",
       "619   however the lack of subjects with high levels ...   \n",
       "2015  here we analyzed adni3 data from 317 participa...   \n",
       "228   in 2009 the research entitled survey of indust...   \n",
       "\n",
       "                                                 tokens  \\\n",
       "1677  [among, the, most, widely, used, geospatial, t...   \n",
       "1601  [alignment, of, the, complete, genome, sequenc...   \n",
       "832   [whilst, the, debate, has, most, recently, dec...   \n",
       "994   [3, chs, cs, n, 113, critical, uncorrected, p,...   \n",
       "674   [using, a, permutation, based, approach, there...   \n",
       "...                                                 ...   \n",
       "849   [we, have, downloaded, the, tcs, best, tracks,...   \n",
       "336   [the, devised, method, has, been, assessed, us...   \n",
       "619   [however, the, lack, of, subjects, with, high,...   \n",
       "2015  [here, we, analyzed, adni3, data, from, 317, p...   \n",
       "228   [in, 2009, the, research, entitled, survey, of...   \n",
       "\n",
       "                                               ner_tags  \n",
       "1677  [O, O, O, O, O, O, O, O, O, O, O, O, O, O, D, ...  \n",
       "1601  [O, O, O, O, D, D, D, D, D, D, O, O, O, O, O, ...  \n",
       "832   [O, O, O, O, O, O, O, O, O, O, O, O, O, O, O, ...  \n",
       "994   [O, O, O, O, O, O, O, O, O, O, O, D, O, O, O, ...  \n",
       "674   [O, O, O, O, O, O, O, O, O, O, O, O, O, O, O, ...  \n",
       "...                                                 ...  \n",
       "849   [O, O, O, O, O, O, O, O, O, O, O, O, O, O, O, ...  \n",
       "336   [O, O, O, O, O, O, O, O, O, O, O, O, O, O, O, ...  \n",
       "619   [O, O, O, O, O, O, O, O, O, O, O, O, D, O, O, ...  \n",
       "2015  [O, O, O, D, O, O, O, O, O, O, O, O, O, O, O, ...  \n",
       "228   [O, O, O, O, O, D, D, D, D, D, D, O, O, O, O, ...  \n",
       "\n",
       "[1851 rows x 5 columns]"
      ],
      "text/html": "<div>\n<style scoped>\n    .dataframe tbody tr th:only-of-type {\n        vertical-align: middle;\n    }\n\n    .dataframe tbody tr th {\n        vertical-align: top;\n    }\n\n    .dataframe thead th {\n        text-align: right;\n    }\n</style>\n<table border=\"1\" class=\"dataframe\">\n  <thead>\n    <tr style=\"text-align: right;\">\n      <th></th>\n      <th>Id</th>\n      <th>section_title</th>\n      <th>sentence</th>\n      <th>tokens</th>\n      <th>ner_tags</th>\n    </tr>\n  </thead>\n  <tbody>\n    <tr>\n      <th>1677</th>\n      <td>0813d6a6-f14c-44f8-a791-def8e4e86cd6</td>\n      <td>Applications of geospatial technologies for hu...</td>\n      <td>among the most widely used geospatial tools ar...</td>\n      <td>[among, the, most, widely, used, geospatial, t...</td>\n      <td>[O, O, O, O, O, O, O, O, O, O, O, O, O, O, D, ...</td>\n    </tr>\n    <tr>\n      <th>1601</th>\n      <td>07d8261f-7678-41ac-a598-6ceeedba0f5f</td>\n      <td>Phylogenetic analysis</td>\n      <td>alignment of the complete genome sequences of ...</td>\n      <td>[alignment, of, the, complete, genome, sequenc...</td>\n      <td>[O, O, O, O, D, D, D, D, D, D, O, O, O, O, O, ...</td>\n    </tr>\n    <tr>\n      <th>832</th>\n      <td>03771ca7-69b6-4d55-a47d-1fba6101a118</td>\n      <td>Level 6 tests and England's strong accountabil...</td>\n      <td>whilst the debate has most recently decisively...</td>\n      <td>[whilst, the, debate, has, most, recently, dec...</td>\n      <td>[O, O, O, O, O, O, O, O, O, O, O, O, O, O, O, ...</td>\n    </tr>\n    <tr>\n      <th>994</th>\n      <td>0516bb14-5228-4cf6-b535-ae8de095a3da</td>\n      <td>Results</td>\n      <td>3 chs cs n 113 critical uncorrected p value 0 ...</td>\n      <td>[3, chs, cs, n, 113, critical, uncorrected, p,...</td>\n      <td>[O, O, O, O, O, O, O, O, O, O, O, D, O, O, O, ...</td>\n    </tr>\n    <tr>\n      <th>674</th>\n      <td>02fc3630-fab1-4198-980c-3ffb4ed864b3</td>\n      <td>À5</td>\n      <td>using a permutation based approach there was l...</td>\n      <td>[using, a, permutation, based, approach, there...</td>\n      <td>[O, O, O, O, O, O, O, O, O, O, O, O, O, O, O, ...</td>\n    </tr>\n    <tr>\n      <th>...</th>\n      <td>...</td>\n      <td>...</td>\n      <td>...</td>\n      <td>...</td>\n      <td>...</td>\n    </tr>\n    <tr>\n      <th>849</th>\n      <td>038e65c0-3dce-4fe7-bbaa-3712fa28c4c8</td>\n      <td>Tropical cyclones' best tracks</td>\n      <td>we have downloaded the tcs best tracks from th...</td>\n      <td>[we, have, downloaded, the, tcs, best, tracks,...</td>\n      <td>[O, O, O, O, O, O, O, O, O, O, O, O, O, O, O, ...</td>\n    </tr>\n    <tr>\n      <th>336</th>\n      <td>01ff79c7-bb0f-4172-b7e4-401b7aedd986</td>\n      <td>Abstract</td>\n      <td>the devised method has been assessed using 818...</td>\n      <td>[the, devised, method, has, been, assessed, us...</td>\n      <td>[O, O, O, O, O, O, O, O, O, O, O, O, O, O, O, ...</td>\n    </tr>\n    <tr>\n      <th>619</th>\n      <td>02e588e6-cf88-4e9a-ba16-7dfef6057447</td>\n      <td>Discussion</td>\n      <td>however the lack of subjects with high levels ...</td>\n      <td>[however, the, lack, of, subjects, with, high,...</td>\n      <td>[O, O, O, O, O, O, O, O, O, O, O, O, D, O, O, ...</td>\n    </tr>\n    <tr>\n      <th>2015</th>\n      <td>09e03074-0995-4ac4-be5f-0ad73ae4964b</td>\n      <td>Abstract</td>\n      <td>here we analyzed adni3 data from 317 participa...</td>\n      <td>[here, we, analyzed, adni3, data, from, 317, p...</td>\n      <td>[O, O, O, D, O, O, O, O, O, O, O, O, O, O, O, ...</td>\n    </tr>\n    <tr>\n      <th>228</th>\n      <td>0176e38e-2286-4ea2-914f-0583808a98aa</td>\n      <td>Business R&amp;D and Innovation Survey (NSF, 2008)</td>\n      <td>in 2009 the research entitled survey of indust...</td>\n      <td>[in, 2009, the, research, entitled, survey, of...</td>\n      <td>[O, O, O, O, O, D, D, D, D, D, D, O, O, O, O, ...</td>\n    </tr>\n  </tbody>\n</table>\n<p>1851 rows × 5 columns</p>\n</div>"
     },
     "metadata": {},
     "execution_count": 12
    }
   ],
   "source": [
    "train_df"
   ]
  },
  {
   "cell_type": "code",
   "execution_count": 15,
   "metadata": {},
   "outputs": [],
   "source": [
    "train_df.to_json('../input/coleridge-sentences/ner_train-256.json', orient='records', lines=True)\n",
    "val_df.to_json('../input/coleridge-sentences/ner_val-256.json', orient='records', lines=True)"
   ]
  },
  {
   "source": [
    "# old"
   ],
   "cell_type": "markdown",
   "metadata": {}
  },
  {
   "cell_type": "code",
   "execution_count": 13,
   "metadata": {},
   "outputs": [],
   "source": [
    "short_texts = [text for text in texts if len(text) <= 128]\n",
    "short_tags = [tag for text, tag in zip(texts, tags) if len(text) <= 128]\n",
    "long_texts_idx = [i for i in range(len(texts)) if len(texts[i]) > 128]\n",
    "\n",
    "texts = short_texts\n",
    "tags = short_tags"
   ]
  },
  {
   "cell_type": "code",
   "execution_count": 20,
   "metadata": {},
   "outputs": [],
   "source": [
    "def save_json(filename, texts, tags):\n",
    "    with open(filename, 'w') as f:\n",
    "        for text, tag in zip(texts, tags):\n",
    "            json_el = {'tokens': text, 'tags': tag}\n",
    "            json.dump(json_el, f)\n",
    "            f.write('\\n')"
   ]
  },
  {
   "cell_type": "code",
   "execution_count": 21,
   "metadata": {},
   "outputs": [
    {
     "output_type": "stream",
     "name": "stdout",
     "text": [
      "1851 463\n"
     ]
    }
   ],
   "source": [
    "seed = 6\n",
    "train_texts, val_texts, train_tags, val_tags = train_test_split(texts, tags, test_size=.2, random_state=seed)\n",
    "print(len(train_texts), len(val_texts))"
   ]
  },
  {
   "cell_type": "code",
   "execution_count": 22,
   "metadata": {},
   "outputs": [],
   "source": [
    "save_json(DATA_PATH+'ner_train.json', train_texts, train_tags)\n",
    "save_json(DATA_PATH+'ner_val.json', val_texts, val_tags)"
   ]
  },
  {
   "cell_type": "code",
   "execution_count": 28,
   "metadata": {},
   "outputs": [],
   "source": [
    "save_json('cleaned_ner_train_small.json', train_texts[:4000], train_tags[:4000])\n",
    "save_json('cleaned_ner_val.json', val_texts[:2000], val_tags[:2000])"
   ]
  }
 ]
}
