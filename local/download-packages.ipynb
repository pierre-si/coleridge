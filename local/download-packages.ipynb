{
 "metadata": {
  "language_info": {
   "codemirror_mode": {
    "name": "ipython",
    "version": 3
   },
   "file_extension": ".py",
   "mimetype": "text/x-python",
   "name": "python",
   "nbconvert_exporter": "python",
   "pygments_lexer": "ipython3",
   "version": "3.9.2"
  },
  "orig_nbformat": 2,
  "kernelspec": {
   "name": "python392jvsc74a57bd02820280be186ab661f9de35bd01829c341881105846ede977025339161cc4480",
   "display_name": "Python 3.9.2 64-bit ('torch': conda)"
  }
 },
 "nbformat": 4,
 "nbformat_minor": 2,
 "cells": [
  {
   "cell_type": "code",
   "execution_count": 3,
   "metadata": {},
   "outputs": [
    {
     "output_type": "stream",
     "name": "stdout",
     "text": [
      "Collecting datasets\n",
      "  Using cached datasets-1.5.0-py3-none-any.whl (192 kB)\n",
      "Collecting multiprocess\n",
      "  Using cached multiprocess-0.70.11.1-py39-none-any.whl (126 kB)\n",
      "Collecting pyarrow>=0.17.1\n",
      "  Using cached pyarrow-3.0.0-cp39-cp39-manylinux2014_x86_64.whl (20.7 MB)\n",
      "Collecting huggingface-hub<0.1.0\n",
      "  Using cached huggingface_hub-0.0.8-py3-none-any.whl (34 kB)\n",
      "Collecting tqdm<4.50.0,>=4.27\n",
      "  Using cached tqdm-4.49.0-py2.py3-none-any.whl (69 kB)\n",
      "Collecting dill\n",
      "  Using cached dill-0.3.3-py2.py3-none-any.whl (81 kB)\n",
      "Collecting fsspec\n",
      "  Using cached fsspec-0.9.0-py3-none-any.whl (107 kB)\n",
      "Collecting numpy>=1.17\n",
      "  Using cached numpy-1.20.2-cp39-cp39-manylinux2010_x86_64.whl (15.4 MB)\n",
      "Collecting xxhash\n",
      "  Using cached xxhash-2.0.0.tar.gz (64 kB)\n",
      "Collecting pandas\n",
      "  Using cached pandas-1.2.3-cp39-cp39-manylinux1_x86_64.whl (9.7 MB)\n",
      "Collecting requests>=2.19.0\n",
      "  Using cached requests-2.25.1-py2.py3-none-any.whl (61 kB)\n",
      "Collecting filelock\n",
      "  Using cached filelock-3.0.12-py3-none-any.whl (7.6 kB)\n",
      "Collecting certifi>=2017.4.17\n",
      "  Using cached certifi-2020.12.5-py2.py3-none-any.whl (147 kB)\n",
      "Collecting chardet<5,>=3.0.2\n",
      "  Using cached chardet-4.0.0-py2.py3-none-any.whl (178 kB)\n",
      "Collecting idna<3,>=2.5\n",
      "  Using cached idna-2.10-py2.py3-none-any.whl (58 kB)\n",
      "Collecting urllib3<1.27,>=1.21.1\n",
      "  Using cached urllib3-1.26.4-py2.py3-none-any.whl (153 kB)\n",
      "Collecting pytz>=2017.3\n",
      "  Using cached pytz-2021.1-py2.py3-none-any.whl (510 kB)\n",
      "Collecting python-dateutil>=2.7.3\n",
      "  Using cached python_dateutil-2.8.1-py2.py3-none-any.whl (227 kB)\n",
      "Collecting six>=1.5\n",
      "  Using cached six-1.15.0-py2.py3-none-any.whl (10 kB)\n",
      "Saved ./datasets/datasets-1.5.0-py3-none-any.whl\n",
      "Saved ./datasets/huggingface_hub-0.0.8-py3-none-any.whl\n",
      "Saved ./datasets/numpy-1.20.2-cp39-cp39-manylinux2010_x86_64.whl\n",
      "Saved ./datasets/pyarrow-3.0.0-cp39-cp39-manylinux2014_x86_64.whl\n",
      "Saved ./datasets/requests-2.25.1-py2.py3-none-any.whl\n",
      "Saved ./datasets/certifi-2020.12.5-py2.py3-none-any.whl\n",
      "Saved ./datasets/chardet-4.0.0-py2.py3-none-any.whl\n",
      "Saved ./datasets/idna-2.10-py2.py3-none-any.whl\n",
      "Saved ./datasets/tqdm-4.49.0-py2.py3-none-any.whl\n",
      "Saved ./datasets/urllib3-1.26.4-py2.py3-none-any.whl\n",
      "Saved ./datasets/dill-0.3.3-py2.py3-none-any.whl\n",
      "Saved ./datasets/filelock-3.0.12-py3-none-any.whl\n",
      "Saved ./datasets/fsspec-0.9.0-py3-none-any.whl\n",
      "Saved ./datasets/multiprocess-0.70.11.1-py39-none-any.whl\n",
      "Saved ./datasets/pandas-1.2.3-cp39-cp39-manylinux1_x86_64.whl\n",
      "Saved ./datasets/python_dateutil-2.8.1-py2.py3-none-any.whl\n",
      "Saved ./datasets/pytz-2021.1-py2.py3-none-any.whl\n",
      "Saved ./datasets/six-1.15.0-py2.py3-none-any.whl\n",
      "Saved ./datasets/xxhash-2.0.0.tar.gz\n",
      "Successfully downloaded datasets huggingface-hub numpy pyarrow requests certifi chardet idna tqdm urllib3 dill filelock fsspec multiprocess pandas python-dateutil pytz six xxhash\n"
     ]
    }
   ],
   "source": [
    "!pip download -d datasets/ datasets"
   ]
  },
  {
   "cell_type": "code",
   "execution_count": 4,
   "metadata": {},
   "outputs": [
    {
     "output_type": "stream",
     "name": "stdout",
     "text": [
      "Collecting seqeval\n",
      "  Using cached seqeval-1.2.2.tar.gz (43 kB)\n",
      "Collecting numpy>=1.14.0\n",
      "  Using cached numpy-1.20.2-cp39-cp39-manylinux2010_x86_64.whl (15.4 MB)\n",
      "Collecting scikit-learn>=0.21.3\n",
      "  Downloading scikit_learn-0.24.1-cp39-cp39-manylinux2010_x86_64.whl (23.8 MB)\n",
      "\u001b[K     |████████████████████████████████| 23.8 MB 629 kB/s \n",
      "\u001b[?25hCollecting threadpoolctl>=2.0.0\n",
      "  Using cached threadpoolctl-2.1.0-py3-none-any.whl (12 kB)\n",
      "Collecting joblib>=0.11\n",
      "  Downloading joblib-1.0.1-py3-none-any.whl (303 kB)\n",
      "\u001b[K     |████████████████████████████████| 303 kB 541 kB/s \n",
      "\u001b[?25hCollecting scipy>=0.19.1\n",
      "  Downloading scipy-1.6.2-cp39-cp39-manylinux1_x86_64.whl (27.3 MB)\n",
      "\u001b[K     |████████████████████████████████| 27.3 MB 613 kB/s \n",
      "\u001b[?25hSaved ./seqeval/seqeval-1.2.2.tar.gz\n",
      "Saved ./seqeval/numpy-1.20.2-cp39-cp39-manylinux2010_x86_64.whl\n",
      "Saved ./seqeval/scikit_learn-0.24.1-cp39-cp39-manylinux2010_x86_64.whl\n",
      "Saved ./seqeval/joblib-1.0.1-py3-none-any.whl\n",
      "Saved ./seqeval/scipy-1.6.2-cp39-cp39-manylinux1_x86_64.whl\n",
      "Saved ./seqeval/threadpoolctl-2.1.0-py3-none-any.whl\n",
      "Successfully downloaded seqeval numpy scikit-learn joblib scipy threadpoolctl\n"
     ]
    }
   ],
   "source": [
    "!pip download -d seqeval/ seqeval"
   ]
  },
  {
   "cell_type": "code",
   "execution_count": null,
   "metadata": {},
   "outputs": [],
   "source": []
  }
 ]
}