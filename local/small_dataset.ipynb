{
 "metadata": {
  "language_info": {
   "codemirror_mode": {
    "name": "ipython",
    "version": 3
   },
   "file_extension": ".py",
   "mimetype": "text/x-python",
   "name": "python",
   "nbconvert_exporter": "python",
   "pygments_lexer": "ipython3",
   "version": "3.9.2"
  },
  "orig_nbformat": 2,
  "kernelspec": {
   "name": "python392jvsc74a57bd02820280be186ab661f9de35bd01829c341881105846ede977025339161cc4480",
   "display_name": "Python 3.9.2 64-bit ('torch': conda)"
  }
 },
 "nbformat": 4,
 "nbformat_minor": 2,
 "cells": [
  {
   "source": [
    "notebook utilisé pour créer le train.csv de input/small (dataset du challenge limité à 700 fichiers train)"
   ],
   "cell_type": "markdown",
   "metadata": {}
  },
  {
   "cell_type": "code",
   "execution_count": 1,
   "metadata": {},
   "outputs": [],
   "source": [
    "import os\n",
    "from pathlib import Path\n",
    "import pandas as pd"
   ]
  },
  {
   "cell_type": "code",
   "execution_count": 2,
   "metadata": {},
   "outputs": [],
   "source": [
    "files = [os.path.splitext(f)[0] for f in os.listdir('../input/smaller/train/') if os.path.isfile('../input/smaller/train/' + f)]"
   ]
  },
  {
   "cell_type": "code",
   "execution_count": 2,
   "metadata": {},
   "outputs": [],
   "source": [
    "files = Path('../input/smaller/val').iterdir()\n",
    "files = [f.stem for f in files]"
   ]
  },
  {
   "cell_type": "code",
   "execution_count": 4,
   "metadata": {},
   "outputs": [
    {
     "output_type": "execute_result",
     "data": {
      "text/plain": [
       "                                     Id\n",
       "0  046d962b-43c8-4344-872d-06c54e25a698\n",
       "1  05d8a9a3-5e7a-42b5-9069-e5f0829b839b\n",
       "2  05c13a9b-5d10-444e-a731-308afa7da381\n",
       "3  0501629a-6766-431e-9124-f4140dcbe057\n",
       "4  01e4e08c-ffea-45a7-adde-6a0c0ad755fc"
      ],
      "text/html": "<div>\n<style scoped>\n    .dataframe tbody tr th:only-of-type {\n        vertical-align: middle;\n    }\n\n    .dataframe tbody tr th {\n        vertical-align: top;\n    }\n\n    .dataframe thead th {\n        text-align: right;\n    }\n</style>\n<table border=\"1\" class=\"dataframe\">\n  <thead>\n    <tr style=\"text-align: right;\">\n      <th></th>\n      <th>Id</th>\n    </tr>\n  </thead>\n  <tbody>\n    <tr>\n      <th>0</th>\n      <td>046d962b-43c8-4344-872d-06c54e25a698</td>\n    </tr>\n    <tr>\n      <th>1</th>\n      <td>05d8a9a3-5e7a-42b5-9069-e5f0829b839b</td>\n    </tr>\n    <tr>\n      <th>2</th>\n      <td>05c13a9b-5d10-444e-a731-308afa7da381</td>\n    </tr>\n    <tr>\n      <th>3</th>\n      <td>0501629a-6766-431e-9124-f4140dcbe057</td>\n    </tr>\n    <tr>\n      <th>4</th>\n      <td>01e4e08c-ffea-45a7-adde-6a0c0ad755fc</td>\n    </tr>\n  </tbody>\n</table>\n</div>"
     },
     "metadata": {},
     "execution_count": 4
    }
   ],
   "source": [
    "files_df = pd.DataFrame(files, columns=['Id'])\n",
    "files_df.iloc[0:5]"
   ]
  },
  {
   "cell_type": "code",
   "execution_count": 5,
   "metadata": {},
   "outputs": [],
   "source": [
    "df = pd.read_csv('../input/coleridgeinitiative-show-us-the-data/train.csv')"
   ]
  },
  {
   "cell_type": "code",
   "execution_count": 6,
   "metadata": {},
   "outputs": [
    {
     "output_type": "execute_result",
     "data": {
      "text/plain": [
       "                                       Id  \\\n",
       "0    04efcc82-9f89-4b40-a506-3a7cb34b5242   \n",
       "1    04efcc82-9f89-4b40-a506-3a7cb34b5242   \n",
       "2    02b3dd31-8c7d-43d4-8795-ae74de8fe473   \n",
       "3    02b3dd31-8c7d-43d4-8795-ae74de8fe473   \n",
       "4    01c7c4d7-49bd-436e-8ae8-593b04339c60   \n",
       "..                                    ...   \n",
       "129  0219144e-c9b3-47af-b130-deaa0b1e4a8e   \n",
       "130  02a497c3-09a8-4bde-85da-817d9dd6a3e8   \n",
       "131  04db5e05-e0ab-4176-ba5b-d2ea5bdfa2c2   \n",
       "132  0010357a-6365-4e5f-b982-582e6d32c3ee   \n",
       "133  01336966-228c-412d-85a0-86bb189ddd01   \n",
       "\n",
       "                                             pub_title  \\\n",
       "0    Racial and Ethnic Representation in Gifted Pro...   \n",
       "1    Racial and Ethnic Representation in Gifted Pro...   \n",
       "2    Adult Social Capital and Track Placement of Et...   \n",
       "3    Adult Social Capital and Track Placement of Et...   \n",
       "4               Joint Modeling of Imaging and Genetics   \n",
       "..                                                 ...   \n",
       "129  An evolutionary analysis of the SARS-CoV-2 gen...   \n",
       "130  An Evidence Based Perspective on mRNA-SARS-CoV...   \n",
       "131  Implications of the virus-encoded miRNA and ho...   \n",
       "132                     Timelines of COVID-19 Vaccines   \n",
       "133  Distinguishing L and H phenotypes of COVID-19 ...   \n",
       "\n",
       "                                         dataset_title  \\\n",
       "0                National Education Longitudinal Study   \n",
       "1                         Education Longitudinal Study   \n",
       "2                National Education Longitudinal Study   \n",
       "3                         Education Longitudinal Study   \n",
       "4    Alzheimer's Disease Neuroimaging Initiative (A...   \n",
       "..                                                 ...   \n",
       "129                         SARS-CoV-2 genome sequence   \n",
       "130                         SARS-CoV-2 genome sequence   \n",
       "131                         SARS-CoV-2 genome sequence   \n",
       "132                         SARS-CoV-2 genome sequence   \n",
       "133                     COVID-19 Image Data Collection   \n",
       "\n",
       "                                  dataset_label  \\\n",
       "0         National Education Longitudinal Study   \n",
       "1                  Education Longitudinal Study   \n",
       "2         National Education Longitudinal Study   \n",
       "3                  Education Longitudinal Study   \n",
       "4    Alzheimers Disease Neuroimaging Initiative   \n",
       "..                                          ...   \n",
       "129                 SARS-CoV-2 genome sequences   \n",
       "130              genome sequences of SARS-CoV-2   \n",
       "131               genome sequence of SARS-CoV-2   \n",
       "132                 genome sequence of COVID-19   \n",
       "133              COVID-19 Image Data Collection   \n",
       "\n",
       "                                  cleaned_label  \n",
       "0         national education longitudinal study  \n",
       "1                  education longitudinal study  \n",
       "2         national education longitudinal study  \n",
       "3                  education longitudinal study  \n",
       "4    alzheimers disease neuroimaging initiative  \n",
       "..                                          ...  \n",
       "129                 sars cov 2 genome sequences  \n",
       "130              genome sequences of sars cov 2  \n",
       "131               genome sequence of sars cov 2  \n",
       "132                 genome sequence of covid 19  \n",
       "133              covid 19 image data collection  \n",
       "\n",
       "[134 rows x 5 columns]"
      ],
      "text/html": "<div>\n<style scoped>\n    .dataframe tbody tr th:only-of-type {\n        vertical-align: middle;\n    }\n\n    .dataframe tbody tr th {\n        vertical-align: top;\n    }\n\n    .dataframe thead th {\n        text-align: right;\n    }\n</style>\n<table border=\"1\" class=\"dataframe\">\n  <thead>\n    <tr style=\"text-align: right;\">\n      <th></th>\n      <th>Id</th>\n      <th>pub_title</th>\n      <th>dataset_title</th>\n      <th>dataset_label</th>\n      <th>cleaned_label</th>\n    </tr>\n  </thead>\n  <tbody>\n    <tr>\n      <th>0</th>\n      <td>04efcc82-9f89-4b40-a506-3a7cb34b5242</td>\n      <td>Racial and Ethnic Representation in Gifted Pro...</td>\n      <td>National Education Longitudinal Study</td>\n      <td>National Education Longitudinal Study</td>\n      <td>national education longitudinal study</td>\n    </tr>\n    <tr>\n      <th>1</th>\n      <td>04efcc82-9f89-4b40-a506-3a7cb34b5242</td>\n      <td>Racial and Ethnic Representation in Gifted Pro...</td>\n      <td>Education Longitudinal Study</td>\n      <td>Education Longitudinal Study</td>\n      <td>education longitudinal study</td>\n    </tr>\n    <tr>\n      <th>2</th>\n      <td>02b3dd31-8c7d-43d4-8795-ae74de8fe473</td>\n      <td>Adult Social Capital and Track Placement of Et...</td>\n      <td>National Education Longitudinal Study</td>\n      <td>National Education Longitudinal Study</td>\n      <td>national education longitudinal study</td>\n    </tr>\n    <tr>\n      <th>3</th>\n      <td>02b3dd31-8c7d-43d4-8795-ae74de8fe473</td>\n      <td>Adult Social Capital and Track Placement of Et...</td>\n      <td>Education Longitudinal Study</td>\n      <td>Education Longitudinal Study</td>\n      <td>education longitudinal study</td>\n    </tr>\n    <tr>\n      <th>4</th>\n      <td>01c7c4d7-49bd-436e-8ae8-593b04339c60</td>\n      <td>Joint Modeling of Imaging and Genetics</td>\n      <td>Alzheimer's Disease Neuroimaging Initiative (A...</td>\n      <td>Alzheimers Disease Neuroimaging Initiative</td>\n      <td>alzheimers disease neuroimaging initiative</td>\n    </tr>\n    <tr>\n      <th>...</th>\n      <td>...</td>\n      <td>...</td>\n      <td>...</td>\n      <td>...</td>\n      <td>...</td>\n    </tr>\n    <tr>\n      <th>129</th>\n      <td>0219144e-c9b3-47af-b130-deaa0b1e4a8e</td>\n      <td>An evolutionary analysis of the SARS-CoV-2 gen...</td>\n      <td>SARS-CoV-2 genome sequence</td>\n      <td>SARS-CoV-2 genome sequences</td>\n      <td>sars cov 2 genome sequences</td>\n    </tr>\n    <tr>\n      <th>130</th>\n      <td>02a497c3-09a8-4bde-85da-817d9dd6a3e8</td>\n      <td>An Evidence Based Perspective on mRNA-SARS-CoV...</td>\n      <td>SARS-CoV-2 genome sequence</td>\n      <td>genome sequences of SARS-CoV-2</td>\n      <td>genome sequences of sars cov 2</td>\n    </tr>\n    <tr>\n      <th>131</th>\n      <td>04db5e05-e0ab-4176-ba5b-d2ea5bdfa2c2</td>\n      <td>Implications of the virus-encoded miRNA and ho...</td>\n      <td>SARS-CoV-2 genome sequence</td>\n      <td>genome sequence of SARS-CoV-2</td>\n      <td>genome sequence of sars cov 2</td>\n    </tr>\n    <tr>\n      <th>132</th>\n      <td>0010357a-6365-4e5f-b982-582e6d32c3ee</td>\n      <td>Timelines of COVID-19 Vaccines</td>\n      <td>SARS-CoV-2 genome sequence</td>\n      <td>genome sequence of COVID-19</td>\n      <td>genome sequence of covid 19</td>\n    </tr>\n    <tr>\n      <th>133</th>\n      <td>01336966-228c-412d-85a0-86bb189ddd01</td>\n      <td>Distinguishing L and H phenotypes of COVID-19 ...</td>\n      <td>COVID-19 Image Data Collection</td>\n      <td>COVID-19 Image Data Collection</td>\n      <td>covid 19 image data collection</td>\n    </tr>\n  </tbody>\n</table>\n<p>134 rows × 5 columns</p>\n</div>"
     },
     "metadata": {},
     "execution_count": 6
    }
   ],
   "source": [
    "df = df.merge(files_df)\n",
    "df"
   ]
  },
  {
   "cell_type": "code",
   "execution_count": 7,
   "metadata": {},
   "outputs": [],
   "source": [
    "df.to_csv('../input/smaller/val.csv')"
   ]
  },
  {
   "cell_type": "code",
   "execution_count": null,
   "metadata": {},
   "outputs": [],
   "source": []
  }
 ]
}