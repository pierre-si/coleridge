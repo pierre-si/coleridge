{
 "metadata": {
  "language_info": {
   "codemirror_mode": {
    "name": "ipython",
    "version": 3
   },
   "file_extension": ".py",
   "mimetype": "text/x-python",
   "name": "python",
   "nbconvert_exporter": "python",
   "pygments_lexer": "ipython3",
   "version": "3.9.2"
  },
  "orig_nbformat": 2,
  "kernelspec": {
   "name": "python392jvsc74a57bd031f2aee4e71d21fbe5cf8b01ff0e069b9275f58929596ceb00d14d90e3e16cd6",
   "display_name": "Python 3.9.2 64-bit"
  }
 },
 "nbformat": 4,
 "nbformat_minor": 2,
 "cells": [
  {
   "source": [
    "notebook utilisé pour créer le train.csv de input/small (dataset du challenge limité à 700 fichiers train)"
   ],
   "cell_type": "markdown",
   "metadata": {}
  },
  {
   "cell_type": "code",
   "execution_count": 3,
   "metadata": {},
   "outputs": [],
   "source": [
    "import os\n",
    "\n",
    "import pandas as pd"
   ]
  },
  {
   "cell_type": "code",
   "execution_count": 14,
   "metadata": {},
   "outputs": [],
   "source": [
    "files = [os.path.splitext(f)[0] for f in os.listdir('../input/small/train/') if os.path.isfile('../input/small/train/' + f)]"
   ]
  },
  {
   "cell_type": "code",
   "execution_count": 21,
   "metadata": {},
   "outputs": [
    {
     "output_type": "execute_result",
     "data": {
      "text/plain": [
       "                                     Id\n",
       "0  046d962b-43c8-4344-872d-06c54e25a698\n",
       "1  082ae47e-00b2-498f-8e52-984e3ddeec3d\n",
       "2  061c2622-dfac-4659-836b-e3982ff41b46\n",
       "3  0702672f-9171-4f49-837b-3f94a405f41c\n",
       "4  0492a803-ad7e-4740-9243-b372906fb958"
      ],
      "text/html": "<div>\n<style scoped>\n    .dataframe tbody tr th:only-of-type {\n        vertical-align: middle;\n    }\n\n    .dataframe tbody tr th {\n        vertical-align: top;\n    }\n\n    .dataframe thead th {\n        text-align: right;\n    }\n</style>\n<table border=\"1\" class=\"dataframe\">\n  <thead>\n    <tr style=\"text-align: right;\">\n      <th></th>\n      <th>Id</th>\n    </tr>\n  </thead>\n  <tbody>\n    <tr>\n      <th>0</th>\n      <td>046d962b-43c8-4344-872d-06c54e25a698</td>\n    </tr>\n    <tr>\n      <th>1</th>\n      <td>082ae47e-00b2-498f-8e52-984e3ddeec3d</td>\n    </tr>\n    <tr>\n      <th>2</th>\n      <td>061c2622-dfac-4659-836b-e3982ff41b46</td>\n    </tr>\n    <tr>\n      <th>3</th>\n      <td>0702672f-9171-4f49-837b-3f94a405f41c</td>\n    </tr>\n    <tr>\n      <th>4</th>\n      <td>0492a803-ad7e-4740-9243-b372906fb958</td>\n    </tr>\n  </tbody>\n</table>\n</div>"
     },
     "metadata": {},
     "execution_count": 21
    }
   ],
   "source": [
    "files_df = pd.DataFrame(files, columns=['Id'])\n",
    "files_df.iloc[0:5]"
   ]
  },
  {
   "cell_type": "code",
   "execution_count": 11,
   "metadata": {},
   "outputs": [],
   "source": [
    "df = pd.read_csv('../input/challenge-data/train.csv')"
   ]
  },
  {
   "cell_type": "code",
   "execution_count": 24,
   "metadata": {},
   "outputs": [
    {
     "output_type": "execute_result",
     "data": {
      "text/plain": [
       "                                       Id  \\\n",
       "0    07cbcedc-9f95-42e3-8340-468a866916b9   \n",
       "1    07cbcedc-9f95-42e3-8340-468a866916b9   \n",
       "2    0b11a364-0d3a-4b3e-86a6-3620e17b0f61   \n",
       "3    0b11a364-0d3a-4b3e-86a6-3620e17b0f61   \n",
       "4    09608747-49bf-49dc-8a7c-7b068b463e77   \n",
       "..                                    ...   \n",
       "917  0a848802-a48c-4d3a-b51e-93cfa6ea2ffd   \n",
       "918  04004ad0-da3a-4882-9694-6b19a67ccaa8   \n",
       "919  01336966-228c-412d-85a0-86bb189ddd01   \n",
       "920  05a7c708-2ee0-4ff0-9e58-b319e467c343   \n",
       "921  01f926c6-a3a6-48c6-b463-1a5fbd0b57ef   \n",
       "\n",
       "                                             pub_title  \\\n",
       "0    Social Class Background and the School-to-Work...   \n",
       "1    Social Class Background and the School-to-Work...   \n",
       "2    Examining Summer Laboratory Research Apprentic...   \n",
       "3    Examining Summer Laboratory Research Apprentic...   \n",
       "4    Socioeconomic Disadvantage as a Social Determi...   \n",
       "..                                                 ...   \n",
       "917  Potential therapeutic targets for combating SA...   \n",
       "918  Computational screening of antagonist against ...   \n",
       "919  Distinguishing L and H phenotypes of COVID-19 ...   \n",
       "920  Classification of COVID-19 chest X-rays with d...   \n",
       "921  Explainable Deep Learning for Pulmonary Diseas...   \n",
       "\n",
       "                             dataset_title  \\\n",
       "0    National Education Longitudinal Study   \n",
       "1             Education Longitudinal Study   \n",
       "2    National Education Longitudinal Study   \n",
       "3             Education Longitudinal Study   \n",
       "4    National Education Longitudinal Study   \n",
       "..                                     ...   \n",
       "917             SARS-CoV-2 genome sequence   \n",
       "918             SARS-CoV-2 genome sequence   \n",
       "919         COVID-19 Image Data Collection   \n",
       "920         COVID-19 Image Data Collection   \n",
       "921         COVID-19 Image Data Collection   \n",
       "\n",
       "                             dataset_label  \\\n",
       "0    National Education Longitudinal Study   \n",
       "1             Education Longitudinal Study   \n",
       "2    National Education Longitudinal Study   \n",
       "3             Education Longitudinal Study   \n",
       "4    National Education Longitudinal Study   \n",
       "..                                     ...   \n",
       "917            genome sequence of COVID-19   \n",
       "918           genome sequence of 2019-nCoV   \n",
       "919         COVID-19 Image Data Collection   \n",
       "920         COVID-19 Image Data Collection   \n",
       "921         COVID-19 Image Data Collection   \n",
       "\n",
       "                             cleaned_label  \n",
       "0    national education longitudinal study  \n",
       "1             education longitudinal study  \n",
       "2    national education longitudinal study  \n",
       "3             education longitudinal study  \n",
       "4    national education longitudinal study  \n",
       "..                                     ...  \n",
       "917            genome sequence of covid 19  \n",
       "918           genome sequence of 2019 ncov  \n",
       "919         covid 19 image data collection  \n",
       "920         covid 19 image data collection  \n",
       "921         covid 19 image data collection  \n",
       "\n",
       "[922 rows x 5 columns]"
      ],
      "text/html": "<div>\n<style scoped>\n    .dataframe tbody tr th:only-of-type {\n        vertical-align: middle;\n    }\n\n    .dataframe tbody tr th {\n        vertical-align: top;\n    }\n\n    .dataframe thead th {\n        text-align: right;\n    }\n</style>\n<table border=\"1\" class=\"dataframe\">\n  <thead>\n    <tr style=\"text-align: right;\">\n      <th></th>\n      <th>Id</th>\n      <th>pub_title</th>\n      <th>dataset_title</th>\n      <th>dataset_label</th>\n      <th>cleaned_label</th>\n    </tr>\n  </thead>\n  <tbody>\n    <tr>\n      <th>0</th>\n      <td>07cbcedc-9f95-42e3-8340-468a866916b9</td>\n      <td>Social Class Background and the School-to-Work...</td>\n      <td>National Education Longitudinal Study</td>\n      <td>National Education Longitudinal Study</td>\n      <td>national education longitudinal study</td>\n    </tr>\n    <tr>\n      <th>1</th>\n      <td>07cbcedc-9f95-42e3-8340-468a866916b9</td>\n      <td>Social Class Background and the School-to-Work...</td>\n      <td>Education Longitudinal Study</td>\n      <td>Education Longitudinal Study</td>\n      <td>education longitudinal study</td>\n    </tr>\n    <tr>\n      <th>2</th>\n      <td>0b11a364-0d3a-4b3e-86a6-3620e17b0f61</td>\n      <td>Examining Summer Laboratory Research Apprentic...</td>\n      <td>National Education Longitudinal Study</td>\n      <td>National Education Longitudinal Study</td>\n      <td>national education longitudinal study</td>\n    </tr>\n    <tr>\n      <th>3</th>\n      <td>0b11a364-0d3a-4b3e-86a6-3620e17b0f61</td>\n      <td>Examining Summer Laboratory Research Apprentic...</td>\n      <td>Education Longitudinal Study</td>\n      <td>Education Longitudinal Study</td>\n      <td>education longitudinal study</td>\n    </tr>\n    <tr>\n      <th>4</th>\n      <td>09608747-49bf-49dc-8a7c-7b068b463e77</td>\n      <td>Socioeconomic Disadvantage as a Social Determi...</td>\n      <td>National Education Longitudinal Study</td>\n      <td>National Education Longitudinal Study</td>\n      <td>national education longitudinal study</td>\n    </tr>\n    <tr>\n      <th>...</th>\n      <td>...</td>\n      <td>...</td>\n      <td>...</td>\n      <td>...</td>\n      <td>...</td>\n    </tr>\n    <tr>\n      <th>917</th>\n      <td>0a848802-a48c-4d3a-b51e-93cfa6ea2ffd</td>\n      <td>Potential therapeutic targets for combating SA...</td>\n      <td>SARS-CoV-2 genome sequence</td>\n      <td>genome sequence of COVID-19</td>\n      <td>genome sequence of covid 19</td>\n    </tr>\n    <tr>\n      <th>918</th>\n      <td>04004ad0-da3a-4882-9694-6b19a67ccaa8</td>\n      <td>Computational screening of antagonist against ...</td>\n      <td>SARS-CoV-2 genome sequence</td>\n      <td>genome sequence of 2019-nCoV</td>\n      <td>genome sequence of 2019 ncov</td>\n    </tr>\n    <tr>\n      <th>919</th>\n      <td>01336966-228c-412d-85a0-86bb189ddd01</td>\n      <td>Distinguishing L and H phenotypes of COVID-19 ...</td>\n      <td>COVID-19 Image Data Collection</td>\n      <td>COVID-19 Image Data Collection</td>\n      <td>covid 19 image data collection</td>\n    </tr>\n    <tr>\n      <th>920</th>\n      <td>05a7c708-2ee0-4ff0-9e58-b319e467c343</td>\n      <td>Classification of COVID-19 chest X-rays with d...</td>\n      <td>COVID-19 Image Data Collection</td>\n      <td>COVID-19 Image Data Collection</td>\n      <td>covid 19 image data collection</td>\n    </tr>\n    <tr>\n      <th>921</th>\n      <td>01f926c6-a3a6-48c6-b463-1a5fbd0b57ef</td>\n      <td>Explainable Deep Learning for Pulmonary Diseas...</td>\n      <td>COVID-19 Image Data Collection</td>\n      <td>COVID-19 Image Data Collection</td>\n      <td>covid 19 image data collection</td>\n    </tr>\n  </tbody>\n</table>\n<p>922 rows × 5 columns</p>\n</div>"
     },
     "metadata": {},
     "execution_count": 24
    }
   ],
   "source": [
    "df = df.merge(files_df)\n",
    "df"
   ]
  },
  {
   "cell_type": "code",
   "execution_count": 25,
   "metadata": {},
   "outputs": [],
   "source": [
    "df.to_csv('../input/small/train.csv')"
   ]
  },
  {
   "cell_type": "code",
   "execution_count": null,
   "metadata": {},
   "outputs": [],
   "source": []
  }
 ]
}