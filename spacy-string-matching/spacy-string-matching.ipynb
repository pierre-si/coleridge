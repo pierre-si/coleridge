{
 "metadata": {
  "language_info": {
   "codemirror_mode": {
    "name": "ipython",
    "version": 3
   },
   "file_extension": ".py",
   "mimetype": "text/x-python",
   "name": "python",
   "nbconvert_exporter": "python",
   "pygments_lexer": "ipython3",
   "version": "3.9.2"
  },
  "orig_nbformat": 2,
  "kernelspec": {
   "name": "python392jvsc74a57bd02820280be186ab661f9de35bd01829c341881105846ede977025339161cc4480",
   "display_name": "Python 3.9.2 64-bit ('torch': virtualenv)"
  }
 },
 "nbformat": 4,
 "nbformat_minor": 2,
 "cells": [
  {
   "cell_type": "code",
   "execution_count": null,
   "metadata": {},
   "outputs": [],
   "source": [
    "import sys, os\n",
    "\n",
    "loc = os.environ.get('KAGGLE_KERNEL_RUN_TYPE','Localhost')\n",
    "if loc == 'Batch' or loc == 'Interactive':\n",
    "    !pip install --no-index --find-links=../input/coleridge-packages/spacy spacy"
   ]
  },
  {
   "cell_type": "code",
   "execution_count": 12,
   "metadata": {},
   "outputs": [],
   "source": [
    "from pathlib import Path\n",
    "import json, re\n",
    "\n",
    "import pandas as pd\n",
    "import spacy\n",
    "from spacy.matcher import PhraseMatcher\n",
    "print(spacy.__version__)"
   ]
  },
  {
   "cell_type": "code",
   "execution_count": 8,
   "metadata": {},
   "outputs": [],
   "source": [
    "def clean_text(txt):\n",
    "    return re.sub('[^A-Za-z0-9]+', ' ', str(txt).lower())"
   ]
  },
  {
   "cell_type": "code",
   "execution_count": 9,
   "metadata": {},
   "outputs": [],
   "source": [
    "train_df = pd.read_csv('../input/coleridgeinitiative-show-us-the-data/train.csv')\n",
    "\n",
    "dataset_labels = set(train_df['dataset_label'].unique())\n",
    "dataset_titles = set(train_df['dataset_title'].unique())\n",
    "dataset_refs = list(dataset_labels.union(dataset_titles))"
   ]
  },
  {
   "cell_type": "code",
   "execution_count": 10,
   "metadata": {},
   "outputs": [],
   "source": [
    "nlp = spacy.load(\"en_core_web_sm\")\n",
    "nlp.select_pipes(enable=\"\")\n",
    "matcher = PhraseMatcher(nlp.vocab)\n",
    "# Only run nlp.make_doc to speed things up\n",
    "patterns = [nlp.make_doc(text) for text in dataset_refs]\n",
    "matcher.add(\"TerminologyList\", patterns)"
   ]
  },
  {
   "cell_type": "code",
   "execution_count": 22,
   "metadata": {},
   "outputs": [],
   "source": [
    "publications = Path(\"../input/coleridgeinitiative-show-us-the-data/test/\").iterdir()\n",
    "\n",
    "submission_entries = []\n",
    "for publication_path in publications:\n",
    "    pub_matches = []\n",
    "    pub_entry = {'Id': publication_path.stem}\n",
    "    with open(publication_path, \"r\") as f:\n",
    "        publication = json.load(f)\n",
    "    for section in publication:\n",
    "        doc = nlp(section['text'])\n",
    "        for match_id, start, end in matcher(doc):\n",
    "            pub_matches.append(clean_text(doc[start:end].text))\n",
    "    pub_matches = set(pub_matches)\n",
    "    pub_entry['PredictionString'] = '|'.join(pub_matches)\n",
    "    submission_entries.append(pub_entry.copy())"
   ]
  },
  {
   "cell_type": "code",
   "execution_count": 25,
   "metadata": {},
   "outputs": [],
   "source": [
    "pd.DataFrame(submission_entries).to_csv(\"submission.csv\", index=None)"
   ]
  },
  {
   "cell_type": "code",
   "execution_count": null,
   "metadata": {},
   "outputs": [],
   "source": []
  }
 ]
}
